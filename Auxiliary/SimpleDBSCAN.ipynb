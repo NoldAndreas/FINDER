{
 "cells": [
  {
   "cell_type": "code",
   "execution_count": null,
   "metadata": {},
   "outputs": [],
   "source": [
    "#from sklearn.neighbors import NearestNeighbors\n",
    "import numpy as np\n",
    "#from dbscan_inner import dbscan_inner\n",
    "import matplotlib.pyplot as plt\n",
    "#from sklearn.cluster import DBSCAN\n",
    "import time\n",
    "#import seaborn as sns\n",
    "import sys\n",
    "sys.path.append('../FINDER/Code/')\n",
    "from Finder_1d import Finder_1d\n",
    "\n",
    "\n",
    "filename      = \"../ProteinData_ttx_1hr_2/AHA_2_MMStack_Pos0.ome_locs_render_driftcor_filter_render_pix0.02X6f20\";\n",
    "min_samples  = 5;\n",
    "eps     = 0.6;\n"
   ]
  },
  {
   "cell_type": "code",
   "execution_count": null,
   "metadata": {},
   "outputs": [],
   "source": [
    "\n",
    "#filename = \"../MikeData/EGFR-P1-ATTO655_cell_3_MMImages.ome_locs_render\"\n",
    "#filename = \"../MikeData/EGFR-P1-ATTO655_cell_2_MMImages.ome_locs_render_al_linked1sigma\"\n",
    "#min_samples  = 15;\n",
    "#eps     = 0.2;\n",
    "\n",
    "\n",
    "XC = np.loadtxt(filename+\".txt\");\n",
    "print(\"Loaded \"+str(len(XC))+\" points\")\n",
    "\n"
   ]
  },
  {
   "cell_type": "code",
   "execution_count": null,
   "metadata": {},
   "outputs": [],
   "source": [
    "\n",
    "t1 = time.time()\n",
    "DB = DBSCAN(eps=eps,min_samples=min_samples).fit(XC);\n",
    "labels_DBSCAN = DB.labels_;\n",
    "delta_t = time.time()-t1;\n",
    "print(\"Computed in \"+str(np.round(delta_t,2))+\" seconds for \"+str(len(XC))+\" points\");\n",
    "\n",
    "np.savetxt(filename+\"_labels.txt\",labels_DBSCAN,fmt=\"%d\",header=\"DBSCAN label, computation time = \"+str(np.round(delta_t,2))+\" seconds for \"+str(len(XC))+\" points\");"
   ]
  },
  {
   "cell_type": "code",
   "execution_count": null,
   "metadata": {},
   "outputs": [],
   "source": [
    "XC = XC[:20000,:];"
   ]
  },
  {
   "cell_type": "code",
   "execution_count": null,
   "metadata": {},
   "outputs": [],
   "source": [
    "FD = Finder_1d().fit(XC);\n",
    "\n",
    "with open(filename+'_Finder1d.pickle','wb') as handle:\n",
    "        pickle.dump({'FD':FD}, handle,protocol=pickle.HIGHEST_PROTOCOL)   "
   ]
  },
  {
   "cell_type": "code",
   "execution_count": null,
   "metadata": {},
   "outputs": [],
   "source": []
  }
 ],
 "metadata": {
  "kernelspec": {
   "display_name": "Python 3",
   "language": "python",
   "name": "python3"
  },
  "language_info": {
   "codemirror_mode": {
    "name": "ipython",
    "version": 3
   },
   "file_extension": ".py",
   "mimetype": "text/x-python",
   "name": "python",
   "nbconvert_exporter": "python",
   "pygments_lexer": "ipython3",
   "version": "3.8.3"
  }
 },
 "nbformat": 4,
 "nbformat_minor": 4
}