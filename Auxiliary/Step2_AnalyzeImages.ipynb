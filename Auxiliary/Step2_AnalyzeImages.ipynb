{
 "cells": [
  {
   "cell_type": "code",
   "execution_count": null,
   "metadata": {},
   "outputs": [],
   "source": [
    "import numpy as np\n",
    "from PIL import Image\n",
    "import seaborn as sns;\n",
    "import matplotlib.pyplot as plt\n",
    "import pandas as pd\n",
    "\n",
    "from skimage import measure\n",
    "from skimage import filters\n",
    "from skimage.filters import threshold_otsu"
   ]
  },
  {
   "cell_type": "code",
   "execution_count": null,
   "metadata": {},
   "outputs": [],
   "source": [
    "# Parameters\n",
    "intensity_quantile_cutoff = 0.95;\n",
    "sigma_gaussian_filter     = 5;\n",
    "size_quantile_connected_components_include = 0.95;\n",
    "pad_cell_border = 20;"
   ]
  },
  {
   "cell_type": "code",
   "execution_count": null,
   "metadata": {},
   "outputs": [],
   "source": [
    "#filename      = \"../../ProteinData_ttx_1hr_2/AHA_2_MMStack_Pos0.ome_locs_render_driftcor_filter_render_pix0.02X6f20\";\n",
    "#filename = \"../MikeData/EGFR-P1-ATTO655_cell_3_MMImages.ome_locs_render\"\n",
    "#filename = \"../../MikeData/EGFR-P1-ATTO655_cell_2_MMImages.ome_locs_render_al_linked1sigma\"\n",
    "filename = '../../AnalysisDataOrganized/Mike_190516_EGFR-P1-ATTO655_cell_2_MMImages.ome_locs_render_al_linked1sigma/Output/heatmap_XC_H.txt'"
   ]
  },
  {
   "cell_type": "code",
   "execution_count": null,
   "metadata": {},
   "outputs": [],
   "source": [
    "H = np.loadtxt(filename);\n",
    "#X = np.loadtxt(filename+\"_heatmap_X.txt\");\n",
    "#Y = np.loadtxt(filename+\"_heatmap_Y.txt\");"
   ]
  },
  {
   "cell_type": "code",
   "execution_count": null,
   "metadata": {},
   "outputs": [],
   "source": [
    "H.shape"
   ]
  },
  {
   "cell_type": "code",
   "execution_count": null,
   "metadata": {},
   "outputs": [],
   "source": [
    "im_arr = H;"
   ]
  },
  {
   "cell_type": "code",
   "execution_count": null,
   "metadata": {},
   "outputs": [],
   "source": [
    "#im_arr = ((H/np.max(H))*255).astype(np.uint8)"
   ]
  },
  {
   "cell_type": "code",
   "execution_count": null,
   "metadata": {},
   "outputs": [],
   "source": [
    "#im = Image.open(filename)\n",
    "#im_arr = np.array(im);"
   ]
  },
  {
   "cell_type": "code",
   "execution_count": null,
   "metadata": {},
   "outputs": [],
   "source": [
    "sns.heatmap(H,vmin=0,vmax=10);"
   ]
  },
  {
   "cell_type": "code",
   "execution_count": null,
   "metadata": {},
   "outputs": [],
   "source": [
    "fig,ax = plt.subplots(1,1,figsize=(5,5))\n",
    "ax.imshow(H,cmap='gray',vmax=5);\n",
    "ax.axis('off');\n",
    "ax.set_aspect(1)\n",
    "#plt.savefig(outputfolder+name+'image.pdf')"
   ]
  },
  {
   "cell_type": "markdown",
   "metadata": {},
   "source": [
    "# Intensity cutoff at X% quantile"
   ]
  },
  {
   "cell_type": "code",
   "execution_count": null,
   "metadata": {},
   "outputs": [],
   "source": [
    "H[H > np.quantile(H,intensity_quantile_cutoff)] = np.quantile(H,intensity_quantile_cutoff);"
   ]
  },
  {
   "cell_type": "markdown",
   "metadata": {},
   "source": [
    "## Gaussian Filter"
   ]
  },
  {
   "cell_type": "code",
   "execution_count": null,
   "metadata": {},
   "outputs": [],
   "source": [
    "g_img = filters.gaussian(im_arr,sigma=sigma_gaussian_filter)"
   ]
  },
  {
   "cell_type": "code",
   "execution_count": null,
   "metadata": {},
   "outputs": [],
   "source": [
    "fig,ax = plt.subplots(1,2,figsize=(16,8))\n",
    "ax[0].imshow(im_arr,cmap='gray',vmin=0,vmax=1)\n",
    "ax[0].axis('off')\n",
    "ax[1].imshow(g_img,cmap='gray')\n",
    "ax[1].axis('off')\n",
    "plt.savefig(filename+'_step_1_GaussianFilter.pdf')"
   ]
  },
  {
   "cell_type": "markdown",
   "metadata": {},
   "source": [
    "## Thresholding"
   ]
  },
  {
   "cell_type": "code",
   "execution_count": null,
   "metadata": {},
   "outputs": [],
   "source": [
    "#g_img2 = filters.gaussian(g_img,sigma=5)\n",
    "image  = g_img\n",
    "thresh = threshold_otsu(image)\n",
    "binary = image > thresh\n",
    "\n",
    "fig, axes = plt.subplots(ncols=3, figsize=(15, 5))\n",
    "ax = axes.ravel()\n",
    "ax[0] = plt.subplot(1, 3, 1)\n",
    "ax[1] = plt.subplot(1, 3, 2)\n",
    "ax[2] = plt.subplot(1, 3, 3, sharex=ax[0], sharey=ax[0])\n",
    "\n",
    "ax[0].imshow(image, cmap=plt.cm.gray)\n",
    "ax[0].set_title('Original')\n",
    "ax[0].axis('off')\n",
    "\n",
    "ax[1].hist(image.ravel(), bins=256)\n",
    "ax[1].set_title('Histogram')\n",
    "ax[1].axvline(thresh, color='r')\n",
    "\n",
    "ax[2].imshow(binary, cmap=plt.cm.gray)\n",
    "ax[2].set_title('Thresholded')\n",
    "ax[2].axis('off')\n",
    "\n",
    "plt.savefig(filename+'_step_2_Thresholding.pdf')"
   ]
  },
  {
   "cell_type": "code",
   "execution_count": null,
   "metadata": {},
   "outputs": [],
   "source": [
    "labels = measure.label(binary);"
   ]
  },
  {
   "cell_type": "code",
   "execution_count": null,
   "metadata": {},
   "outputs": [],
   "source": [
    "plt.figure(figsize=(10,10))\n",
    "plt.imshow(labels, cmap='nipy_spectral');\n",
    "plt.savefig(filename+'_step_3_Components.pdf')"
   ]
  },
  {
   "cell_type": "markdown",
   "metadata": {},
   "source": [
    "# Decide which areas to include"
   ]
  },
  {
   "cell_type": "code",
   "execution_count": null,
   "metadata": {},
   "outputs": [],
   "source": [
    "labels_noNoise = (labels>0);\n",
    "\n",
    "H = (labels>0);\n",
    "for i in np.arange(pad_cell_border):\n",
    "    H[1:-1,1:-1] = (H[1:-1,1:-1]) | (H[:-2,1:-1]) | (H[2:,1:-1]) | (H[1:-1,:-2]) | (H[1:-1,2:]);\n",
    "    \n",
    "im_noise = (1-H);    "
   ]
  },
  {
   "cell_type": "code",
   "execution_count": null,
   "metadata": {},
   "outputs": [],
   "source": [
    "df_lab = pd.DataFrame();\n",
    "df_lab['labels'] = (labels[labels>0]).flatten()\n",
    "df_lab['index1'] = df_lab.index\n",
    "labG = df_lab.groupby(by='labels');"
   ]
  },
  {
   "cell_type": "code",
   "execution_count": null,
   "metadata": {},
   "outputs": [],
   "source": [
    "print(labG.count().idxmax())"
   ]
  },
  {
   "cell_type": "code",
   "execution_count": null,
   "metadata": {},
   "outputs": [],
   "source": [
    "im_signal = np.zeros_like(H,dtype=np.bool_);\n",
    "im_signal[labels==(labG.count().idxmax())['index1']] = True;"
   ]
  },
  {
   "cell_type": "code",
   "execution_count": null,
   "metadata": {},
   "outputs": [],
   "source": [
    "#size = [];\n",
    "#label = [];\n",
    "#for l in np.unique(labels):\n",
    "#    size.append(np.sum(labels==l));\n",
    "#    label.append(l);\n",
    "#    \n",
    "#df = pd.DataFrame();\n",
    "#df[\"size\"]  = size;\n",
    "#df[\"label\"] = label;\n",
    "#df = df.sort_values('size',ignore_index=True,ascending=False)\n",
    "#\n",
    "#df['include'] = False;\n",
    "#mark = (df['size'] >= np.quantile(df['size'],\\\n",
    "#size_quantile_connected_components_include))&(df['label']!=0)\n",
    "#df.loc[mark,'include'] = True;\n",
    "#\n",
    "#im_signal = np.zeros_like(H,dtype=np.bool);\n",
    "#for l in np.unique(df.loc[df['include']==True,'label']):\n",
    "#    print(l)\n",
    "#    im_signal[labels==l] = True;"
   ]
  },
  {
   "cell_type": "code",
   "execution_count": null,
   "metadata": {},
   "outputs": [],
   "source": [
    "fig, axs = plt.subplots(ncols=3, figsize=(15, 5))\n",
    "axs[0].imshow(im_signal);\n",
    "axs[0].set_title('signal');\n",
    "axs[1].imshow(im_noise);\n",
    "axs[1].set_title('noise');\n",
    "axs[2].imshow((im_noise==0)*(im_signal==0));\n",
    "axs[2].set_title('neither noise nor signal');\n",
    "plt.savefig(filename+'_Step4_Mask.pdf')"
   ]
  },
  {
   "cell_type": "code",
   "execution_count": null,
   "metadata": {},
   "outputs": [],
   "source": [
    "np.savetxt(filename+\"_heatmap_mask_signal.txt\",im_signal,fmt=\"%d\");\n",
    "np.savetxt(filename+\"_heatmap_mask_noise.txt\",im_noise,fmt=\"%d\");"
   ]
  },
  {
   "cell_type": "code",
   "execution_count": null,
   "metadata": {},
   "outputs": [],
   "source": []
  }
 ],
 "metadata": {
  "kernelspec": {
   "display_name": "Python 3",
   "language": "python",
   "name": "python3"
  },
  "language_info": {
   "codemirror_mode": {
    "name": "ipython",
    "version": 3
   },
   "file_extension": ".py",
   "mimetype": "text/x-python",
   "name": "python",
   "nbconvert_exporter": "python",
   "pygments_lexer": "ipython3",
   "version": "3.8.3"
  }
 },
 "nbformat": 4,
 "nbformat_minor": 4
}
