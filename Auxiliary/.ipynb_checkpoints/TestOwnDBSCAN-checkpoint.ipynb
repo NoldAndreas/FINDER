{
 "cells": [
  {
   "cell_type": "code",
   "execution_count": 18,
   "metadata": {},
   "outputs": [],
   "source": [
    "from sklearn.neighbors import NearestNeighbors\n",
    "import numpy as np\n",
    "from dbscan_inner import dbscan_inner\n",
    "from sklearn.cluster import DBSCAN"
   ]
  },
  {
   "cell_type": "code",
   "execution_count": 19,
   "metadata": {},
   "outputs": [],
   "source": [
    "min_samples  = 5;\n",
    "eps     = 0.6;"
   ]
  },
  {
   "cell_type": "code",
   "execution_count": 20,
   "metadata": {},
   "outputs": [],
   "source": [
    "filename      = \"../ProteinData_ttx_1hr_2/AHA_2_MMStack_Pos0.ome_locs_render_driftcor_filter_render_pix0.02X6f20\";\n",
    "#filename = \"../MikeData/EGFR-P1-ATTO655_cell_3_MMImages.ome_locs_render\"\n",
    "#filename = \"../MikeData/EGFR-P1-ATTO655_cell_2_MMImages.ome_locs_render_al_linked1sigma\""
   ]
  },
  {
   "cell_type": "code",
   "execution_count": 21,
   "metadata": {},
   "outputs": [],
   "source": [
    "XC = np.loadtxt(filename+\".txt\");"
   ]
  },
  {
   "cell_type": "code",
   "execution_count": 22,
   "metadata": {},
   "outputs": [],
   "source": [
    "X = XC[:10000,:];"
   ]
  },
  {
   "cell_type": "code",
   "execution_count": 23,
   "metadata": {},
   "outputs": [],
   "source": [
    "neighbors_model = NearestNeighbors(\n",
    "    radius=eps, algorithm='auto',\n",
    "    leaf_size=30, metric='euclidean',\n",
    "    metric_params=None, p=None, n_jobs=None)\n",
    "neighbors_model.fit(X)\n",
    "# This has worst case O(n^2) memory complexity\n",
    "neighborhoods = neighbors_model.radius_neighbors(X,return_distance=False)\n",
    "\n",
    "n_neighbors = np.array([len(neighbors)\n",
    "                        for neighbors in neighborhoods])\n",
    "\n",
    "# Initially, all samples are noise.\n",
    "labels = np.full(X.shape[0], -1, dtype=np.intp)\n",
    "\n",
    "# A list of all core samples found.\n",
    "core_samples = np.asarray(n_neighbors >= min_samples,dtype=np.uint8)\n",
    "dbscan_inner(core_samples, neighborhoods, labels)\n"
   ]
  },
  {
   "cell_type": "code",
   "execution_count": 24,
   "metadata": {},
   "outputs": [
    {
     "data": {
      "text/plain": [
       "array([  0,   1,   2, ..., 341, 392, 433])"
      ]
     },
     "execution_count": 24,
     "metadata": {},
     "output_type": "execute_result"
    }
   ],
   "source": [
    "labels"
   ]
  },
  {
   "cell_type": "code",
   "execution_count": 25,
   "metadata": {},
   "outputs": [],
   "source": [
    "DB = DBSCAN(eps=eps,min_samples=min_samples).fit(X);\n",
    "labels_DBSCAN = DB.labels_;"
   ]
  },
  {
   "cell_type": "code",
   "execution_count": 26,
   "metadata": {},
   "outputs": [
    {
     "data": {
      "text/plain": [
       "0"
      ]
     },
     "execution_count": 26,
     "metadata": {},
     "output_type": "execute_result"
    }
   ],
   "source": [
    "np.sum(labels_DBSCAN - labels)"
   ]
  },
  {
   "cell_type": "code",
   "execution_count": 27,
   "metadata": {},
   "outputs": [
    {
     "data": {
      "text/plain": [
       "array([  0,   1,   2, ..., 341, 392, 433])"
      ]
     },
     "execution_count": 27,
     "metadata": {},
     "output_type": "execute_result"
    }
   ],
   "source": [
    "labels_DBSCAN"
   ]
  },
  {
   "cell_type": "code",
   "execution_count": null,
   "metadata": {},
   "outputs": [],
   "source": []
  }
 ],
 "metadata": {
  "kernelspec": {
   "display_name": "Python 3",
   "language": "python",
   "name": "python3"
  }
 },
 "nbformat": 4,
 "nbformat_minor": 4
}
