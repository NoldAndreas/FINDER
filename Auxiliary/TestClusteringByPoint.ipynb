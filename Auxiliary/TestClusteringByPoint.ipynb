{
 "cells": [
  {
   "cell_type": "code",
   "execution_count": 92,
   "metadata": {},
   "outputs": [
    {
     "ename": "ImportError",
     "evalue": "attempted relative import with no known parent package",
     "output_type": "error",
     "traceback": [
      "\u001b[0;31m---------------------------------------------------------------------------\u001b[0m",
      "\u001b[0;31mImportError\u001b[0m                               Traceback (most recent call last)",
      "\u001b[0;32m<ipython-input-92-241937e46ff7>\u001b[0m in \u001b[0;36m<module>\u001b[0;34m\u001b[0m\n\u001b[1;32m     10\u001b[0m \u001b[0;32mfrom\u001b[0m \u001b[0mFinder_1d\u001b[0m \u001b[0;32mimport\u001b[0m \u001b[0mFinder_1d\u001b[0m\u001b[0;34m\u001b[0m\u001b[0;34m\u001b[0m\u001b[0m\n\u001b[1;32m     11\u001b[0m \u001b[0;32mfrom\u001b[0m \u001b[0mDbscanLoop\u001b[0m \u001b[0;32mimport\u001b[0m \u001b[0mDbscanLoop\u001b[0m\u001b[0;34m\u001b[0m\u001b[0;34m\u001b[0m\u001b[0m\n\u001b[0;32m---> 12\u001b[0;31m \u001b[0;32mfrom\u001b[0m \u001b[0mdbscan_class\u001b[0m \u001b[0;32mimport\u001b[0m \u001b[0mdbscan\u001b[0m\u001b[0;34m\u001b[0m\u001b[0;34m\u001b[0m\u001b[0m\n\u001b[0m\u001b[1;32m     13\u001b[0m \u001b[0;34m\u001b[0m\u001b[0m\n\u001b[1;32m     14\u001b[0m \u001b[0;32mfrom\u001b[0m \u001b[0msklearn\u001b[0m\u001b[0;34m.\u001b[0m\u001b[0mneighbors\u001b[0m \u001b[0;32mimport\u001b[0m \u001b[0mKNeighborsClassifier\u001b[0m\u001b[0;34m\u001b[0m\u001b[0;34m\u001b[0m\u001b[0m\n",
      "\u001b[0;32m~/Documents/NoiseRecognizer_WorkingVersion/Auxiliary/dbscan_class.py\u001b[0m in \u001b[0;36m<module>\u001b[0;34m\u001b[0m\n\u001b[1;32m     14\u001b[0m \u001b[0;32mfrom\u001b[0m \u001b[0mscipy\u001b[0m \u001b[0;32mimport\u001b[0m \u001b[0msparse\u001b[0m\u001b[0;34m\u001b[0m\u001b[0;34m\u001b[0m\u001b[0m\n\u001b[1;32m     15\u001b[0m \u001b[0;34m\u001b[0m\u001b[0m\n\u001b[0;32m---> 16\u001b[0;31m \u001b[0;32mfrom\u001b[0m \u001b[0;34m.\u001b[0m\u001b[0;34m.\u001b[0m\u001b[0mbase\u001b[0m \u001b[0;32mimport\u001b[0m \u001b[0mBaseEstimator\u001b[0m\u001b[0;34m,\u001b[0m \u001b[0mClusterMixin\u001b[0m\u001b[0;34m\u001b[0m\u001b[0;34m\u001b[0m\u001b[0m\n\u001b[0m\u001b[1;32m     17\u001b[0m \u001b[0;32mfrom\u001b[0m \u001b[0;34m.\u001b[0m\u001b[0;34m.\u001b[0m\u001b[0mutils\u001b[0m\u001b[0;34m.\u001b[0m\u001b[0mvalidation\u001b[0m \u001b[0;32mimport\u001b[0m \u001b[0m_check_sample_weight\u001b[0m\u001b[0;34m,\u001b[0m \u001b[0m_deprecate_positional_args\u001b[0m\u001b[0;34m\u001b[0m\u001b[0;34m\u001b[0m\u001b[0m\n\u001b[1;32m     18\u001b[0m \u001b[0;32mfrom\u001b[0m \u001b[0;34m.\u001b[0m\u001b[0;34m.\u001b[0m\u001b[0mneighbors\u001b[0m \u001b[0;32mimport\u001b[0m \u001b[0mNearestNeighbors\u001b[0m\u001b[0;34m\u001b[0m\u001b[0;34m\u001b[0m\u001b[0m\n",
      "\u001b[0;31mImportError\u001b[0m: attempted relative import with no known parent package"
     ]
    }
   ],
   "source": [
    "import numpy as np\n",
    "from PIL import Image\n",
    "import seaborn as sns;\n",
    "import matplotlib.pyplot as plt\n",
    "import pandas as pd\n",
    "import time\n",
    "\n",
    "import sys\n",
    "sys.path.append('../FINDER/Code/')\n",
    "from Finder import Finder\n",
    "from DbscanLoop import DbscanLoop\n",
    "from dbscan_class import dbscan\n",
    "\n",
    "from sklearn.neighbors import KNeighborsClassifier\n",
    "from sklearn.neighbors import NearestNeighbors"
   ]
  },
  {
   "cell_type": "code",
   "execution_count": 9,
   "metadata": {},
   "outputs": [],
   "source": [
    "minPts  = 5;\n",
    "epsilon = 0.6;\n",
    "\n",
    "ind_start = 100;"
   ]
  },
  {
   "cell_type": "code",
   "execution_count": 10,
   "metadata": {},
   "outputs": [],
   "source": [
    "filename      = \"../ProteinData_ttx_1hr_2/AHA_2_MMStack_Pos0.ome_locs_render_driftcor_filter_render_pix0.02X6f20\";\n",
    "#filename = \"../MikeData/EGFR-P1-ATTO655_cell_3_MMImages.ome_locs_render\"\n",
    "#filename = \"../MikeData/EGFR-P1-ATTO655_cell_2_MMImages.ome_locs_render_al_linked1sigma\""
   ]
  },
  {
   "cell_type": "code",
   "execution_count": null,
   "metadata": {},
   "outputs": [],
   "source": []
  },
  {
   "cell_type": "code",
   "execution_count": 11,
   "metadata": {},
   "outputs": [],
   "source": [
    "XC = np.loadtxt(filename+\".txt\");"
   ]
  },
  {
   "cell_type": "code",
   "execution_count": 31,
   "metadata": {},
   "outputs": [],
   "source": [
    "XC = XC[:2000,:]"
   ]
  },
  {
   "cell_type": "code",
   "execution_count": 32,
   "metadata": {},
   "outputs": [],
   "source": [
    "neigh = NearestNeighbors(n_neighbors=3);\n",
    "neigh.fit(XC);"
   ]
  },
  {
   "cell_type": "code",
   "execution_count": 33,
   "metadata": {},
   "outputs": [],
   "source": [
    "def CheckIfPointIsCore(ind):\n",
    "    neigh_dist,neigh_ind = neigh.kneighbors(X=[XC[ind,:]],n_neighbors=minPts, return_distance=True);\n",
    "    if(neigh_dist[0][-1] < epsilon):\n",
    "        return True,neigh_ind[0][1:];\n",
    "\n",
    "    else:\n",
    "        return False,[];"
   ]
  },
  {
   "cell_type": "code",
   "execution_count": 86,
   "metadata": {},
   "outputs": [],
   "source": [
    "def CheckIfPointIsCoreOfCores(ind,points_checked):\n",
    "    \n",
    "    # Input: \n",
    "    #  - index of point to check\n",
    "    #  - list of indices of points checked that they are (simple) cores\n",
    "    #\n",
    "    # Output:\n",
    "    #  - boolean indicating whether point is core of cores\n",
    "    #  - list of points checked that are simple chores    \n",
    "    \n",
    "    points_to_check = [];\n",
    "    \n",
    "    #check for min requrirement\n",
    "    is_core,neigh_ind = CheckIfPointIsCore(ind);\n",
    "    \n",
    "    if(not is_core):\n",
    "        return False,[];\n",
    "\n",
    "   # print(neigh_ind)\n",
    "    points_to_check   += list(neigh_ind);\n",
    "    points_checked    += [ind];\n",
    "\n",
    "    if(False):\n",
    "        print(\"Points checked:\")\n",
    "        print(points_checked)\n",
    "        print(\"Points to check:\")\n",
    "        print(points_to_check)\n",
    "\n",
    "\n",
    "    while(points_to_check != []):\n",
    "        ind_ = points_to_check[-1];\n",
    "        points_to_check = points_to_check[:-1];\n",
    "        is_core,neigh_ind = CheckIfPointIsCore(ind_);\n",
    "        \n",
    "        if(is_core):\n",
    "            points_checked += [ind_];\n",
    "        else:\n",
    "            return False,points_checked;\n",
    "        \n",
    "        neigh_ind_clean = [x for x in neigh_ind if x not in points_checked];\n",
    "        points_to_check += list(neigh_ind_clean);\n",
    "#        points_to_check = [x for x in points_to_check if x not in points_checked];\n",
    "        \n",
    "        points_to_check = list(np.unique(points_to_check))\n",
    "        \n",
    "        if(False):\n",
    "            print(\"Points checked:\")\n",
    "            print(points_checked)        \n",
    "            print(\"Points to check:\")\n",
    "            print(points_to_check)\n",
    "\n",
    "    \n",
    "    return True,points_checked"
   ]
  },
  {
   "cell_type": "code",
   "execution_count": 91,
   "metadata": {},
   "outputs": [
    {
     "name": "stdout",
     "output_type": "stream",
     "text": [
      "computation time: 7.838449239730835\n"
     ]
    }
   ],
   "source": [
    "t_1 = time.time()\n",
    "points_checked_all = [];\n",
    "is_core_all = np.zeros((len(XC),),dtype=bool)\n",
    "for ind in np.arange(len(XC)):\n",
    "    is_core_,points_checked_all = CheckIfPointIsCoreOfCores(ind,points_checked_all);\n",
    "    is_core_all[ind] = is_core_;\n",
    "    \n",
    "print(\"computation time: \"+str(time.time()-t_1));"
   ]
  },
  {
   "cell_type": "code",
   "execution_count": 89,
   "metadata": {},
   "outputs": [],
   "source": [
    "DB = DbscanLoop(eps=epsilon,min_samples=minPts).fit(XC);\n",
    "labels = DB.labels_;\n",
    "is_core_DB = (labels>-1)"
   ]
  },
  {
   "cell_type": "code",
   "execution_count": 90,
   "metadata": {},
   "outputs": [
    {
     "name": "stdout",
     "output_type": "stream",
     "text": [
      "1464\n",
      "1419\n"
     ]
    }
   ],
   "source": [
    "print(np.sum(is_core_DB))\n",
    "print(np.sum(is_core_all))"
   ]
  },
  {
   "cell_type": "code",
   "execution_count": 72,
   "metadata": {},
   "outputs": [
    {
     "name": "stdout",
     "output_type": "stream",
     "text": [
      "True\n"
     ]
    },
    {
     "data": {
      "text/plain": [
       "<matplotlib.collections.PathCollection at 0x7f9dbad02d30>"
      ]
     },
     "execution_count": 72,
     "metadata": {},
     "output_type": "execute_result"
    },
    {
     "data": {
      "image/png": "[encoded data removed]",
      "text/plain": [
       "<Figure size 432x288 with 1 Axes>"
      ]
     },
     "metadata": {
      "needs_background": "light"
     },
     "output_type": "display_data"
    }
   ],
   "source": [
    "is_core,points_checked = CheckIfPointIsCoreOfCores(2,[]);\n",
    "print(is_core)\n",
    "plt.scatter(XC[points_checked,0],XC[points_checked,1])"
   ]
  },
  {
   "cell_type": "code",
   "execution_count": 69,
   "metadata": {},
   "outputs": [
    {
     "name": "stdout",
     "output_type": "stream",
     "text": [
      "[  7  37 100 155]\n",
      "[  7  37 100 155 919]\n",
      "[  7  37 100 155]\n",
      "[  7  37 100 155 919]\n"
     ]
    }
   ],
   "source": [
    "if(neigh_dist[0][-1] < epsilon):\n",
    "    #Initial Cluster detected\n",
    "    indices_to_process = list(neigh_ind[0]);\n",
    "    cluster_indices += new_indices\n",
    "    \n",
    "    c = 0;\n",
    "    while ((indices_to_process != []) and (c<4)):\n",
    "        #Go through all additional points: \n",
    "        ind         = new_indices[-1];\n",
    "        new_indices = new_indices[:-1];         \n",
    "        neigh_dist,neigh_ind = neigh.kneighbors(X=[XC_test[ind,:]],n_neighbors=minPts, return_distance=True);\n",
    "        if(neigh_dist[0][-1] < epsilon):\n",
    "            #Add other, \n",
    "            new_indices         = list(neigh_ind[0][1:]);\n",
    "            indices_to_process += new_indices\n",
    "            cluster_indices    +=\n",
    "        \n",
    "        indices_to_process = np.unique(indices_to_process)\n",
    "        \n",
    "        print()\n",
    "        c = c + 1;\n"
   ]
  },
  {
   "cell_type": "code",
   "execution_count": 55,
   "metadata": {},
   "outputs": [
    {
     "data": {
      "text/plain": [
       "[100, 155, 37, 7, 919]"
      ]
     },
     "execution_count": 55,
     "metadata": {},
     "output_type": "execute_result"
    }
   ],
   "source": [
    "list(neigh_ind[0])"
   ]
  },
  {
   "cell_type": "code",
   "execution_count": 60,
   "metadata": {},
   "outputs": [
    {
     "data": {
      "text/plain": [
       "[100, 155, 37, 919]"
      ]
     },
     "execution_count": 60,
     "metadata": {},
     "output_type": "execute_result"
    }
   ],
   "source": [
    "[item for item in cluster_indices if item not in [7]]"
   ]
  },
  {
   "cell_type": "code",
   "execution_count": null,
   "metadata": {},
   "outputs": [],
   "source": []
  }
 ],
 "metadata": {
  "kernelspec": {
   "display_name": "Python 3",
   "language": "python",
   "name": "python3"
  },
  "language_info": {
   "codemirror_mode": {
    "name": "ipython",
    "version": 3
   },
   "file_extension": ".py",
   "mimetype": "text/x-python",
   "name": "python",
   "nbconvert_exporter": "python",
   "pygments_lexer": "ipython3",
   "version": "3.8.3"
  }
 },
 "nbformat": 4,
 "nbformat_minor": 4
}
