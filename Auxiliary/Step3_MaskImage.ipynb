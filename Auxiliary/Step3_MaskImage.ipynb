{
 "cells": [
  {
   "cell_type": "code",
   "execution_count": null,
   "metadata": {},
   "outputs": [],
   "source": [
    "import numpy as np\n",
    "from PIL import Image\n",
    "import seaborn as sns;\n",
    "import matplotlib.pyplot as plt\n",
    "import pandas as pd\n",
    "\n",
    "from skimage import measure\n",
    "from skimage import filters\n",
    "from skimage.filters import threshold_otsu"
   ]
  },
  {
   "cell_type": "code",
   "execution_count": null,
   "metadata": {},
   "outputs": [],
   "source": [
    "XC = XC[:2000]\n"
   ]
  },
  {
   "cell_type": "code",
   "execution_count": null,
   "metadata": {},
   "outputs": [],
   "source": [
    "X.shape"
   ]
  },
  {
   "cell_type": "code",
   "execution_count": null,
   "metadata": {},
   "outputs": [],
   "source": [
    "X,Y = np.meshgrid(np.linspace(0,500,3000),np.linspace(0,500,10))"
   ]
  },
  {
   "cell_type": "code",
   "execution_count": null,
   "metadata": {},
   "outputs": [],
   "source": [
    "def GetIndexTest(X,Y,XC):\n",
    "\n",
    "    n_x,n_y     = X.shape[1],X.shape[0];\n",
    "    dx,dy       = X[1,1]-X[0,0],Y[1,1]-Y[0,0];\n",
    "    x_min,y_min = X[0,0],Y[0,0];\n",
    "\n",
    "    x_index = (np.round((XC[:,0]-x_min)/dx)).astype(int)\n",
    "    y_index = (np.round((XC[:,1]-y_min)/dy)).astype(int)\n",
    "    \n",
    "    x_index = np.minimum(n_x-1,np.maximum(0,x_index));\n",
    "    y_index = np.minimum(n_y-1,np.maximum(0,y_index));    \n",
    "    \n",
    "#    print(x_index)\n",
    " #   print(y_index)  \n",
    "    return y_index*n_x+x_index"
   ]
  },
  {
   "cell_type": "code",
   "execution_count": null,
   "metadata": {},
   "outputs": [],
   "source": [
    "def TestIndexing(X,Y,XC):\n",
    "    idx = GetIndexTest(X,Y,XC);\n",
    "    X_flat = X.flatten()\n",
    "    Y_flat = Y.flatten()\n",
    "    dx = (X[1,1]-X[0,0])/2;\n",
    "    dy = (Y[1,1]-Y[0,0])/2;    \n",
    "    print(XC[:,0]-X_flat[idx]<dx);\n",
    "    print(XC[:,1]-Y_flat[idx]<dy);\n",
    "    print('Max distance dx/2: '+str(dx))\n",
    "    print('Max distance dy/2: '+str(dy))"
   ]
  },
  {
   "cell_type": "code",
   "execution_count": null,
   "metadata": {},
   "outputs": [],
   "source": [
    "TestIndexing(X,Y,XC[80:120,:])"
   ]
  },
  {
   "cell_type": "code",
   "execution_count": null,
   "metadata": {},
   "outputs": [],
   "source": [
    "XC[:3,:]"
   ]
  },
  {
   "cell_type": "code",
   "execution_count": null,
   "metadata": {},
   "outputs": [],
   "source": [
    "np.min(Y)"
   ]
  },
  {
   "cell_type": "code",
   "execution_count": null,
   "metadata": {},
   "outputs": [],
   "source": [
    "Y[0,0]"
   ]
  },
  {
   "cell_type": "code",
   "execution_count": null,
   "metadata": {},
   "outputs": [],
   "source": [
    "X_flat"
   ]
  },
  {
   "cell_type": "code",
   "execution_count": null,
   "metadata": {},
   "outputs": [],
   "source": [
    "X.shape[0]"
   ]
  },
  {
   "cell_type": "code",
   "execution_count": null,
   "metadata": {},
   "outputs": [],
   "source": [
    "XX,YY = np.meshgrid([1,2,3],[4,5]);"
   ]
  },
  {
   "cell_type": "code",
   "execution_count": null,
   "metadata": {},
   "outputs": [],
   "source": [
    "YY.shape"
   ]
  },
  {
   "cell_type": "code",
   "execution_count": null,
   "metadata": {},
   "outputs": [],
   "source": [
    "len(np.unique(Y))"
   ]
  },
  {
   "cell_type": "code",
   "execution_count": null,
   "metadata": {},
   "outputs": [],
   "source": [
    "#*****"
   ]
  },
  {
   "cell_type": "code",
   "execution_count": null,
   "metadata": {},
   "outputs": [],
   "source": [
    "n = 1000;"
   ]
  },
  {
   "cell_type": "code",
   "execution_count": null,
   "metadata": {},
   "outputs": [],
   "source": [
    "filename      = \"../../ProteinData_ttx_1hr_2/AHA_2_MMStack_Pos0.ome_locs_render_driftcor_filter_render_pix0.02X6f20\";\n",
    "#filename = \"../MikeData/EGFR-P1-ATTO655_cell_3_MMImages.ome_locs_render\"\n",
    "#filename = \"../../MikeData/EGFR-P1-ATTO655_cell_2_MMImages.ome_locs_render_al_linked1sigma\""
   ]
  },
  {
   "cell_type": "code",
   "execution_count": null,
   "metadata": {},
   "outputs": [],
   "source": [
    "XC = np.loadtxt(filename+\".txt\");"
   ]
  },
  {
   "cell_type": "code",
   "execution_count": null,
   "metadata": {},
   "outputs": [],
   "source": [
    "H_mask_signal = np.loadtxt(filename+\"_heatmap_mask_signal.txt\");\n",
    "H_mask_noise  = np.loadtxt(filename+\"_heatmap_mask_noise.txt\");"
   ]
  },
  {
   "cell_type": "code",
   "execution_count": null,
   "metadata": {},
   "outputs": [],
   "source": [
    "H = np.loadtxt(filename+\"_heatmap_D.txt\");\n",
    "X = np.loadtxt(filename+\"_heatmap_X.txt\");\n",
    "Y = np.loadtxt(filename+\"_heatmap_Y.txt\");"
   ]
  },
  {
   "cell_type": "code",
   "execution_count": null,
   "metadata": {},
   "outputs": [],
   "source": [
    "X_flat = X.flatten()\n",
    "Y_flat = Y.flatten()\n",
    "H_noise_flat = (H_mask_noise.T).flatten()\n",
    "H_signal_flat = (H_mask_signal.T).flatten()"
   ]
  },
  {
   "cell_type": "code",
   "execution_count": null,
   "metadata": {},
   "outputs": [],
   "source": [
    "H_mask_noise.shape"
   ]
  },
  {
   "cell_type": "code",
   "execution_count": null,
   "metadata": {},
   "outputs": [],
   "source": [
    "if(X.shape != (n,n)):\n",
    "    raise Exception(\"Wrong dimension\");"
   ]
  },
  {
   "cell_type": "code",
   "execution_count": null,
   "metadata": {},
   "outputs": [],
   "source": [
    "XC_u = np.unique(X);\n",
    "dx = np.mean(XC_u[1:]-XC_u[:-1])\n",
    "x_min = np.min(XC_u);\n",
    "\n",
    "YC_u = np.unique(Y);\n",
    "dy = np.mean(YC_u[1:]-YC_u[:-1])\n",
    "y_min = np.min(YC_u);"
   ]
  },
  {
   "cell_type": "code",
   "execution_count": null,
   "metadata": {},
   "outputs": [],
   "source": [
    "dy"
   ]
  },
  {
   "cell_type": "code",
   "execution_count": null,
   "metadata": {},
   "outputs": [],
   "source": [
    "print(X[0,1]-X[0,0])\n",
    "print(Y[1,1]-Y[0,0])"
   ]
  },
  {
   "cell_type": "code",
   "execution_count": null,
   "metadata": {},
   "outputs": [],
   "source": [
    "def GetIndex(xc):\n",
    "    x_index = (np.round((xc[:,0]-x_min)/dx)).astype(int)\n",
    "    y_index = (np.round((xc[:,1]-y_min)/dy)).astype(int)\n",
    "    \n",
    "    x_index = np.minimum(n-1,np.maximum(0,x_index));\n",
    "    y_index = np.minimum(n-1,np.maximum(0,y_index));    \n",
    "    \n",
    "#    print(x_index)\n",
    " #   print(y_index)  \n",
    "    return y_index*n+x_index"
   ]
  },
  {
   "cell_type": "code",
   "execution_count": null,
   "metadata": {},
   "outputs": [],
   "source": [
    "def TestIndex(XC):\n",
    "     index =  GetIndex(XC)\n",
    "     print((X_flat[index] - XC[:,0]<dx));\n",
    "     print((Y_flat[index] - XC[:,1]<dy));"
   ]
  },
  {
   "cell_type": "code",
   "execution_count": null,
   "metadata": {},
   "outputs": [],
   "source": [
    "mask_noise  = H_noise_flat[GetIndex(XC)];\n",
    "mask_signal = H_signal_flat[GetIndex(XC)];"
   ]
  },
  {
   "cell_type": "code",
   "execution_count": null,
   "metadata": {},
   "outputs": [],
   "source": [
    "XC_signal = XC[mask_signal==True];\n",
    "XC_noise  = XC[mask_noise==True];"
   ]
  },
  {
   "cell_type": "code",
   "execution_count": null,
   "metadata": {},
   "outputs": [],
   "source": [
    "np.savetxt(filename+\"_X_signal.txt\",XC_signal,fmt=\"%f\");\n",
    "np.savetxt(filename+\"_X_noise.txt\",XC_noise,fmt=\"%f\");"
   ]
  },
  {
   "cell_type": "code",
   "execution_count": null,
   "metadata": {},
   "outputs": [],
   "source": [
    "H_signal, xedges, yedges = np.histogram2d(XC_signal[:,0],XC_signal[:,1],bins=1000);\n",
    "H_noise, xedges, yedges = np.histogram2d(XC_noise[:,0],XC_noise[:,1],bins=1000);"
   ]
  },
  {
   "cell_type": "code",
   "execution_count": null,
   "metadata": {},
   "outputs": [],
   "source": [
    "plt.imshow(H_signal>0)\n",
    "plt.savefig(filename+'_Image_Signal.pdf')"
   ]
  },
  {
   "cell_type": "code",
   "execution_count": null,
   "metadata": {},
   "outputs": [],
   "source": [
    "plt.imshow(H_noise>0)\n",
    "plt.savefig(filename+'_Image_Noise.pdf')"
   ]
  },
  {
   "cell_type": "code",
   "execution_count": null,
   "metadata": {},
   "outputs": [],
   "source": [
    "plt.imshow(H>0)\n",
    "plt.savefig(filename+'_Image_all.pdf')"
   ]
  },
  {
   "cell_type": "code",
   "execution_count": null,
   "metadata": {},
   "outputs": [],
   "source": [
    "plt.imshow((H_noise==0)*(H_signal==0))\n",
    "plt.savefig(filename+'_Image_all.pdf')"
   ]
  },
  {
   "cell_type": "code",
   "execution_count": null,
   "metadata": {},
   "outputs": [],
   "source": []
  }
 ],
 "metadata": {
  "kernelspec": {
   "display_name": "Python 3",
   "language": "python",
   "name": "python3"
  },
  "language_info": {
   "codemirror_mode": {
    "name": "ipython",
    "version": 3
   },
   "file_extension": ".py",
   "mimetype": "text/x-python",
   "name": "python",
   "nbconvert_exporter": "python",
   "pygments_lexer": "ipython3",
   "version": "3.8.3"
  }
 },
 "nbformat": 4,
 "nbformat_minor": 4
}
