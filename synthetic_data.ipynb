{
 "cells": [
  {
   "cell_type": "markdown",
   "metadata": {
    "collapsed": false,
    "pycharm": {
     "name": "#%% md\n"
    }
   },
   "source": [
    "# FINDER on synthetic datasets\n",
    "-------------------------------------\n",
    "\n",
    "In the short notebook we will see how to generate a synthetic dataset, based on true recordings of DNA origami.\n",
    "The `Geometry` package allows us to arrange this sample in different shapes and control the amount of noise.\n",
    "\n",
    "\n",
    "## Generating synthetic data\n",
    "\n",
    "Our dataset will be based on true recordings, so first we need to access them.\n",
    "We have four different options, all stored in the `./data_sources` directory.\n"
   ]
  },
  {
   "cell_type": "code",
   "execution_count": null,
   "metadata": {
    "pycharm": {
     "name": "#%%\n"
    }
   },
   "outputs": [],
   "source": [
    "import os\n",
    "import sys \n",
    "\n",
    "sys.path.append(\"Modules/\")\n",
    "\n",
    "data_folder = os.path.join(os.getcwd(),\"data_sources\")\n",
    "\n",
    "clusters_library = {\n",
    "    \"1mers\": \"Clusters_DNA_1mers\",\n",
    "    \"3mers\": \"Clusters_DNA_3mers\",\n",
    "    \"4mers\": \"Clusters_DNA_4mers\",\n",
    "    \"neuron\": \"Clusters_Neuron\"\n",
    "}"
   ]
  },
  {
   "cell_type": "markdown",
   "metadata": {
    "collapsed": false,
    "pycharm": {
     "name": "#%% md\n"
    }
   },
   "source": [
    "We have three classes in the `Geometry` module.\n",
    "\n",
    "* `Geometry_Free` arranges the samples freely and randomly;\n",
    "* `Geometry_Grid` arranges the samples in a grid;\n",
    "* `Geometry_Path` arranges the sample in a sinusoidal shape;\n",
    "\n",
    "let's import them!"
   ]
  },
  {
   "cell_type": "code",
   "execution_count": null,
   "metadata": {
    "pycharm": {
     "name": "#%%\n"
    }
   },
   "outputs": [],
   "source": [
    "from Geometry import Geometry_Path, Geometry_Grid, Geometry_Free"
   ]
  },
  {
   "cell_type": "markdown",
   "metadata": {
    "collapsed": false,
    "pycharm": {
     "name": "#%% md\n"
    }
   },
   "source": [
    "Let's see the various possibilities we have.\n",
    "\n",
    "\n",
    "### Arranging 1-mers randomly"
   ]
  },
  {
   "cell_type": "code",
   "execution_count": null,
   "metadata": {
    "pycharm": {
     "name": "#%%\n"
    }
   },
   "outputs": [],
   "source": [
    "G = Geometry_Free(basefolder=data_folder, # the folder in which the data is stored\n",
    "                  unitCluster_Library=clusters_library[\"1mers\"] #the cluster library we are using\n",
    "                  , noise_ratio=0.1  # add 1 noise point for every 10 real points\n",
    "                  )\n",
    "G.GeneratePoints(seed=42)"
   ]
  },
  {
   "cell_type": "markdown",
   "metadata": {
    "collapsed": false,
    "pycharm": {
     "name": "#%% md\n"
    }
   },
   "source": [
    "We can use the `plotScatter` function to plot the result."
   ]
  },
  {
   "cell_type": "code",
   "execution_count": null,
   "metadata": {
    "pycharm": {
     "name": "#%%\n"
    }
   },
   "outputs": [],
   "source": [
    "G.plotScatter()"
   ]
  },
  {
   "cell_type": "markdown",
   "metadata": {
    "collapsed": false,
    "pycharm": {
     "name": "#%% md\n"
    }
   },
   "source": [
    "### Arranging 3-mers on a grid"
   ]
  },
  {
   "cell_type": "code",
   "execution_count": null,
   "metadata": {
    "pycharm": {
     "name": "#%%\n"
    }
   },
   "outputs": [],
   "source": [
    "G = Geometry_Grid(data_folder, unitCluster_Library=clusters_library['3mers'],\n",
    "                  noise_ratio=0.1, # add 1 noise point for every 10 real points\n",
    "                  n_side=4 # make a 4x4 grid\n",
    "                  )\n",
    "G.GeneratePoints(seed=42)\n",
    "G.plotScatter()"
   ]
  },
  {
   "cell_type": "markdown",
   "metadata": {
    "collapsed": false,
    "pycharm": {
     "name": "#%% md\n"
    }
   },
   "source": [
    "### Arranging 4-mers on a sinusoidal shape\n"
   ]
  },
  {
   "cell_type": "code",
   "execution_count": null,
   "metadata": {
    "pycharm": {
     "name": "#%%\n"
    }
   },
   "outputs": [],
   "source": [
    "G = Geometry_Path(data_folder, unitCluster_Library=clusters_library['4mers'])\n",
    "G.GeneratePoints(seed=42,\n",
    "                 N_clusters=16, #number of clusters we want to generate\n",
    "                 N_Noise= 16*50) #generate 50 moise points for each cluster\n",
    "G.plotScatter()"
   ]
  },
  {
   "cell_type": "markdown",
   "metadata": {
    "collapsed": false,
    "pycharm": {
     "name": "#%% md\n"
    }
   },
   "source": [
    "# Using FINDER\n",
    "-----------------------------------------\n",
    "\n",
    "Now we will use `FINDER` to label our data.\n",
    "First let us generate them, using `Geometry` as we saw above:"
   ]
  },
  {
   "cell_type": "code",
   "execution_count": null,
   "metadata": {
    "pycharm": {
     "name": "#%%\n"
    }
   },
   "outputs": [],
   "source": [
    "cluster_type = \"3mers\"\n",
    "geometry_type = \"grid\"\n",
    "\n",
    "seed = 42\n",
    "\n",
    "if geometry_type == \"free\":\n",
    "    G = Geometry_Free(data_folder, unitCluster_Library=clusters_library[cluster_type], noise_ratio=0.1)\n",
    "    G.GeneratePoints(seed=seed)\n",
    "\n",
    "elif geometry_type == \"path\":\n",
    "    G = Geometry_Path(data_folder, unitCluster_Library=clusters_library[cluster_type])\n",
    "    G.GeneratePoints(seed=seed,N_clusters=16, N_Noise= 16*20)\n",
    "\n",
    "elif geometry_type == \"grid\":\n",
    "    G = Geometry_Grid(data_folder, unitCluster_Library=clusters_library[cluster_type], noise_ratio=0.1, n_side=5)\n",
    "    G.GeneratePoints(seed=seed)"
   ]
  },
  {
   "cell_type": "markdown",
   "metadata": {
    "collapsed": false,
    "pycharm": {
     "name": "#%% md\n"
    }
   },
   "source": [
    "Note that we can easily access the points:"
   ]
  },
  {
   "cell_type": "code",
   "execution_count": null,
   "metadata": {
    "pycharm": {
     "name": "#%%\n"
    }
   },
   "outputs": [],
   "source": [
    "X = G.XC\n",
    "X"
   ]
  },
  {
   "cell_type": "markdown",
   "metadata": {
    "collapsed": false,
    "pycharm": {
     "name": "#%% md\n"
    }
   },
   "source": [
    "or the labels"
   ]
  },
  {
   "cell_type": "code",
   "execution_count": null,
   "metadata": {
    "pycharm": {
     "name": "#%%\n"
    }
   },
   "outputs": [],
   "source": [
    "labels_true = G.labels_groundtruth"
   ]
  },
  {
   "cell_type": "code",
   "execution_count": null,
   "metadata": {
    "pycharm": {
     "name": "#%%\n"
    }
   },
   "outputs": [],
   "source": [
    "G.plotScatter()"
   ]
  },
  {
   "cell_type": "markdown",
   "metadata": {
    "collapsed": false,
    "pycharm": {
     "name": "#%% md\n"
    }
   },
   "source": [
    "### FINDER\n",
    "\n",
    "In order to use `FINDER` we need to import it first.\n",
    "Since it uses the `sklearn` API, we simply first define the model with the various parameters."
   ]
  },
  {
   "cell_type": "code",
   "execution_count": null,
   "metadata": {
    "pycharm": {
     "name": "#%%\n"
    }
   },
   "outputs": [],
   "source": [
    "from Finder import Finder\n",
    "\n",
    "model = Finder(similarity_score_computation=\"threshold\")"
   ]
  },
  {
   "cell_type": "markdown",
   "metadata": {
    "collapsed": false,
    "pycharm": {
     "name": "#%% md\n"
    }
   },
   "source": [
    "and then we call the function `fit()` to fit our data."
   ]
  },
  {
   "cell_type": "code",
   "execution_count": null,
   "metadata": {
    "pycharm": {
     "name": "#%%\n"
    }
   },
   "outputs": [],
   "source": [
    "labels_finder = model.fit(X)"
   ]
  },
  {
   "cell_type": "markdown",
   "metadata": {
    "collapsed": false,
    "pycharm": {
     "name": "#%% md\n"
    }
   },
   "source": []
  },
  {
   "cell_type": "markdown",
   "metadata": {
    "collapsed": false,
    "pycharm": {
     "name": "#%% md\n"
    }
   },
   "source": [
    "The parameters selected by the algorithm can be easily accessed"
   ]
  },
  {
   "cell_type": "code",
   "execution_count": null,
   "metadata": {
    "pycharm": {
     "name": "#%%\n"
    }
   },
   "outputs": [],
   "source": [
    "model.selected_parameters"
   ]
  },
  {
   "cell_type": "markdown",
   "metadata": {
    "collapsed": false,
    "pycharm": {
     "name": "#%% md\n"
    }
   },
   "source": [
    "Let's see how it performs"
   ]
  },
  {
   "cell_type": "code",
   "execution_count": null,
   "metadata": {
    "pycharm": {
     "name": "#%%\n"
    }
   },
   "outputs": [],
   "source": [
    "G.plotScatter(labels_finder)"
   ]
  },
  {
   "cell_type": "markdown",
   "metadata": {
    "collapsed": false,
    "pycharm": {
     "name": "#%% md\n"
    }
   },
   "source": [
    "Notice how `FINDER` is able to identify some _sub-clusters_ that constitutes our dataset:\n",
    "since we used \"3-mers\", we expect a clustering algorithm to identify 3 clusters for each DNA-origami, and `FINDER` manages to identify most of them.\n",
    "\n",
    "\n",
    "All the configurations of parameters that `FINDER` tried (we call it the `phasespace`) are still stored and accessible as a `pd.DataFrame`"
   ]
  },
  {
   "cell_type": "code",
   "execution_count": null,
   "metadata": {
    "pycharm": {
     "name": "#%%\n"
    }
   },
   "outputs": [],
   "source": [
    "model.phasespace"
   ]
  },
  {
   "cell_type": "markdown",
   "metadata": {
    "collapsed": false,
    "pycharm": {
     "name": "#%% md\n"
    }
   },
   "source": [
    "We can plot the `Similarity Score` (see the paper) for each configuration."
   ]
  },
  {
   "cell_type": "code",
   "execution_count": null,
   "metadata": {
    "pycharm": {
     "name": "#%%\n"
    }
   },
   "outputs": [],
   "source": [
    "model.plotPhaseSpace()"
   ]
  },
  {
   "cell_type": "code",
   "execution_count": null,
   "metadata": {},
   "outputs": [],
   "source": []
  },
  {
   "cell_type": "code",
   "execution_count": null,
   "metadata": {},
   "outputs": [],
   "source": []
  }
 ],
 "metadata": {
  "kernelspec": {
   "display_name": "BaukastenBeispiele",
   "language": "python",
   "name": "python3"
  },
  "language_info": {
   "codemirror_mode": {
    "name": "ipython",
    "version": 3
   },
   "file_extension": ".py",
   "mimetype": "text/x-python",
   "name": "python",
   "nbconvert_exporter": "python",
   "pygments_lexer": "ipython3",
   "version": "3.8.12"
  },
  "vscode": {
   "interpreter": {
    "hash": "d78516ba42b321acf6eb2ade37f7144c1dbbad102022033845e3a28998405dfb"
   }
  }
 },
 "nbformat": 4,
 "nbformat_minor": 1
}
