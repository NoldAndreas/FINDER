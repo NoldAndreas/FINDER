{
 "cells": [
  {
   "cell_type": "code",
   "execution_count": null,
   "metadata": {},
   "outputs": [],
   "source": [
    "import numpy as np\n",
    "from Finder import Finder\n",
    "import glob,os\n",
    "import matplotlib.pyplot as plt\n",
    "import seaborn as sns"
   ]
  },
  {
   "cell_type": "code",
   "execution_count": null,
   "metadata": {},
   "outputs": [],
   "source": [
    "basefolder = '/Users/andreas/Documents/NoiseRecognizer_WorkingVersion/';\n",
    "foldername = 'Datasets_Cluster_Analysis_Showtime_2020';"
   ]
  },
  {
   "cell_type": "code",
   "execution_count": null,
   "metadata": {},
   "outputs": [],
   "source": [
    "def PlotScatter(XC_,labels=[],ax=[],filename=[]):\n",
    "\n",
    "    if(len(labels)==0):\n",
    "        labels = -1*np.ones((len(XC_),));\n",
    " \n",
    "    if(ax==[]):\n",
    "        fig,ax = plt.subplots(1,1,figsize=(10,10)); \n",
    "       \n",
    "    mark_ = (labels==-1);\n",
    "    ax.scatter(x=XC_[mark_,0],y=XC_[mark_,1],s=3,c='grey',alpha=0.6);\n",
    "\n",
    "    mark_ = (labels>=0);\n",
    "    sns.scatterplot(x=XC_[mark_,0],y=XC_[mark_,1],hue=labels[mark_],palette='deep',linewidth=0,\n",
    "                    s=10,legend=False,ax=ax);\n",
    "    ax.set_aspect('equal');\n",
    "    if(not(filename == [])):\n",
    "        plt.savefig(filename,bbox_inches=\"tight\");\n"
   ]
  },
  {
   "cell_type": "code",
   "execution_count": null,
   "metadata": {},
   "outputs": [],
   "source": [
    "#XC_test = np.loadtxt(basefolder+foldername+'/Template_folder/X_challenge.csv',delimiter=',');"
   ]
  },
  {
   "cell_type": "code",
   "execution_count": null,
   "metadata": {},
   "outputs": [],
   "source": [
    "filelist = sorted(glob.glob(basefolder+foldername+\"/*.csv\"));"
   ]
  },
  {
   "cell_type": "code",
   "execution_count": null,
   "metadata": {},
   "outputs": [],
   "source": [
    "for file in filelist[:10]:\n",
    "    XC = np.loadtxt(file,delimiter=',');\n",
    "    XC = XC[:,:2];\n",
    "    if(len(XC)<20000):\n",
    "        FD      = Finder();\n",
    "        labels  = FD.fit(XC,skipSimilarityScore=True);   \n",
    "        PlotScatter(XC,labels,filename=file[:-4]+'_clusters.pdf');\n",
    "    else:\n",
    "        print(len(XC))\n",
    "        "
   ]
  }
 ],
 "metadata": {
  "kernelspec": {
   "display_name": "Python 3",
   "language": "python",
   "name": "python3"
  },
  "language_info": {
   "codemirror_mode": {
    "name": "ipython",
    "version": 3
   },
   "file_extension": ".py",
   "mimetype": "text/x-python",
   "name": "python",
   "nbconvert_exporter": "python",
   "pygments_lexer": "ipython3",
   "version": "3.8.3"
  }
 },
 "nbformat": 4,
 "nbformat_minor": 4
}
