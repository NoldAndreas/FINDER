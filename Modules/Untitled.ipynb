{
 "cells": [
  {
   "cell_type": "code",
   "execution_count": null,
   "metadata": {},
   "outputs": [],
   "source": [
    "import matplotlib.pyplot as plt\n",
    "import numpy as np\n",
    "import pandas as pd\n",
    "import seaborn as sns\n",
    "\n",
    "from FigX4_Explore2DOptimizer_withReference_Streamlined_Functions import PlotScatter,GetLineOfOptima,GetOptimalT\n",
    "from FigX4_Explore2DOptimizer_withReference_Streamlined_Functions import PlotScatter"
   ]
  },
  {
   "cell_type": "code",
   "execution_count": null,
   "metadata": {},
   "outputs": [],
   "source": [
    "from ClusterBasing import ClusterBasing\n",
    "\n",
    "basefolder          = \"../../AnalysisDataOrganized/AHA_2_MMStack_Pos0.ome_locs_render_driftcor_filter_render_pix0.02X6f20/\";\n",
    "outputfolder_window = basefolder+\"Output/\"+'2021_09_30__20_07_29/';\n",
    "\n",
    "#basefolder = \"../../AnalysisDataOrganized/Mike_190516_EGFR-P1-ATTO655_cell_3_MMImages.ome_locs_render_al_linked1sigma/\";\n",
    "#outputfolder_window = basefolder+'Output/2021_10_01__15_45_34/';\n",
    "\n",
    "#basefolder = \"../../AnalysisDataOrganized/Mike_190521_EGFR-P1-ATTO655_cell_3_MMImages.ome_locs_render_al_linked1simga/\";\n",
    "#outputfolder_window = basefolder+'Output/2021_10_01__17_13_18/';\n",
    "\n",
    "CB = ClusterBasing(outputfolder_window);\n",
    "CB.GetClusterings_InOutCell(skipSimilarityScore=False);"
   ]
  },
  {
   "cell_type": "code",
   "execution_count": null,
   "metadata": {},
   "outputs": [],
   "source": [
    "CB.GetReferenceClustering(bestRequiredRate=.70,generalLimit=False);\n",
    "row_chosen = CB.GetClustering();"
   ]
  },
  {
   "cell_type": "code",
   "execution_count": null,
   "metadata": {},
   "outputs": [],
   "source": [
    "fig,axs = plt.subplots(2,2,figsize=(12,12));\n",
    "\n",
    "ax = axs[0,0];\n",
    "heatmap1_data = pd.pivot_table(CB.phasespace_all, values='no_clusters', \n",
    "                     index=['threshold'], \n",
    "                     columns='sigma')\n",
    "ax = sns.heatmap(heatmap1_data,ax=ax);\n",
    "ax.invert_yaxis()\n",
    "ax.set_title('no_clusters in cell');\n",
    "\n",
    "ax = axs[0,1];\n",
    "heatmap1_data = pd.pivot_table(CB.phasespace_all, values='no_clusters_ref', \n",
    "                     index=['threshold'], \n",
    "                     columns='sigma')\n",
    "ax = sns.heatmap(heatmap1_data,ax=ax);\n",
    "ax.invert_yaxis()\n",
    "ax.set_title('no_clusters out cell');\n",
    "\n",
    "ax = axs[1,0];\n",
    "heatmap1_data = pd.pivot_table(CB.phasespace_all_aboveT, values='no_clusters', \n",
    "                     index=['threshold'], \n",
    "                     columns='sigma')\n",
    "ax = sns.heatmap(heatmap1_data,ax=ax);\n",
    "ax.invert_yaxis()\n",
    "ax.set_title('number of in cell clusters above T');\n",
    "\n",
    "ax = axs[1,1];\n",
    "heatmap1_data = pd.pivot_table(CB.phasespace_all_aboveT, values='no_clusters_ref', \n",
    "                     index=['threshold'], \n",
    "                     columns='sigma')\n",
    "ax = sns.heatmap(heatmap1_data,ax=ax,);\n",
    "ax.invert_yaxis()\n",
    "ax.set_title('number of out cell clusters above T');\n",
    "\n",
    "\n",
    "plt.tight_layout()\n",
    "plt.savefig(CB.save_name+\"_number_of_clusters.pdf\",bbox_inches=\"tight\");"
   ]
  },
  {
   "cell_type": "code",
   "execution_count": null,
   "metadata": {},
   "outputs": [],
   "source": []
  }
 ],
 "metadata": {
  "kernelspec": {
   "display_name": "Python 3",
   "language": "python",
   "name": "python3"
  },
  "language_info": {
   "codemirror_mode": {
    "name": "ipython",
    "version": 3
   },
   "file_extension": ".py",
   "mimetype": "text/x-python",
   "name": "python",
   "nbconvert_exporter": "python",
   "pygments_lexer": "ipython3",
   "version": "3.8.3"
  },
  "toc": {
   "base_numbering": 1,
   "nav_menu": {},
   "number_sections": true,
   "sideBar": true,
   "skip_h1_title": false,
   "title_cell": "Table of Contents",
   "title_sidebar": "Contents",
   "toc_cell": false,
   "toc_position": {},
   "toc_section_display": true,
   "toc_window_display": false
  },
  "varInspector": {
   "cols": {
    "lenName": 16,
    "lenType": 16,
    "lenVar": 40
   },
   "kernels_config": {
    "python": {
     "delete_cmd_postfix": "",
     "delete_cmd_prefix": "del ",
     "library": "var_list.py",
     "varRefreshCmd": "print(var_dic_list())"
    },
    "r": {
     "delete_cmd_postfix": ") ",
     "delete_cmd_prefix": "rm(",
     "library": "var_list.r",
     "varRefreshCmd": "cat(var_dic_list()) "
    }
   },
   "types_to_exclude": [
    "module",
    "function",
    "builtin_function_or_method",
    "instance",
    "_Feature"
   ],
   "window_display": false
  }
 },
 "nbformat": 4,
 "nbformat_minor": 4
}
