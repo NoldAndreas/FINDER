{
 "cells": [
  {
   "cell_type": "code",
   "execution_count": null,
   "metadata": {},
   "outputs": [],
   "source": [
    "from Definitions import basefolder\n",
    "import time\n",
    "import numpy as np\n",
    "from finder import Finder\n",
    "import matplotlib.pyplot as plt\n",
    "import scipy.spatial.distance as dist\n",
    "import seaborn as sns\n",
    "from sklearn.cluster import DBSCAN\n",
    "from Clustering_CAML import Clustering_CAML\n",
    "import h5py\n",
    "from DbscanLoop import DbscanLoop\n",
    "from sklearn.neighbors import NearestNeighbors\n",
    "import pickle\n",
    "import pandas as pd"
   ]
  },
  {
   "cell_type": "code",
   "execution_count": null,
   "metadata": {},
   "outputs": [],
   "source": [
    "def PlotScatter(XC_,labels=[],filename_add=\"\"):\n",
    "    \n",
    "#    XC_ = XC[mark];\n",
    "    if(labels == []):\n",
    "        labels = -1*np.ones((len(XC_),));\n",
    "    \n",
    "    fig,ax = plt.subplots(1,1,figsize=(12,12)); \n",
    "       \n",
    "    mark_ = (labels==-1);\n",
    "    ax.scatter(x=XC_[mark_,0],y=XC_[mark_,1],s=.4,c='grey',alpha=0.1);\n",
    "\n",
    "    mark_ = (labels>=0);\n",
    "    sns.scatterplot(x=XC_[mark_,0],y=XC_[mark_,1],hue=labels[mark_],palette='deep',linewidth=0,\n",
    "                    s=2,legend=False,ax=ax);\n",
    "    ax.set_aspect('equal');\n",
    "    plt.savefig(outputfolder+\"results_\"+analysis_name+\"_\"+filename_add+\".pdf\",bbox_inches=\"tight\");\n",
    "    \n",
    "def Filter(XC,xmin,xmax,ymin,ymax):    \n",
    "    mark = (XC[:,0]>xmin)*(XC[:,0]<xmax)*(XC[:,1]>ymin)*(XC[:,1]<ymax);\n",
    "    return np.unique(XC[mark,:],axis=0);    "
   ]
  },
  {
   "cell_type": "code",
   "execution_count": null,
   "metadata": {},
   "outputs": [],
   "source": [
    "analysis_name = 'test1';\n",
    "if(True):\n",
    "    mainfolder = '/Users/andreas/Documents/NoiseRecognizer_WorkingVersion/ProteinData_ttx_1hr_2/';\n",
    "    outputfolder = mainfolder + 'NoiseVsSignal/';    \n",
    "    \n",
    "    filename     = 'AHA_2_MMStack_Pos0.ome_locs_render_driftcor_filter_render_pix0.02X6f20';\n",
    "\n",
    "    filename_noise  = mainfolder + filename + \"_X_noise.txt\";\n",
    "    filename_signal = mainfolder + filename + \"_X_signal.txt\";    \n",
    "\n",
    "    xmin = 100; \n",
    "    xmax = 180;\n",
    "    ymin = 370;\n",
    "    ymax = 400;\n",
    "#elif(False):\n",
    "#    outputfolder = '/Users/andreas/Documents/NoiseRecognizer_WorkingVersion/MikeData/';\n",
    "#    filename     = outputfolder +'XC_red.txt'\n",
    "#    datascale    = 1; #=81/512*1000\n",
    "#    #Define window to analyse\n",
    "#    xInt = [0,np.Infinity];\n",
    "#    yInt = [0,np.Infinity];"
   ]
  },
  {
   "cell_type": "code",
   "execution_count": null,
   "metadata": {},
   "outputs": [],
   "source": [
    "\n",
    "XC_noise  = np.loadtxt(filename_noise);\n",
    "XC_signal = np.loadtxt(filename_signal);\n",
    "\n",
    "XC_noise        = Filter(XC_noise,xmin,xmax,ymin,ymax);\n",
    "XC_signal       = Filter(XC_signal,xmin,xmax,ymin,ymax);\n",
    "\n",
    "#XC_noise  = XC_noise[:5000,:]\n",
    "#XC_signal = XC_signal[:5000,:]"
   ]
  },
  {
   "cell_type": "code",
   "execution_count": null,
   "metadata": {},
   "outputs": [],
   "source": [
    "PlotScatter(XC_noise)\n",
    "PlotScatter(XC_signal)"
   ]
  },
  {
   "cell_type": "code",
   "execution_count": null,
   "metadata": {},
   "outputs": [],
   "source": [
    "FD_noise = Finder(algo=\"DbscanLoop\");\n",
    "labels   = FD_noise.fit(XC_noise,XC_signal,skipSimilarityScore=True); "
   ]
  },
  {
   "cell_type": "code",
   "execution_count": null,
   "metadata": {},
   "outputs": [],
   "source": [
    "FD_signal = Finder(algo=\"DbscanLoop\");\n",
    "labels    = FD_signal.fit(XC_signal,skipSimilarityScore=True); "
   ]
  },
  {
   "cell_type": "code",
   "execution_count": null,
   "metadata": {},
   "outputs": [],
   "source": [
    "(sim_noise)"
   ]
  },
  {
   "cell_type": "code",
   "execution_count": null,
   "metadata": {},
   "outputs": [],
   "source": [
    "idx = 130;\n",
    "sim_signal = (FD_signal.getSimilarityScoreDistribution(XC_signal,idx));\n",
    "sim_noise  = (FD_noise.getSimilarityScoreDistribution(XC_noise,idx));\n",
    "\n",
    "fig,ax = plt.subplots(1,1,figsize=(6,6)); \n",
    "bins = np.linspace(0,120,25);\n",
    "\n",
    "print(FD_noise.phasespace.loc[idx,:])\n",
    "sns.histplot(sim_signal,alpha=0.4,kde=True,ax=ax,stat='density',color='red',bins=bins)\n",
    "sns.histplot(sim_noise,alpha=0.4,kde=True,ax=ax,stat='density',bins=bins)\n",
    "\n",
    "PlotScatter(XC_noise,FD_noise.phasespace.loc[idx,'labels'])\n",
    "PlotScatter(XC_signal,FD_signal.phasespace.loc[idx,'labels'])"
   ]
  },
  {
   "cell_type": "code",
   "execution_count": null,
   "metadata": {},
   "outputs": [],
   "source": [
    "if(True):\n",
    "    \n",
    "    FD_signal = Finder(algo=\"DbscanLoop\");\n",
    "    labels    = FD_signal.fit(XC_signal); \n",
    "    \n",
    "    FD_noise = Finder(algo=\"DbscanLoop\");\n",
    "    labels   = FD_noise.fit(XC_noise,XC_signal); \n",
    "    \n",
    "    \n",
    "    \n",
    "    with open(outputfolder+\"results_\"+analysis_name+'_noise.pickle','wb') as handle:\n",
    "        pickle.dump({'FD_noise':FD_noise,'FD_signal':FD_signal}, handle,protocol=pickle.HIGHEST_PROTOCOL)       \n",
    "else:\n",
    "    with open(outputfolder+\"results_\"+analysis_name+'.pickle', 'rb') as fr:\n",
    "        FD_load = pickle.load(fr);\n",
    "    FD_noise  = FD_load['FD_noise'];    \n",
    "    FD_signal = FD_load['FD_signal'];        "
   ]
  },
  {
   "cell_type": "code",
   "execution_count": null,
   "metadata": {},
   "outputs": [],
   "source": [
    "FD_noise = Finder(algo=\"DbscanLoop\");\n",
    "labels   = FD_noise.fit(XC_noise,XC_signal)"
   ]
  },
  {
   "cell_type": "code",
   "execution_count": null,
   "metadata": {},
   "outputs": [],
   "source": [
    "print(FD_noise.phasespace.loc[100,:])\n",
    "print(FD_signal.phasespace.loc[100,:])"
   ]
  },
  {
   "cell_type": "code",
   "execution_count": null,
   "metadata": {},
   "outputs": [],
   "source": [
    "fig,ax = plt.subplots(1,1,figsize=(6,6)); \n",
    "bins = np.linspace(0,120,25);\n",
    "idx = 1;\n",
    "\n",
    "print(FD_noise.phasespace.loc[idx,:])\n",
    "sns.histplot(FD_noise.similarityScoreMatrix[idx,:],alpha=0.4,kde=True,ax=ax,stat='density',color='red',bins=bins)\n",
    "sns.histplot(FD_signal.similarityScoreMatrix[idx,:],alpha=0.4,kde=True,ax=ax,stat='density',bins=bins)"
   ]
  },
  {
   "cell_type": "code",
   "execution_count": null,
   "metadata": {},
   "outputs": [],
   "source": [
    "true_pos = np.zeros((len(FD_noise.phasespace)))\n",
    "for idx in np.arange(len(true_pos)):\n",
    "    thresh   = np.quantile(FD_noise.similarityScoreMatrix[idx,:],0.95);\n",
    "    true_pos = np.sum(FD_)"
   ]
  },
  {
   "cell_type": "code",
   "execution_count": null,
   "metadata": {},
   "outputs": [],
   "source": [
    "df1 = FD_signal.phasespace[['sigma', 'threshold','similarityScore']]\n",
    "heatmap1_data = pd.pivot_table(df1, values='similarityScore', \n",
    "                     index=['threshold'], \n",
    "                     columns='sigma')\n",
    "ax = sns.heatmap(heatmap1_data);\n",
    "ax.invert_yaxis()"
   ]
  },
  {
   "cell_type": "code",
   "execution_count": null,
   "metadata": {},
   "outputs": [],
   "source": [
    "df1 = FD_noise.phasespace[['sigma', 'threshold','similarityScore']]\n",
    "heatmap1_data = pd.pivot_table(df1, values='similarityScore', \n",
    "                     index=['threshold'], \n",
    "                     columns='sigma')\n",
    "ax = sns.heatmap(heatmap1_data);\n",
    "ax.invert_yaxis()"
   ]
  },
  {
   "cell_type": "code",
   "execution_count": null,
   "metadata": {},
   "outputs": [],
   "source": []
  }
 ],
 "metadata": {
  "kernelspec": {
   "display_name": "Python 3",
   "language": "python",
   "name": "python3"
  },
  "language_info": {
   "codemirror_mode": {
    "name": "ipython",
    "version": 3
   },
   "file_extension": ".py",
   "mimetype": "text/x-python",
   "name": "python",
   "nbconvert_exporter": "python",
   "pygments_lexer": "ipython3",
   "version": "3.8.3"
  }
 },
 "nbformat": 4,
 "nbformat_minor": 4
}
