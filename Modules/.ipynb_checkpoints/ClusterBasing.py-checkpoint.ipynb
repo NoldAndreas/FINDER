{
 "cells": [
  {
   "cell_type": "code",
   "execution_count": null,
   "metadata": {},
   "outputs": [],
   "source": [
    "import numpy as np\n",
    "\n",
    "from FigX4_Explore2DOptimizer_withReference_Streamlined_Functions import GetDensity\n",
    "from FigX4_Explore2DOptimizer_withReference_Streamlined_Functions import GetOverlay"
   ]
  },
  {
   "cell_type": "code",
   "execution_count": null,
   "metadata": {},
   "outputs": [],
   "source": [
    "class ClusterBasing:\n",
    "    def __init__(self,basefolder,parameterfile):\n",
    "        \n",
    "        #Load Parameter file\n",
    "        #parameterfile = 'MikeData/Analysis_dataWindow_1/dataWindow_1_parameters';            \n",
    "        with open(basefolder+parameterfile+'.json') as f:\n",
    "            parameters = json.load(f);\n",
    "\n",
    "        if(not ('datascale' in parameters.keys())):\n",
    "            parameters['datascale'] = 1;\n",
    "        \n",
    "        parameters['outputfolder']   = parameters['mainfolder'] + 'Analysis_'+parameters['analysis_name']+'/';    \n",
    "        parameters['save_name']      = parameters['outputfolder']+parameters['analysis_name'];    \n",
    "        parameterfile                = basefolder+parameters['save_name']+'_parameters.json';\n",
    "        \n",
    "        self.basefolder              = basefolder;\n",
    "        self.parameters              = parameters;\n",
    "        self.save_name               = basefolder + parameters['save_name'];\n",
    "        \n",
    "        #Load Points\n",
    "        self.__loadPoints();\n",
    "        \n",
    "\n",
    "    def __loadPoints(self,basefolder,parameters):\n",
    "        \n",
    "        if(os.path.isfile(basefolder+parameters['save_name']+\"_filtered_incell.txt\")):\n",
    "            XC_incell  = LoadPoints(basefolder+parameters['save_name']+\"_filtered_incell.txt\",datascale=parameters['datascale']);    \n",
    "            XC_outcell = LoadPoints(basefolder+parameters['save_name']+\"_filtered_outcell.txt\",datascale=parameters['datascale']);        \n",
    "        else:\n",
    "            XC_incell  = LoadPoints(basefolder+parameters['mainfolder']+parameters['image_filename']+'_incell.txt',datascale=parameters['datascale']);    \n",
    "            XC_outcell = LoadPoints(basefolder+parameters['mainfolder']+parameters['image_filename']+'_outcell.txt',datascale=parameters['datascale']);    \n",
    "\n",
    "            XC_incell   = FilterPoints(XC_incell,parameters['incell_window']);\n",
    "            XC_outcell  = FilterPoints(XC_outcell,parameters['outcell_window']);\n",
    "\n",
    "            XC_outcell_overlay = GetOverlay(XC_incell,XC_outcell);\n",
    "\n",
    "            np.savetxt(basefolder+parameters['save_name']+\"_filtered_incell.txt\",XC_incell,fmt=\"%f\\t%f\");   \n",
    "            np.savetxt(basefolder+parameters['save_name']+\"_filtered_outcell.txt\",XC_outcell,fmt=\"%f\\t%f\");\n",
    "        \n",
    "    def GetClusterings(self):\n",
    "        \n",
    "    def GetReferenceClustering(self):\n",
    "        \n",
    "    def PostProcess(self):"
   ]
  }
 ],
 "metadata": {
  "kernelspec": {
   "display_name": "Python 3",
   "language": "python",
   "name": "python3"
  },
  "language_info": {
   "codemirror_mode": {
    "name": "ipython",
    "version": 3
   },
   "file_extension": ".py",
   "mimetype": "text/x-python",
   "name": "python",
   "nbconvert_exporter": "python",
   "pygments_lexer": "ipython3",
   "version": "3.8.3"
  }
 },
 "nbformat": 4,
 "nbformat_minor": 4
}
