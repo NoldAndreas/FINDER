{
 "cells": [
  {
   "cell_type": "code",
   "execution_count": 1,
   "metadata": {},
   "outputs": [],
   "source": [
    "import matplotlib.pyplot as plt\n",
    "import numpy as np\n",
    "import pandas as pd\n",
    "import seaborn as sns\n",
    "#from ClustersInOutCell import ClustersInOutCell\n",
    "from glob import glob\n",
    "\n",
    "from FigY_Functions import GetLineOfOptima,GetOptimalT,PlotScatter\n",
    "from SimilarityScore import getClusterSizesAll,GetSimilarityScorePerCluster\n",
    "import os\n",
    "\n",
    "%reload_ext autoreload\n",
    "%autoreload 2\n",
    "\n",
    "import ClustersInOutCell \n",
    "import importlib\n",
    "importlib.reload(ClustersInOutCell)\n",
    "from ClustersInOutCell import ClustersInOutCell"
   ]
  },
  {
   "cell_type": "markdown",
   "metadata": {},
   "source": [
    "# Function definitions"
   ]
  },
  {
   "cell_type": "code",
   "execution_count": 2,
   "metadata": {},
   "outputs": [],
   "source": [
    "def PlotChosen(CB,idx_chosen):\n",
    "\n",
    "    fig,axs = plt.subplots(1,2,figsize=(12,6));\n",
    "    PlotScatter(CB.XC_incell,CB.phasespace_all_aboveT.loc[idx_chosen,'labels'],ax=axs[0]);    \n",
    "    PlotScatter(CB.XC_outcell,CB.phasespace_all_aboveT.loc[idx_chosen,'labels_ref'],ax=axs[1]);\n",
    "    axs[0].set_title('minPts = '+str(CB.phasespace_all_aboveT.loc[idx_chosen,'threshold'])+\\\n",
    "                     ' , sigma ='+str(CB.phasespace_all_aboveT.loc[idx_chosen,'sigma'])+\\\n",
    "                     ' , for clusterSize > '+str(CB.phasespace_all_aboveT.loc[idx_chosen,'T']));\n",
    "\n",
    "    plt.tight_layout()\n",
    "    plt.savefig(CB.save_name+\"_chosen_clustering.pdf\",bbox_inches=\"tight\");\n",
    "    \n",
    "def PlotT(CB):\n",
    "    fig,axs = plt.subplots(1,1,figsize=(6,6));\n",
    "\n",
    "    ax = axs;\n",
    "    heatmap1_data = pd.pivot_table(CB.phasespace_all_aboveT, values='T', \n",
    "                         index=['threshold'], \n",
    "                         columns='sigma')\n",
    "    ax = sns.heatmap(heatmap1_data,ax=ax);\n",
    "    ax.invert_yaxis()\n",
    "    ax.set_title('T');\n",
    "    plt.savefig(CB.save_name+\"_T.pdf\",bbox_inches=\"tight\");"
   ]
  },
  {
   "cell_type": "code",
   "execution_count": 3,
   "metadata": {},
   "outputs": [],
   "source": [
    "def plot_analysis_window(sim_folder, plot_results_along_optima=True ,plot_phasespace=True):\n",
    "    CB = ClustersInOutCell(sim_folder)\n",
    "    CB.GetClusterings_InOutCell()\n",
    "    CB.GetSimilarityAlongOptima()   \n",
    "\n",
    "    CB.plot_overview_scatterplots()\n",
    "\n",
    "    CB.plot_gif_along_optima('incell',criterion='clusterSize',min_criterion=10)\n",
    "\n",
    "    if plot_phasespace: \n",
    "        \n",
    "        CB.plot_similarity_results_along_optima(criterion='clusterSize',min_criterion=0)\n",
    "\n",
    "        CB.plot_phasespace_in_vs_outcell(value='no_clusters',criterion=\"clusterSize\", min_criterion=0)\n",
    "        CB.plot_phasespace_in_vs_outcell(value='no_clusters',criterion=\"clusterSize\", min_criterion=15)\n",
    "        CB.plot_phasespace_in_vs_outcell(value=\"similarityScore\",criterion=\"clusterSize\",min_criterion=0);        \n",
    "        \n",
    "        CB.plot_statistics()\n",
    "        \n",
    "        CB.plot_clustersizes_along_optima(min_clustersize=0)\n",
    "        CB.plot_clustersizes_along_optima(min_clustersize=15)                \n",
    " \n",
    "\n",
    "    if plot_results_along_optima:\n",
    "        CB.plot_gif_along_optima('incell')\n",
    "        CB.plot_gif_along_optima('outcell')\n",
    "        CB.plot_gif_along_optima('incell',criterion='clusterSize',min_criterion=30);#,min_clusterSize=min_clusterSize);\n",
    "        CB.plot_gif_along_optima('outcell',criterion='clusterSize',min_criterion=30);#,min_clusterSize=min_clusterSize);\n",
    "        CB.plot_gif_along_optima('incell',criterion='similarityScore',min_criterion=8);#,min_clusterSize=min_clusterSize);        \n",
    "        CB.plot_gif_along_optima('outcell',criterion='similarityScore',min_criterion=8);#,min_clusterSize=min_clusterSize);            "
   ]
  },
  {
   "cell_type": "markdown",
   "metadata": {},
   "source": [
    "# Analysis\n"
   ]
  },
  {
   "cell_type": "code",
   "execution_count": 5,
   "metadata": {},
   "outputs": [
    {
     "name": "stdout",
     "output_type": "stream",
     "text": [
      "10000 points loaded from ../../AnalysisDataOrganized/AHA_2_MMStack_Pos0.ome_locs_render_driftcor_filter_render_pix0.02X6f20/Output/2021_09_30__20_13_56/X_incell_window.txt\n",
      "10000 points loaded from ../../AnalysisDataOrganized/AHA_2_MMStack_Pos0.ome_locs_render_driftcor_filter_render_pix0.02X6f20/Output/2021_09_30__20_13_56/X_outcell_window.txt\n",
      "Loaded Clustering results from ../../AnalysisDataOrganized/AHA_2_MMStack_Pos0.ome_locs_render_driftcor_filter_render_pix0.02X6f20/Output/2021_09_30__20_13_56/analysisclustering_incell.pickle\n",
      "Loaded Clustering results from ../../AnalysisDataOrganized/AHA_2_MMStack_Pos0.ome_locs_render_driftcor_filter_render_pix0.02X6f20/Output/2021_09_30__20_13_56/analysisclustering_outcell.pickle\n",
      "Loaded clusterDataWithSimilarityScores results from ../../AnalysisDataOrganized/AHA_2_MMStack_Pos0.ome_locs_render_driftcor_filter_render_pix0.02X6f20/Output/2021_09_30__20_13_56/analysisclusterDataWithSimilarityScores.pickle\n",
      "\n",
      "\n"
     ]
    },
    {
     "name": "stderr",
     "output_type": "stream",
     "text": [
      "/Users/andreas/opt/anaconda3/lib/python3.8/site-packages/seaborn/categorical.py:1296: UserWarning: 71.3% of the points cannot be placed; you may want to decrease the size of the markers or use stripplot.\n",
      "  warnings.warn(msg, UserWarning)\n",
      "/Users/andreas/opt/anaconda3/lib/python3.8/site-packages/seaborn/categorical.py:1296: UserWarning: 58.0% of the points cannot be placed; you may want to decrease the size of the markers or use stripplot.\n",
      "  warnings.warn(msg, UserWarning)\n",
      "/Users/andreas/opt/anaconda3/lib/python3.8/site-packages/seaborn/categorical.py:1296: UserWarning: 47.7% of the points cannot be placed; you may want to decrease the size of the markers or use stripplot.\n",
      "  warnings.warn(msg, UserWarning)\n",
      "/Users/andreas/opt/anaconda3/lib/python3.8/site-packages/seaborn/categorical.py:1296: UserWarning: 39.0% of the points cannot be placed; you may want to decrease the size of the markers or use stripplot.\n",
      "  warnings.warn(msg, UserWarning)\n",
      "/Users/andreas/opt/anaconda3/lib/python3.8/site-packages/seaborn/categorical.py:1296: UserWarning: 34.9% of the points cannot be placed; you may want to decrease the size of the markers or use stripplot.\n",
      "  warnings.warn(msg, UserWarning)\n",
      "/Users/andreas/opt/anaconda3/lib/python3.8/site-packages/seaborn/categorical.py:1296: UserWarning: 26.5% of the points cannot be placed; you may want to decrease the size of the markers or use stripplot.\n",
      "  warnings.warn(msg, UserWarning)\n",
      "/Users/andreas/opt/anaconda3/lib/python3.8/site-packages/seaborn/categorical.py:1296: UserWarning: 26.0% of the points cannot be placed; you may want to decrease the size of the markers or use stripplot.\n",
      "  warnings.warn(msg, UserWarning)\n",
      "/Users/andreas/opt/anaconda3/lib/python3.8/site-packages/seaborn/categorical.py:1296: UserWarning: 25.0% of the points cannot be placed; you may want to decrease the size of the markers or use stripplot.\n",
      "  warnings.warn(msg, UserWarning)\n",
      "/Users/andreas/opt/anaconda3/lib/python3.8/site-packages/seaborn/categorical.py:1296: UserWarning: 21.1% of the points cannot be placed; you may want to decrease the size of the markers or use stripplot.\n",
      "  warnings.warn(msg, UserWarning)\n",
      "/Users/andreas/opt/anaconda3/lib/python3.8/site-packages/seaborn/categorical.py:1296: UserWarning: 13.0% of the points cannot be placed; you may want to decrease the size of the markers or use stripplot.\n",
      "  warnings.warn(msg, UserWarning)\n",
      "/Users/andreas/opt/anaconda3/lib/python3.8/site-packages/seaborn/categorical.py:1296: UserWarning: 9.6% of the points cannot be placed; you may want to decrease the size of the markers or use stripplot.\n",
      "  warnings.warn(msg, UserWarning)\n",
      "/Users/andreas/opt/anaconda3/lib/python3.8/site-packages/seaborn/categorical.py:1296: UserWarning: 11.4% of the points cannot be placed; you may want to decrease the size of the markers or use stripplot.\n",
      "  warnings.warn(msg, UserWarning)\n",
      "/Users/andreas/opt/anaconda3/lib/python3.8/site-packages/seaborn/categorical.py:1296: UserWarning: 69.3% of the points cannot be placed; you may want to decrease the size of the markers or use stripplot.\n",
      "  warnings.warn(msg, UserWarning)\n",
      "/Users/andreas/opt/anaconda3/lib/python3.8/site-packages/seaborn/categorical.py:1296: UserWarning: 64.5% of the points cannot be placed; you may want to decrease the size of the markers or use stripplot.\n",
      "  warnings.warn(msg, UserWarning)\n",
      "/Users/andreas/opt/anaconda3/lib/python3.8/site-packages/seaborn/categorical.py:1296: UserWarning: 58.8% of the points cannot be placed; you may want to decrease the size of the markers or use stripplot.\n",
      "  warnings.warn(msg, UserWarning)\n",
      "/Users/andreas/opt/anaconda3/lib/python3.8/site-packages/seaborn/categorical.py:1296: UserWarning: 54.8% of the points cannot be placed; you may want to decrease the size of the markers or use stripplot.\n",
      "  warnings.warn(msg, UserWarning)\n",
      "/Users/andreas/opt/anaconda3/lib/python3.8/site-packages/seaborn/categorical.py:1296: UserWarning: 45.7% of the points cannot be placed; you may want to decrease the size of the markers or use stripplot.\n",
      "  warnings.warn(msg, UserWarning)\n",
      "/Users/andreas/opt/anaconda3/lib/python3.8/site-packages/seaborn/categorical.py:1296: UserWarning: 44.9% of the points cannot be placed; you may want to decrease the size of the markers or use stripplot.\n",
      "  warnings.warn(msg, UserWarning)\n",
      "/Users/andreas/opt/anaconda3/lib/python3.8/site-packages/seaborn/categorical.py:1296: UserWarning: 41.8% of the points cannot be placed; you may want to decrease the size of the markers or use stripplot.\n",
      "  warnings.warn(msg, UserWarning)\n",
      "/Users/andreas/opt/anaconda3/lib/python3.8/site-packages/seaborn/categorical.py:1296: UserWarning: 37.0% of the points cannot be placed; you may want to decrease the size of the markers or use stripplot.\n",
      "  warnings.warn(msg, UserWarning)\n",
      "/Users/andreas/opt/anaconda3/lib/python3.8/site-packages/seaborn/categorical.py:1296: UserWarning: 37.4% of the points cannot be placed; you may want to decrease the size of the markers or use stripplot.\n",
      "  warnings.warn(msg, UserWarning)\n",
      "/Users/andreas/opt/anaconda3/lib/python3.8/site-packages/seaborn/categorical.py:1296: UserWarning: 31.0% of the points cannot be placed; you may want to decrease the size of the markers or use stripplot.\n",
      "  warnings.warn(msg, UserWarning)\n",
      "/Users/andreas/opt/anaconda3/lib/python3.8/site-packages/seaborn/categorical.py:1296: UserWarning: 28.6% of the points cannot be placed; you may want to decrease the size of the markers or use stripplot.\n",
      "  warnings.warn(msg, UserWarning)\n",
      "/Users/andreas/opt/anaconda3/lib/python3.8/site-packages/seaborn/categorical.py:1296: UserWarning: 26.1% of the points cannot be placed; you may want to decrease the size of the markers or use stripplot.\n",
      "  warnings.warn(msg, UserWarning)\n",
      "/Users/andreas/opt/anaconda3/lib/python3.8/site-packages/seaborn/categorical.py:1296: UserWarning: 24.0% of the points cannot be placed; you may want to decrease the size of the markers or use stripplot.\n",
      "  warnings.warn(msg, UserWarning)\n",
      "/Users/andreas/opt/anaconda3/lib/python3.8/site-packages/seaborn/categorical.py:1296: UserWarning: 15.1% of the points cannot be placed; you may want to decrease the size of the markers or use stripplot.\n",
      "  warnings.warn(msg, UserWarning)\n",
      "/Users/andreas/opt/anaconda3/lib/python3.8/site-packages/seaborn/categorical.py:1296: UserWarning: 15.7% of the points cannot be placed; you may want to decrease the size of the markers or use stripplot.\n",
      "  warnings.warn(msg, UserWarning)\n",
      "/Users/andreas/opt/anaconda3/lib/python3.8/site-packages/seaborn/categorical.py:1296: UserWarning: 11.1% of the points cannot be placed; you may want to decrease the size of the markers or use stripplot.\n",
      "  warnings.warn(msg, UserWarning)\n",
      "/Users/andreas/opt/anaconda3/lib/python3.8/site-packages/seaborn/categorical.py:1296: UserWarning: 12.1% of the points cannot be placed; you may want to decrease the size of the markers or use stripplot.\n",
      "  warnings.warn(msg, UserWarning)\n",
      "/Users/andreas/opt/anaconda3/lib/python3.8/site-packages/seaborn/categorical.py:1296: UserWarning: 5.5% of the points cannot be placed; you may want to decrease the size of the markers or use stripplot.\n",
      "  warnings.warn(msg, UserWarning)\n",
      "/Users/andreas/opt/anaconda3/lib/python3.8/site-packages/seaborn/categorical.py:1296: UserWarning: 10.5% of the points cannot be placed; you may want to decrease the size of the markers or use stripplot.\n",
      "  warnings.warn(msg, UserWarning)\n",
      "/Users/andreas/opt/anaconda3/lib/python3.8/site-packages/seaborn/categorical.py:1296: UserWarning: 23.4% of the points cannot be placed; you may want to decrease the size of the markers or use stripplot.\n",
      "  warnings.warn(msg, UserWarning)\n",
      "/Users/andreas/opt/anaconda3/lib/python3.8/site-packages/seaborn/categorical.py:1296: UserWarning: 22.1% of the points cannot be placed; you may want to decrease the size of the markers or use stripplot.\n",
      "  warnings.warn(msg, UserWarning)\n",
      "/Users/andreas/opt/anaconda3/lib/python3.8/site-packages/seaborn/categorical.py:1296: UserWarning: 14.3% of the points cannot be placed; you may want to decrease the size of the markers or use stripplot.\n",
      "  warnings.warn(msg, UserWarning)\n",
      "/Users/andreas/opt/anaconda3/lib/python3.8/site-packages/seaborn/categorical.py:1296: UserWarning: 17.0% of the points cannot be placed; you may want to decrease the size of the markers or use stripplot.\n",
      "  warnings.warn(msg, UserWarning)\n",
      "/Users/andreas/opt/anaconda3/lib/python3.8/site-packages/seaborn/categorical.py:1296: UserWarning: 15.7% of the points cannot be placed; you may want to decrease the size of the markers or use stripplot.\n",
      "  warnings.warn(msg, UserWarning)\n",
      "/Users/andreas/opt/anaconda3/lib/python3.8/site-packages/seaborn/categorical.py:1296: UserWarning: 14.6% of the points cannot be placed; you may want to decrease the size of the markers or use stripplot.\n",
      "  warnings.warn(msg, UserWarning)\n",
      "/Users/andreas/opt/anaconda3/lib/python3.8/site-packages/seaborn/categorical.py:1296: UserWarning: 16.5% of the points cannot be placed; you may want to decrease the size of the markers or use stripplot.\n",
      "  warnings.warn(msg, UserWarning)\n",
      "/Users/andreas/opt/anaconda3/lib/python3.8/site-packages/seaborn/categorical.py:1296: UserWarning: 17.2% of the points cannot be placed; you may want to decrease the size of the markers or use stripplot.\n",
      "  warnings.warn(msg, UserWarning)\n",
      "/Users/andreas/opt/anaconda3/lib/python3.8/site-packages/seaborn/categorical.py:1296: UserWarning: 16.7% of the points cannot be placed; you may want to decrease the size of the markers or use stripplot.\n",
      "  warnings.warn(msg, UserWarning)\n",
      "/Users/andreas/opt/anaconda3/lib/python3.8/site-packages/seaborn/categorical.py:1296: UserWarning: 7.5% of the points cannot be placed; you may want to decrease the size of the markers or use stripplot.\n",
      "  warnings.warn(msg, UserWarning)\n",
      "/Users/andreas/opt/anaconda3/lib/python3.8/site-packages/seaborn/categorical.py:1296: UserWarning: 6.7% of the points cannot be placed; you may want to decrease the size of the markers or use stripplot.\n",
      "  warnings.warn(msg, UserWarning)\n",
      "/Users/andreas/opt/anaconda3/lib/python3.8/site-packages/seaborn/categorical.py:1296: UserWarning: 9.1% of the points cannot be placed; you may want to decrease the size of the markers or use stripplot.\n",
      "  warnings.warn(msg, UserWarning)\n",
      "/Users/andreas/opt/anaconda3/lib/python3.8/site-packages/seaborn/categorical.py:1296: UserWarning: 25.9% of the points cannot be placed; you may want to decrease the size of the markers or use stripplot.\n",
      "  warnings.warn(msg, UserWarning)\n",
      "/Users/andreas/opt/anaconda3/lib/python3.8/site-packages/seaborn/categorical.py:1296: UserWarning: 31.5% of the points cannot be placed; you may want to decrease the size of the markers or use stripplot.\n",
      "  warnings.warn(msg, UserWarning)\n",
      "/Users/andreas/opt/anaconda3/lib/python3.8/site-packages/seaborn/categorical.py:1296: UserWarning: 29.0% of the points cannot be placed; you may want to decrease the size of the markers or use stripplot.\n",
      "  warnings.warn(msg, UserWarning)\n",
      "/Users/andreas/opt/anaconda3/lib/python3.8/site-packages/seaborn/categorical.py:1296: UserWarning: 32.3% of the points cannot be placed; you may want to decrease the size of the markers or use stripplot.\n",
      "  warnings.warn(msg, UserWarning)\n",
      "/Users/andreas/opt/anaconda3/lib/python3.8/site-packages/seaborn/categorical.py:1296: UserWarning: 26.9% of the points cannot be placed; you may want to decrease the size of the markers or use stripplot.\n",
      "  warnings.warn(msg, UserWarning)\n",
      "/Users/andreas/opt/anaconda3/lib/python3.8/site-packages/seaborn/categorical.py:1296: UserWarning: 33.3% of the points cannot be placed; you may want to decrease the size of the markers or use stripplot.\n",
      "  warnings.warn(msg, UserWarning)\n",
      "/Users/andreas/opt/anaconda3/lib/python3.8/site-packages/seaborn/categorical.py:1296: UserWarning: 29.4% of the points cannot be placed; you may want to decrease the size of the markers or use stripplot.\n",
      "  warnings.warn(msg, UserWarning)\n",
      "/Users/andreas/opt/anaconda3/lib/python3.8/site-packages/seaborn/categorical.py:1296: UserWarning: 26.8% of the points cannot be placed; you may want to decrease the size of the markers or use stripplot.\n",
      "  warnings.warn(msg, UserWarning)\n",
      "/Users/andreas/opt/anaconda3/lib/python3.8/site-packages/seaborn/categorical.py:1296: UserWarning: 28.0% of the points cannot be placed; you may want to decrease the size of the markers or use stripplot.\n",
      "  warnings.warn(msg, UserWarning)\n",
      "/Users/andreas/opt/anaconda3/lib/python3.8/site-packages/seaborn/categorical.py:1296: UserWarning: 23.9% of the points cannot be placed; you may want to decrease the size of the markers or use stripplot.\n",
      "  warnings.warn(msg, UserWarning)\n",
      "/Users/andreas/opt/anaconda3/lib/python3.8/site-packages/seaborn/categorical.py:1296: UserWarning: 23.4% of the points cannot be placed; you may want to decrease the size of the markers or use stripplot.\n",
      "  warnings.warn(msg, UserWarning)\n",
      "/Users/andreas/opt/anaconda3/lib/python3.8/site-packages/seaborn/categorical.py:1296: UserWarning: 20.2% of the points cannot be placed; you may want to decrease the size of the markers or use stripplot.\n",
      "  warnings.warn(msg, UserWarning)\n",
      "/Users/andreas/opt/anaconda3/lib/python3.8/site-packages/seaborn/categorical.py:1296: UserWarning: 9.3% of the points cannot be placed; you may want to decrease the size of the markers or use stripplot.\n",
      "  warnings.warn(msg, UserWarning)\n",
      "/Users/andreas/opt/anaconda3/lib/python3.8/site-packages/seaborn/categorical.py:1296: UserWarning: 14.5% of the points cannot be placed; you may want to decrease the size of the markers or use stripplot.\n",
      "  warnings.warn(msg, UserWarning)\n",
      "/Users/andreas/opt/anaconda3/lib/python3.8/site-packages/seaborn/categorical.py:1296: UserWarning: 11.1% of the points cannot be placed; you may want to decrease the size of the markers or use stripplot.\n",
      "  warnings.warn(msg, UserWarning)\n",
      "/Users/andreas/opt/anaconda3/lib/python3.8/site-packages/seaborn/categorical.py:1296: UserWarning: 9.1% of the points cannot be placed; you may want to decrease the size of the markers or use stripplot.\n",
      "  warnings.warn(msg, UserWarning)\n",
      "/Users/andreas/opt/anaconda3/lib/python3.8/site-packages/seaborn/categorical.py:1296: UserWarning: 8.8% of the points cannot be placed; you may want to decrease the size of the markers or use stripplot.\n",
      "  warnings.warn(msg, UserWarning)\n"
     ]
    },
    {
     "name": "stdout",
     "output_type": "stream",
     "text": [
      "\n",
      "\n",
      "\n",
      "\n",
      "\n",
      "\n",
      "\n",
      "\n",
      "\n",
      "\n",
      "\n",
      "\n"
     ]
    }
   ],
   "source": [
    "plot_analysis_window(\"../../AnalysisDataOrganized/AHA_2_MMStack_Pos0.ome_locs_render_driftcor_filter_render_pix0.02X6f20/Output/2021_09_30__20_13_56/\")"
   ]
  },
  {
   "cell_type": "code",
   "execution_count": null,
   "metadata": {},
   "outputs": [],
   "source": [
    "# Runs through all folders, analyses if results are not there, and plots results \n",
    "for cell_folder in glob(\"../../AnalysisDataOrganized/*/\"):        \n",
    "    print(f\"Analysing cell {cell_folder}\")    \n",
    "    for sim_folder in glob(cell_folder+'Output/*/'):\n",
    "        print(f\"Analysing window {sim_folder}\")\n",
    "        plot_analysis_window(sim_folder);\n",
    "        #mark = (CB.phasespace_all_aboveT['T']>CB.phasespace_all_aboveT['threshold']);\n",
    "        #idx_chosen = CB.phasespace_all_aboveT.loc[mark,'no_clusters'].idxmax();        \n",
    "        #PlotChosen(CB,idx_chosen);            "
   ]
  },
  {
   "cell_type": "markdown",
   "metadata": {},
   "source": [
    "# Exploratory and miscellaneous"
   ]
  },
  {
   "cell_type": "code",
   "execution_count": null,
   "metadata": {},
   "outputs": [],
   "source": [
    "CB = ClustersInOutCell(\"../../AnalysisDataOrganized/TTX_control_1/Output/2022_01_07__14_30_09/\");\n",
    "CB.GetClusterings_InOutCell();\n",
    "CB.GetSimilarityAlongOptima();"
   ]
  },
  {
   "cell_type": "code",
   "execution_count": null,
   "metadata": {},
   "outputs": [],
   "source": [
    "#ax = axs[1,0];\n",
    "mark = (CB.df_clusters_opt_th['type']=='outcell') & (CB.df_clusters_opt_th['clusterSize']>30);\n",
    "sns.scatterplot(data=CB.df_clusters_opt_th[mark],y='similarityScore',x='clusterSize',hue='threshold');\n",
    "plt.xlim(0,100);\n",
    "#plt.ylim(0,6);"
   ]
  },
  {
   "cell_type": "code",
   "execution_count": null,
   "metadata": {},
   "outputs": [],
   "source": [
    "CB.GetReferenceClustering(bestRequiredRate=.70,generalLimit=True);"
   ]
  },
  {
   "cell_type": "code",
   "execution_count": null,
   "metadata": {},
   "outputs": [],
   "source": [
    "fig,axs = plt.subplots(1,2,figsize=(12,6));\n",
    "sns.boxplot(data=clusterInfo_out[clusterInfo_out['clusterSize']>20],y='similarityScore',x='threshold',ax=axs[0])\n",
    "sns.boxplot(data=clusterInfo_in[clusterInfo_in['clusterSize']>20],y='similarityScore',x='threshold',ax=axs[1])\n",
    "\n",
    "fig,axs = plt.subplots(1,2,figsize=(12,6));\n",
    "sns.histplot(data=clusterInfo_out[clusterInfo_out['clusterSize']>20],x='similarityScore',hue='threshold',ax=axs[0],kde=True)\n",
    "sns.histplot(data=clusterInfo_in[clusterInfo_in['clusterSize']>20],x='similarityScore',hue='threshold',ax=axs[1],kde=True)\n",
    "\n",
    "fig,axs = plt.subplots(1,2,figsize=(12,6));\n",
    "sns.histplot(data=clusterInfo_out[clusterInfo_out['clusterSize']>20],x='threshold',ax=axs[0],kde=True,binwidth=1)\n",
    "sns.histplot(data=clusterInfo_in[clusterInfo_in['clusterSize']>20],x='threshold',ax=axs[1],kde=True,binwidth=1)\n",
    "\n",
    "fig,axs = plt.subplots(1,2,figsize=(12,6));\n",
    "sns.histplot(data=clusterInfo_out[clusterInfo_out['clusterSize']>20],x='clusterSize',hue='threshold',ax=axs[0],kde=True)\n",
    "sns.histplot(data=clusterInfo_in[clusterInfo_in['clusterSize']>20],x='clusterSize',hue='threshold',ax=axs[1],kde=True)\n",
    "\n"
   ]
  },
  {
   "cell_type": "code",
   "execution_count": null,
   "metadata": {},
   "outputs": [],
   "source": [
    "sns.scatterplot(data=clusterInfo_out,y='similarityScore',x='clusterSize',hue='threshold',alpha=0.1,palette=\"Set1\");\n",
    "plt.xlim(0,100)"
   ]
  },
  {
   "cell_type": "code",
   "execution_count": null,
   "metadata": {},
   "outputs": [],
   "source": [
    "sns.scatterplot(data=similarityScore,y='similarityScore',x='clusterSize',hue='threshold',alpha=0.2);\n",
    "plt.xlim(0,100)"
   ]
  },
  {
   "cell_type": "code",
   "execution_count": null,
   "metadata": {},
   "outputs": [],
   "source": [
    "sns.lineplot(data=phasespace_out,x='threshold',y='similarityScore');"
   ]
  },
  {
   "cell_type": "code",
   "execution_count": null,
   "metadata": {},
   "outputs": [],
   "source": []
  },
  {
   "cell_type": "code",
   "execution_count": null,
   "metadata": {},
   "outputs": [],
   "source": [
    "sns.lineplot(data=cli_similarityScore,x='threshold',y='similarityScore');"
   ]
  },
  {
   "cell_type": "code",
   "execution_count": null,
   "metadata": {},
   "outputs": [],
   "source": [
    "cli_similarityScore"
   ]
  },
  {
   "cell_type": "code",
   "execution_count": null,
   "metadata": {},
   "outputs": [],
   "source": [
    "(CB.df_clusterSizes_all['index'])"
   ]
  },
  {
   "cell_type": "code",
   "execution_count": null,
   "metadata": {},
   "outputs": [],
   "source": [
    "ps_sub = CB.phasespace_all.loc[df_opt_th['idx'],:];"
   ]
  },
  {
   "cell_type": "code",
   "execution_count": null,
   "metadata": {},
   "outputs": [],
   "source": [
    "ps_sub.index[ps_sub.index <= 31]"
   ]
  },
  {
   "cell_type": "code",
   "execution_count": null,
   "metadata": {},
   "outputs": [],
   "source": []
  },
  {
   "cell_type": "code",
   "execution_count": null,
   "metadata": {},
   "outputs": [],
   "source": [
    "df_opt_th"
   ]
  },
  {
   "cell_type": "code",
   "execution_count": null,
   "metadata": {},
   "outputs": [],
   "source": [
    "PlotPhaseSpaces(CB)"
   ]
  },
  {
   "cell_type": "code",
   "execution_count": null,
   "metadata": {},
   "outputs": [],
   "source": [
    "CB.GetReferenceClustering(bestRequiredRate=.70,generalLimit=False);\n",
    "#row_chosen = CB.GetClustering();\n",
    "\n",
    "mark = (CB.phasespace_all_aboveT['T']>CB.phasespace_all_aboveT['threshold']);\n",
    "idx_chosen = CB.phasespace_all_aboveT.loc[mark,'no_clusters'].idxmax();"
   ]
  },
  {
   "cell_type": "markdown",
   "metadata": {},
   "source": [
    "## Distribution of cell sizes per parameter"
   ]
  },
  {
   "cell_type": "code",
   "execution_count": null,
   "metadata": {},
   "outputs": [],
   "source": [
    "CB.GetReferenceClustering(bestRequiredRate=.80,generalLimit=False);"
   ]
  },
  {
   "cell_type": "code",
   "execution_count": null,
   "metadata": {},
   "outputs": [],
   "source": [
    "df_opt_th"
   ]
  },
  {
   "cell_type": "code",
   "execution_count": null,
   "metadata": {},
   "outputs": [],
   "source": [
    "df_all = CB.df_clusterSizes_all;\n",
    "idx  = 163;#98;#76;\n",
    "max_bin = 100;\n",
    "mark = (df_all['index'] == idx);\n",
    "df_sel = (df_all.loc[mark,:]).copy();\n",
    "df_sel.loc[df_sel['clusterSize']>max_bin,'clusterSize'] = max_bin;\n",
    "\n",
    "bins = np.linspace(0,max_bin,100);\n",
    "fig,axs = plt.subplots(1,1,figsize=(10,8));\n",
    "sns.histplot(df_sel,x='clusterSize',bins=bins,hue='type',stat=\"density\", common_norm=False,ax=axs);\n",
    "\n",
    "CB.phasespace_all_aboveT.loc[idx,'T']"
   ]
  },
  {
   "cell_type": "code",
   "execution_count": null,
   "metadata": {},
   "outputs": [],
   "source": [
    "with pd.option_context('display.max_rows', None, 'display.max_columns', None):\n",
    "    print(df_all.groupby(['threshold','sigma','type']).quantile(0.7))"
   ]
  },
  {
   "cell_type": "code",
   "execution_count": null,
   "metadata": {},
   "outputs": [],
   "source": [
    "#PlotScatter(CB.XC_incell,CB.phasespace_all.loc[idx,'labels'])\n",
    "PlotScatter(CB.XC_incell,CB.phasespace_all.loc[idx,'labels'])\n",
    "PlotScatter(CB.XC_incell,CB.phasespace_all.loc[2,'labels'])\n",
    "PlotScatter(CB.XC_incell,CB.phasespace_all.loc[16,'labels'])\n"
   ]
  },
  {
   "cell_type": "code",
   "execution_count": null,
   "metadata": {},
   "outputs": [],
   "source": [
    "fig,axs = plt.subplots(1,1,figsize=(15,15));\n",
    "PlotScatter(CB.XC_outcell,CB.phasespace_all.loc[idx,'labels_ref'],ax=axs)\n",
    "PlotScatter(CB.XC_outcell,CB.phasespace_all_aboveT.loc[idx,'labels_ref'])"
   ]
  },
  {
   "cell_type": "markdown",
   "metadata": {},
   "source": [
    "## Some Analysis"
   ]
  },
  {
   "cell_type": "code",
   "execution_count": null,
   "metadata": {},
   "outputs": [],
   "source": [
    "import plotly.express as px\n",
    "df = px.data.tips()\n",
    "fig = px.histogram(CB.df_clusterSizes_all, x=\"clusterSize\", color=\"type\", marginal=\"rug\",hover_data=CB.df_clusterSizes_all.columns,\\\n",
    "                  histnorm='probability density')\n",
    "fig.show()"
   ]
  },
  {
   "cell_type": "code",
   "execution_count": null,
   "metadata": {
    "scrolled": true
   },
   "outputs": [],
   "source": [
    "#Plot Overview\n",
    "fig,axs = plt.subplots(1,2,figsize=(12,5));\n",
    "PlotScatter(CB.XC_incell,ax=axs[0])\n",
    "PlotScatter(CB.XC_outcell,ax=axs[1])\n",
    "#np.savetxt(outputfolder_R+analysis_name+\"_filtered_incell.txt\",XC_incell,fmt=\"%f\\t%f\");    \n",
    "axs[0].set_title('in cell,'+str(len(CB.XC_incell))+' points');\n",
    "#axs[0].set_xlim(150,158);\n",
    "#axs[0].set_ylim(140,147);\n",
    "\n",
    "axs[1].set_title('out cell, '+str(len(CB.XC_outcell))+' points');\n",
    "for ax in axs:\n",
    "    ax.set_aspect('equal');\n",
    "\n",
    "if(True): \n",
    "    axs[0].axis('off');\n",
    "    axs[1].axis('off')\n",
    "    \n",
    "    axs[0].set_title('Inside of cell');\n",
    "    axs[1].set_title('Reference -- Outside of cell');\n",
    "#axs[1].set_xlim([50,60]);\n",
    "#axs[1].set_ylim([50,60]);\n",
    "\n",
    "plt.savefig(CB.save_name+\"_localizations_incell_vs_outcell.pdf\",bbox_inches=\"tight\");\n",
    "#plt.savefig(CB.save_name+\"_localizations_incell_vs_outcell.png\",bbox_inches=\"tight\");"
   ]
  },
  {
   "cell_type": "code",
   "execution_count": null,
   "metadata": {},
   "outputs": [],
   "source": [
    "fig,axs = plt.subplots(1,1,figsize=(6,6));\n",
    "\n",
    "ax = axs;\n",
    "heatmap1_data = pd.pivot_table(CB.phasespace_all_aboveT, values='T', \n",
    "                     index=['threshold'], \n",
    "                     columns='sigma')\n",
    "ax = sns.heatmap(heatmap1_data,ax=ax);\n",
    "ax.invert_yaxis()\n",
    "ax.set_title('no_clusters in cell');"
   ]
  },
  {
   "cell_type": "code",
   "execution_count": null,
   "metadata": {
    "scrolled": true
   },
   "outputs": [],
   "source": [
    "fig,axs = plt.subplots(2,2,figsize=(12,12));\n",
    "\n",
    "ax = axs[0,0];\n",
    "heatmap1_data = pd.pivot_table(CB.phasespace_all, values='no_clusters', \n",
    "                     index=['threshold'], \n",
    "                     columns='sigma')\n",
    "ax = sns.heatmap(heatmap1_data,ax=ax);\n",
    "ax.invert_yaxis()\n",
    "ax.set_title('no_clusters in cell');\n",
    "\n",
    "ax = axs[0,1];\n",
    "heatmap1_data = pd.pivot_table(CB.phasespace_all, values='no_clusters_ref', \n",
    "                     index=['threshold'], \n",
    "                     columns='sigma')\n",
    "ax = sns.heatmap(heatmap1_data,ax=ax);\n",
    "ax.invert_yaxis()\n",
    "ax.set_title('no_clusters out cell');\n",
    "\n",
    "ax = axs[1,0];\n",
    "heatmap1_data = pd.pivot_table(CB.phasespace_all_aboveT, values='no_clusters', \n",
    "                     index=['threshold'], \n",
    "                     columns='sigma')\n",
    "ax = sns.heatmap(heatmap1_data,ax=ax);\n",
    "ax.invert_yaxis()\n",
    "ax.set_title('number of in cell clusters above T');\n",
    "\n",
    "ax = axs[1,1];\n",
    "heatmap1_data = pd.pivot_table(CB.phasespace_all_aboveT, values='no_clusters_ref', \n",
    "                     index=['threshold'], \n",
    "                     columns='sigma')\n",
    "ax = sns.heatmap(heatmap1_data,ax=ax,);\n",
    "ax.invert_yaxis()\n",
    "ax.set_title('number of out cell clusters above T');\n",
    "\n",
    "\n",
    "plt.tight_layout()\n",
    "plt.savefig(CB.save_name+\"_number_of_clusters.pdf\",bbox_inches=\"tight\");"
   ]
  },
  {
   "cell_type": "code",
   "execution_count": null,
   "metadata": {},
   "outputs": [],
   "source": [
    "fig,axs = plt.subplots(1,2,figsize=(12,7));\n",
    "\n",
    "ax = axs[0];\n",
    "heatmap1_data = pd.pivot_table(CB.phasespace_all_aboveT, values='percent_locsIncluded', \n",
    "                     index=['threshold'], \n",
    "                     columns='sigma')\n",
    "ax = sns.heatmap(heatmap1_data,ax=ax);\n",
    "ax.invert_yaxis()\n",
    "ax.set_title('percent_locsIncluded in cell');\n",
    "\n",
    "ax = axs[1];\n",
    "heatmap1_data = pd.pivot_table(CB.phasespace_all_aboveT, values='percent_locsIncluded_ref', \n",
    "                     index=['threshold'], \n",
    "                     columns='sigma')\n",
    "ax = sns.heatmap(heatmap1_data,ax=ax);\n",
    "ax.invert_yaxis()\n",
    "ax.set_title('percent_locsIncluded out cell');\n",
    "\n",
    "plt.tight_layout()\n",
    "plt.savefig(CB.save_name+\"_aboveT_percent_included.pdf\",bbox_inches=\"tight\");"
   ]
  },
  {
   "cell_type": "code",
   "execution_count": null,
   "metadata": {},
   "outputs": [],
   "source": [
    "fig,axs = plt.subplots(1,2,figsize=(12,7));\n",
    "\n",
    "ax = axs[0];\n",
    "heatmap1_data = pd.pivot_table(CB.phasespace_all_aboveT, values='T', \n",
    "                     index=['threshold'], \n",
    "                     columns='sigma')\n",
    "ax = sns.heatmap(heatmap1_data,ax=ax);\n",
    "ax.invert_yaxis()\n",
    "ax.set_title('T');"
   ]
  },
  {
   "cell_type": "code",
   "execution_count": null,
   "metadata": {},
   "outputs": [],
   "source": [
    "v_in = [];\n",
    "v_out = [];\n",
    "for idx in np.arange(len(CB.phasespace_all)):\n",
    "    mark = (CB.df_clusterSizes_all['index']==idx);\n",
    "    v_in.append(np.max(CB.df_clusterSizes_all.loc[mark & (CB.df_clusterSizes_all['type']=='incell'),'clusterSize']));\n",
    "    v_out.append(np.max(CB.df_clusterSizes_all.loc[mark & (CB.df_clusterSizes_all['type']=='outcell'),'clusterSize']));    \n",
    "CB.phasespace_all['maxClusterSize_in'] = v_in;\n",
    "CB.phasespace_all['maxClusterSize_out'] = v_out;"
   ]
  },
  {
   "cell_type": "code",
   "execution_count": null,
   "metadata": {},
   "outputs": [],
   "source": [
    "fig,axs = plt.subplots(1,2,figsize=(12,7));\n",
    "\n",
    "ax = axs[0];\n",
    "heatmap1_data = pd.pivot_table(CB.phasespace_all, values='maxClusterSize_in', \n",
    "                     index=['threshold'], \n",
    "                     columns='sigma')\n",
    "ax = sns.heatmap(heatmap1_data,ax=ax);\n",
    "ax.invert_yaxis()\n",
    "ax.set_title('maxClusterSize in');\n",
    "\n",
    "ax = axs[1];\n",
    "heatmap1_data = pd.pivot_table(CB.phasespace_all, values='maxClusterSize_out', \n",
    "                     index=['threshold'], \n",
    "                     columns='sigma')\n",
    "ax = sns.heatmap(heatmap1_data,ax=ax);\n",
    "ax.invert_yaxis()\n",
    "ax.set_title('maxClusterSize out');"
   ]
  },
  {
   "cell_type": "code",
   "execution_count": null,
   "metadata": {},
   "outputs": [],
   "source": [
    "sns.lineplot(data=CB.df_opt_th_aboveT_ncl,x='threshold',y='no_clusters')"
   ]
  },
  {
   "cell_type": "code",
   "execution_count": null,
   "metadata": {},
   "outputs": [],
   "source": [
    "CB.phasespace_all_aboveT.loc[59,:]"
   ]
  },
  {
   "cell_type": "code",
   "execution_count": null,
   "metadata": {},
   "outputs": [],
   "source": [
    "idx = (CB.phasespace_all_aboveT.loc[CB.phasespace_all_aboveT['threshold']>=4,'no_clusters']).argmax()"
   ]
  },
  {
   "cell_type": "code",
   "execution_count": null,
   "metadata": {},
   "outputs": [],
   "source": [
    "CB.phasespace_all_aboveT.loc[14,'no_clusters']"
   ]
  },
  {
   "cell_type": "code",
   "execution_count": null,
   "metadata": {},
   "outputs": [],
   "source": [
    "idx"
   ]
  },
  {
   "cell_type": "code",
   "execution_count": null,
   "metadata": {},
   "outputs": [],
   "source": [
    "fig,axs = plt.subplots(1,2,figsize=(18,6));\n",
    "\n",
    "#idx = 63;#CB.phasespace_all_aboveT['no_clusters'].argmax();\n",
    "row_ps = CB.phasespace_all_aboveT.loc[idx,:];#row_chosen;\n",
    "\n",
    "PlotScatter(CB.XC_incell,row_ps['labels'],ax=axs[0])\n",
    "PlotScatter(CB.XC_outcell,row_ps['labels_ref'],ax=axs[1])\n",
    "if('T' in row_ps):\n",
    "    axs[0].set_title('in cell for clusters with size > '+str(row_ps['T'])+' , '+str(len(np.unique(row_ps['labels']))-1)+' clusters');\n",
    "    axs[1].set_title('out cell for clusters with size > '+str(row_ps['T'])+' , '+str(len(np.unique(row_ps['labels_ref']))-1)+' clusters');\n",
    "else:\n",
    "    axs[0].set_title('in cell for '+str(len(np.unique(row_ps['labels']))-1)+' clusters');\n",
    "    axs[1].set_title('out cell for ' +str(len(np.unique(row_ps['labels_ref']))-1)+' clusters');            \n",
    "\n",
    "if(False): \n",
    "    axs[0].axis('off');\n",
    "    axs[1].axis('off')\n",
    "\n",
    "    axs[0].set_title('Inside of cell');\n",
    "    axs[1].set_title('Reference -- Outside of cell');\n",
    "    \n",
    "#axs[1].set_xlim(135,145);\n",
    "#axs[1].set_ylim(200,210);\n",
    "\n",
    "parameters_txt = \"sigma_\"+str(np.round(row_chosen['sigma'],2))+\"_threshold_\"+str(int(row_chosen['threshold']))\n",
    "plt.savefig(CB.save_name+\"_OptimalClustering\"+parameters_txt+\".png\",bbox_inches=\"tight\");"
   ]
  },
  {
   "cell_type": "code",
   "execution_count": null,
   "metadata": {},
   "outputs": [],
   "source": [
    "CB.phasespace_all_aboveT.loc[90,:]"
   ]
  },
  {
   "cell_type": "code",
   "execution_count": null,
   "metadata": {},
   "outputs": [],
   "source": [
    "sns.displot(data=CB.df_clusterSizes_all.loc[CB.df_clusterSizes_all['index']==90,:],x='clusterSize',hue='type')"
   ]
  },
  {
   "cell_type": "code",
   "execution_count": null,
   "metadata": {},
   "outputs": [],
   "source": [
    "def PlotAllClustersAlongOptimumAboveT(CB,name):\n",
    "    \n",
    "    df_opt_th_aboveT     = GetLineOfOptima(CB.phasespace_all_aboveT[['sigma', 'threshold','similarityScore','no_clusters']],'threshold','similarityScore');\n",
    "    \n",
    "    for idx,row in df_opt_th_aboveT.iterrows():\n",
    "        row_ps = CB.phasespace_all_aboveT.loc[row['idx'],:];\n",
    "\n",
    "        sigma = row['sigma'];\n",
    "        threshold = row['threshold'];\n",
    "\n",
    "        fig,axs = plt.subplots(1,2,figsize=(13,8)); \n",
    "        PlotScatter(CB.XC_incell,row_ps['labels'],ax=axs[0])\n",
    "        PlotScatter(CB.XC_outcell,row_ps['labels_ref'],ax=axs[1])\n",
    "        if('T' in CB.phasespace_all_aboveT.columns):\n",
    "            axs[0].set_title('in cell for clusters with size > '+str(row_ps['T'])+' , '+str(len(np.unique(row_ps['labels']))-1)+' clusters');\n",
    "            axs[1].set_title('out cell for clusters with size > '+str(row_ps['T'])+' , '+str(len(np.unique(row_ps['labels_ref']))-1)+' clusters');\n",
    "        else:\n",
    "            axs[0].set_title('in cell for '+str(len(np.unique(row_ps['labels']))-1)+' clusters');\n",
    "            axs[1].set_title('out cell for ' +str(len(np.unique(row_ps['labels_ref']))-1)+' clusters');            \n",
    "\n",
    "        #axs[1].set_ylim([57500,62500]);\n",
    "        #axs[1].set_xlim([55000,60000]);\n",
    "\n",
    "        if(False): \n",
    "            axs[0].axis('off');\n",
    "            axs[1].axis('off')\n",
    "\n",
    "            axs[0].set_title('Inside of cell');\n",
    "            axs[1].set_title('Reference -- Outside of cell');\n",
    "\n",
    "        plt.savefig(CB.save_name+\"_OptimalClustering_split_threshold_\"+str(threshold)+\"_\"+name+\".png\",bbox_inches=\"tight\");"
   ]
  },
  {
   "cell_type": "code",
   "execution_count": null,
   "metadata": {},
   "outputs": [],
   "source": [
    "PlotAllClustersAlongOptimumAboveT(CB,'aboveT')"
   ]
  },
  {
   "cell_type": "code",
   "execution_count": null,
   "metadata": {},
   "outputs": [],
   "source": [
    "df_incell   = CB.df_clusterSizes_all[(CB.df_clusterSizes_all['type']=='incell')];\n",
    "df_outcell  = CB.df_clusterSizes_all[(CB.df_clusterSizes_all['type']=='outcell')];\n",
    "GetOptimalTH(df_incell,df_outcell,criterion='clusterSize',min_noClustersToAnalyse=10,bestRequiredRate=0.8)"
   ]
  },
  {
   "cell_type": "code",
   "execution_count": null,
   "metadata": {},
   "outputs": [],
   "source": [
    "from ClustersInOutCell import ClustersInOutCell\n",
    "from FigY_Functions.py import PlotScatter,LoadPoints\n",
    "import matplotlib.pyplot as plt\n",
    "import numpy as np\n",
    "import pandas as pd\n",
    "import seaborn as sns\n",
    "\n",
    "basefolder    = \"../../ProteinData_ttx_1hr_2/AHA_2_MMStack_Pos0.ome_locs_render_driftcor_filter_render_pix0.02X6f20/\";\n",
    "outputfolder  = basefolder+\"Output/\"\n",
    "\n",
    "\n",
    "intensity_quantile_cutoff = 0.95;\n",
    "sigma_gaussian_filter     = 5;\n",
    "size_quantile_connected_components_include = 0.5;\n",
    "N_x                       = 1000;\n",
    "N_select                  = 1000;\n",
    "\n",
    "outputfolder_window       = outputfolder+\"2021_09_29__17_12_02/\";#outputfolder+'2021_09_29__14_12_21/';"
   ]
  },
  {
   "cell_type": "code",
   "execution_count": null,
   "metadata": {},
   "outputs": [],
   "source": [
    "CB = ClustersInOutCellClusterBasing(outputfolder_window);\n",
    "CB.GetClusterings_InOutCell();\n",
    "CB.GetReferenceClustering(bestRequiredRate=0.9);"
   ]
  },
  {
   "cell_type": "code",
   "execution_count": null,
   "metadata": {},
   "outputs": [],
   "source": [
    "row_sel = CB.GetClustering(criterion='percent_locsIncluded');\n",
    "fig,axs = plt.subplots(1,2,figsize=(14,8));\n",
    "PlotScatter(CB.XC_incell,row_sel['labels'],ax=axs[0]);\n",
    "PlotScatter(CB.XC_outcell,row_sel['labels_ref'],ax=axs[1]);\n",
    "#sns.scatterplot(x=CB.XC_incell[:,0],y=CB.XC_incell[:,1],hue=labels,palette='Set1');\n",
    "axs[0].set_aspect(1);\n",
    "axs[1].set_aspect(1);"
   ]
  },
  {
   "cell_type": "code",
   "execution_count": null,
   "metadata": {},
   "outputs": [],
   "source": [
    "CB.phasespace_all_aboveT"
   ]
  },
  {
   "cell_type": "code",
   "execution_count": null,
   "metadata": {},
   "outputs": [],
   "source": [
    "fig,axs = plt.subplots(2,2,figsize=(12,13));\n",
    "\n",
    "\n",
    "heatmap1_data = pd.pivot_table(CB.phasespace_all, values='no_clusters', \n",
    "                     index=['threshold'], \n",
    "                     columns='sigma')\n",
    "ax = sns.heatmap(heatmap1_data,ax=axs[0,0]);\n",
    "ax.invert_yaxis()\n",
    "ax.set_title('similarityScore');"
   ]
  },
  {
   "cell_type": "code",
   "execution_count": null,
   "metadata": {},
   "outputs": [],
   "source": [
    "from FigX4_Explore2DOptimizer_withReference_Streamlined_Functions import RemoveLabelsSmallerT"
   ]
  },
  {
   "cell_type": "code",
   "execution_count": null,
   "metadata": {},
   "outputs": [],
   "source": [
    "phasespace_all      = CB.phasespace_all;\n",
    "df_clusterSizes_all = CB.df_clusterSizes_all;\n",
    "labels_outcell = [];\n",
    "T_ = 162;\n",
    "criterion='clusterSize';\n",
    "\n",
    "#for idx,row in phasespace_all.iterrows():\n",
    "row = phasespace_all.loc[123,:];\n",
    "\n",
    "th,si = row['threshold'],row['sigma'];\n",
    "\n",
    "df_outcell  = df_clusterSizes_all[(df_clusterSizes_all['threshold']==th)&\\\n",
    "                (df_clusterSizes_all['sigma']==si)&\\\n",
    "                (df_clusterSizes_all['type']=='outcell')];\n",
    "\n",
    "#*******************************************************\n",
    "# Get labels of clusters larger than T\n",
    "#        l_ = RemoveLabelsSmallerT(row['labels'],df_incell,T_,criterion)\n",
    "#        labels_incell.append(l_);\n",
    "#        percent_locsIncluded_aboveT.append(np.sum(l_>=0)/len(l_))\n",
    "l_ = RemoveLabelsSmallerT(row['labels_ref'],df_outcell,T_,criterion)\n",
    "\n",
    "#        percent_locsIncluded_aboveT_ref.append(np.sum(l_>=0)/len(l_))\n",
    "#*******************************************************"
   ]
  }
 ],
 "metadata": {
  "kernelspec": {
   "display_name": "Python 3",
   "language": "python",
   "name": "python3"
  },
  "language_info": {
   "codemirror_mode": {
    "name": "ipython",
    "version": 3
   },
   "file_extension": ".py",
   "mimetype": "text/x-python",
   "name": "python",
   "nbconvert_exporter": "python",
   "pygments_lexer": "ipython3",
   "version": "3.8.3"
  },
  "toc": {
   "base_numbering": 1,
   "nav_menu": {},
   "number_sections": true,
   "sideBar": true,
   "skip_h1_title": false,
   "title_cell": "Table of Contents",
   "title_sidebar": "Contents",
   "toc_cell": false,
   "toc_position": {},
   "toc_section_display": true,
   "toc_window_display": true
  },
  "varInspector": {
   "cols": {
    "lenName": 16,
    "lenType": 16,
    "lenVar": 40
   },
   "kernels_config": {
    "python": {
     "delete_cmd_postfix": "",
     "delete_cmd_prefix": "del ",
     "library": "var_list.py",
     "varRefreshCmd": "print(var_dic_list())"
    },
    "r": {
     "delete_cmd_postfix": ") ",
     "delete_cmd_prefix": "rm(",
     "library": "var_list.r",
     "varRefreshCmd": "cat(var_dic_list()) "
    }
   },
   "types_to_exclude": [
    "module",
    "function",
    "builtin_function_or_method",
    "instance",
    "_Feature"
   ],
   "window_display": false
  }
 },
 "nbformat": 4,
 "nbformat_minor": 4
}
