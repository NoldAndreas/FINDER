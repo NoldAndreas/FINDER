{
 "cells": [
  {
   "cell_type": "code",
   "execution_count": 1,
   "metadata": {},
   "outputs": [],
   "source": [
    "from Basefolder import basefolder\n",
    "import time\n",
    "import numpy as np\n",
    "from Finder_1d import Finder_1d\n",
    "import matplotlib.pyplot as plt\n",
    "import scipy.spatial.distance as dist\n",
    "import seaborn as sns\n",
    "from sklearn.cluster import DBSCAN\n",
    "from Clustering_CAML import Clustering_CAML\n",
    "import h5py\n",
    "from DbscanLoop import DbscanLoop\n",
    "from sklearn.neighbors import NearestNeighbors\n",
    "import pickle\n",
    "import pandas as pd"
   ]
  },
  {
   "cell_type": "code",
   "execution_count": 2,
   "metadata": {},
   "outputs": [],
   "source": [
    "def PlotScatter(labels=[],filename_add=\"\"):\n",
    "    \n",
    "    if(labels == []):\n",
    "        labels = -1*np.ones((len(XC),));\n",
    "    \n",
    "    fig,ax = plt.subplots(1,1,figsize=(6,6)); \n",
    "       \n",
    "    mark = (labels==-1);\n",
    "    ax.scatter(x=XC[mark,0],y=XC[mark,1],s=.4,c='grey',alpha=0.1);\n",
    "\n",
    "    mark = (labels>=0);\n",
    "    sns.scatterplot(x=XC[mark,0],y=XC[mark,1],hue=labels[mark],palette='deep',linewidth=0,\n",
    "                    s=2,legend=False,ax=ax);\n",
    "    ax.set_aspect('equal');\n",
    "    plt.savefig(outputfolder+\"results_\"+analysis_name+\"_\"+filename_add+\".pdf\",bbox_inches=\"tight\");"
   ]
  },
  {
   "cell_type": "code",
   "execution_count": 3,
   "metadata": {},
   "outputs": [],
   "source": [
    "analysis_name = \"temp\";\n",
    "if(True):\n",
    "    outputfolder = '/Users/andreas/Documents/NoiseRecognizer_WorkingVersion/ProteinData_ttx_1hr_2/';\n",
    "    filename     = outputfolder+'AHA_2_MMStack_Pos0.ome_locs_render_driftcor_filter_render_pix0.02X6f20.hdf5';\n",
    "\n",
    "    datascale = 158; #=81/512*1000\n",
    "    #Define window to analyse\n",
    "    \n",
    "    analysis_name = \"noiseAnalysis_withReference_1\";\n",
    "    xInt = [60000,70000];#30000\n",
    "    yInt = [50000,60000];#30000   \n",
    "    \n",
    "    xInt_params = [22000,27000];#30000\n",
    "    yInt_params = [22000,27000];#30000    \n",
    "\n",
    "    #To study everything:\n",
    "#    xInt = [0,np.Infinity];\n",
    "#    yInt = [0,np.Infinity];\n",
    "elif(False):\n",
    "    outputfolder = '/Users/andreas/Documents/NoiseRecognizer_WorkingVersion/MikeData/';\n",
    "    filename     = outputfolder +'XC_red.txt'\n",
    "    datascale    = 1; #=81/512*1000\n",
    "    #Define window to analyse\n",
    "    xInt = [0,np.Infinity];\n",
    "    yInt = [0,np.Infinity];"
   ]
  },
  {
   "cell_type": "code",
   "execution_count": 4,
   "metadata": {},
   "outputs": [],
   "source": [
    "if(filename[-3:]==\"txt\"):\n",
    "    XC = np.loadtxt(filename);\n",
    "elif(filename[-4:]==\"hdf5\"):\n",
    "#filename = '/Users/andreas/Documents/NoiseRecognizer_WorkingVersion/ProteinData_ttx_1hr_2/AHA_2_MMStack_Pos0.ome_locs_render_driftcor_filter_render_pix0.02X6f20.hdf5';\n",
    "    f             = h5py.File(filename, 'r')    \n",
    "    dset          = f['locs'];\n",
    "    XC            = np.stack((dset[\"x\"],dset[\"y\"])).T    \n",
    "\n",
    "XC        = np.unique(XC,axis=0);\n",
    "XC        = datascale*XC;\n",
    "\n",
    "mark = (XC[:,0]>xInt[0])*(XC[:,0]<xInt[1])*(XC[:,1]>yInt[0])*(XC[:,1]<yInt[1]);\n",
    "mark_params = (XC[:,0]>xInt_params[0])*(XC[:,0]<xInt_params[1])*(XC[:,1]>yInt_params[0])*(XC[:,1]<yInt_params[1]);\n",
    "#XC   = XC[mark,:];"
   ]
  },
  {
   "cell_type": "code",
   "execution_count": null,
   "metadata": {},
   "outputs": [
    {
     "name": "stdout",
     "output_type": "stream",
     "text": [
      "Boundaries for sigma    : 14.07426813740076 , 133.4552450948347\n",
      "Postprocessing..\n"
     ]
    }
   ],
   "source": [
    "FD      = Finder_1d(algo=\"DbscanLoop\");\n",
    "labels  = FD.fit(XC[mark,:],XC[mark_params,:]);    "
   ]
  },
  {
   "cell_type": "code",
   "execution_count": null,
   "metadata": {},
   "outputs": [],
   "source": [
    "with open(outputfolder+analysis_name+'.pickle','wb') as handle:\n",
    "    pickle.dump({'FD':FD}, handle,protocol=pickle.HIGHEST_PROTOCOL)   "
   ]
  },
  {
   "cell_type": "code",
   "execution_count": null,
   "metadata": {},
   "outputs": [],
   "source": [
    "with open(outputfolder+analysis_name+'.pickle', 'rb') as fr:\n",
    "    FD_load = pickle.load(fr);"
   ]
  },
  {
   "cell_type": "code",
   "execution_count": null,
   "metadata": {},
   "outputs": [],
   "source": [
    "FD = FD_load['FD'];"
   ]
  },
  {
   "cell_type": "code",
   "execution_count": null,
   "metadata": {},
   "outputs": [],
   "source": [
    "FD.labels"
   ]
  },
  {
   "cell_type": "code",
   "execution_count": null,
   "metadata": {},
   "outputs": [],
   "source": [
    "PlotScatter(FD.labels)"
   ]
  },
  {
   "cell_type": "code",
   "execution_count": null,
   "metadata": {},
   "outputs": [],
   "source": [
    "FD.phasespace['similarityScore_mod']=FD.phasespace['similarityScore']/FD.phasespace['no_clusters']"
   ]
  },
  {
   "cell_type": "code",
   "execution_count": null,
   "metadata": {},
   "outputs": [],
   "source": [
    "df1 = FD.phasespace[['sigma', 'threshold','no_clusters']]\n",
    "heatmap1_data = pd.pivot_table(df1, values='no_clusters', \n",
    "                     index=['threshold'], \n",
    "                     columns='sigma')\n",
    "ax = sns.heatmap(heatmap1_data);\n",
    "ax.invert_yaxis()\n",
    "plt.savefig(outputfolder+\"results_\"+analysis_name+\"_noClusters.pdf\",bbox_inches=\"tight\");"
   ]
  },
  {
   "cell_type": "code",
   "execution_count": null,
   "metadata": {},
   "outputs": [],
   "source": [
    "df1 = FD.phasespace[['sigma', 'threshold','no_clusters']]\n",
    "df1.loc[:,'no_clusters'] = df1.loc[:,'no_clusters']/np.max(df1.loc[:,'no_clusters']);\n",
    "heatmap1_data = pd.pivot_table(df1, values='no_clusters', \n",
    "                     index=['threshold'], \n",
    "                     columns='sigma')\n",
    "ax = sns.heatmap(heatmap1_data);\n",
    "ax.invert_yaxis()\n",
    "plt.savefig(outputfolder+\"results_\"+analysis_name+\"_noClusters_norm.pdf\",bbox_inches=\"tight\");"
   ]
  },
  {
   "cell_type": "code",
   "execution_count": null,
   "metadata": {},
   "outputs": [],
   "source": [
    "df1 = FD.phasespace[['sigma', 'threshold','similarityScore']]\n",
    "heatmap1_data = pd.pivot_table(df1, values='similarityScore', \n",
    "                     index=['threshold'], \n",
    "                     columns='sigma')\n",
    "ax = sns.heatmap(heatmap1_data);\n",
    "ax.invert_yaxis()\n",
    "plt.savefig(outputfolder+\"results_\"+analysis_name+\"_similarityScore.pdf\",bbox_inches=\"tight\");"
   ]
  },
  {
   "cell_type": "code",
   "execution_count": null,
   "metadata": {},
   "outputs": [],
   "source": [
    "df1 = FD.phasespace[['sigma', 'threshold','similarityScore_mod']]\n",
    "heatmap1_data = pd.pivot_table(df1, values='similarityScore_mod', \n",
    "                     index=['threshold'], \n",
    "                     columns='sigma')\n",
    "ax = sns.heatmap(heatmap1_data);\n",
    "ax.invert_yaxis()\n",
    "plt.savefig(outputfolder+\"results_\"+analysis_name+\"_similarityScore_over_noise.pdf\",bbox_inches=\"tight\");"
   ]
  },
  {
   "cell_type": "code",
   "execution_count": null,
   "metadata": {},
   "outputs": [],
   "source": [
    "for th in np.unique(FD.phasespace['threshold']):\n",
    "    mark = (FD.phasespace['threshold'] == th);\n",
    "    PS_sel = FD.phasespace.loc[mark,:];\n",
    "    idx_max = PS_sel['similarityScore'].idxmax();\n",
    "    PlotScatter(PS_sel.loc[idx_max,'labels'],str(th));"
   ]
  },
  {
   "cell_type": "code",
   "execution_count": null,
   "metadata": {},
   "outputs": [],
   "source": [
    "PS_sel.loc[:,'labels']"
   ]
  },
  {
   "cell_type": "code",
   "execution_count": null,
   "metadata": {},
   "outputs": [],
   "source": []
  }
 ],
 "metadata": {
  "kernelspec": {
   "display_name": "Python 3",
   "language": "python",
   "name": "python3"
  },
  "language_info": {
   "codemirror_mode": {
    "name": "ipython",
    "version": 3
   },
   "file_extension": ".py",
   "mimetype": "text/x-python",
   "name": "python",
   "nbconvert_exporter": "python",
   "pygments_lexer": "ipython3",
   "version": "3.8.3"
  }
 },
 "nbformat": 4,
 "nbformat_minor": 4
}
