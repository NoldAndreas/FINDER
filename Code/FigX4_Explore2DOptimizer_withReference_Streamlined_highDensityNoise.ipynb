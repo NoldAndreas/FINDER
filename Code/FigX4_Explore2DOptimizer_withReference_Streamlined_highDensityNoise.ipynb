{
 "cells": [
  {
   "cell_type": "code",
   "execution_count": null,
   "metadata": {},
   "outputs": [],
   "source": [
    "from Basefolder import basefolder\n",
    "import time\n",
    "import numpy as np\n",
    "import pandas as pd\n",
    "from Finder_1d import Finder_1d\n",
    "import matplotlib.pyplot as plt\n",
    "import scipy.spatial.distance as dist\n",
    "import seaborn as sns\n",
    "from sklearn.cluster import DBSCAN\n",
    "from Clustering_CAML import Clustering_CAML\n",
    "import h5py\n",
    "from DbscanLoop import DbscanLoop\n",
    "from sklearn.neighbors import NearestNeighbors\n",
    "import pickle\n",
    "import scipy.stats as stats\n",
    "import json\n",
    "from numpy.fft import fft2, fftshift, ifft2\n",
    "import os.path\n",
    "from scipy.ndimage import gaussian_filter\n",
    "from scipy import signal\n",
    "\n",
    "from FigX4_Explore2DOptimizer_withReference_Streamlined_Functions import PlotScatter\n",
    "from FigX4_Explore2DOptimizer_withReference_Streamlined_Functions import LoadPoints\n",
    "from FigX4_Explore2DOptimizer_withReference_Streamlined_Functions import FilterPoints\n",
    "from FigX4_Explore2DOptimizer_withReference_Streamlined_Functions import GetLineOfOptima\n",
    "from FigX4_Explore2DOptimizer_withReference_Streamlined_Functions import GetLineOfOptimaUnique\n",
    "from FigX4_Explore2DOptimizer_withReference_Streamlined_Functions import GetClusterDistribution\n",
    "from FigX4_Explore2DOptimizer_withReference_Streamlined_Functions import GetClusterSizesAlongOptima\n",
    "from FigX4_Explore2DOptimizer_withReference_Streamlined_Functions import AnalyseClusterSizes\n",
    "from FigX4_Explore2DOptimizer_withReference_Streamlined_Functions import PlotDistribution\n",
    "from FigX4_Explore2DOptimizer_withReference_Streamlined_Functions import GetClusterSizesAll\n",
    "\n",
    "pd.options.mode.chained_assignment = None  # default='warn'"
   ]
  },
  {
   "cell_type": "code",
   "execution_count": null,
   "metadata": {},
   "outputs": [],
   "source": [
    "from matplotlib import rc\n",
    "#rc('font',**{'family':'sans-serif','sans-serif':['Helvetica']})\n",
    "rc('font',**{'family':'sans-serif','serif':['Arial']})"
   ]
  },
  {
   "cell_type": "code",
   "execution_count": null,
   "metadata": {},
   "outputs": [],
   "source": [
    "basefolder = '/Users/andreas/Documents/NoiseRecognizer_WorkingVersion/';"
   ]
  },
  {
   "cell_type": "markdown",
   "metadata": {},
   "source": [
    "### Possible parameter sets"
   ]
  },
  {
   "cell_type": "code",
   "execution_count": null,
   "metadata": {},
   "outputs": [],
   "source": [
    "parameters_TTX = {'mainfolder'    :'ProteinData_ttx_1hr_2/',\\\n",
    "                  'image_filename':'AHA_2_MMStack_Pos0.ome_locs_render_driftcor_filter_render_pix0.02X6f20_X',\\\n",
    "                  'incell_window' :[40000,45000,40000,45000],\\\n",
    "                  'noise_window'  :[50000,60000,40000,50000],\\\n",
    "                  'datascale'     :158,\n",
    "                  'algo'          :'DbscanLoop',\\\n",
    "                  'analysis_name' :'dataWindow_5'};\n",
    "\n",
    "parameters_Mike = {'mainfolder'    :'MikeData/',\\\n",
    "                   'image_filename' :'EGFR-P1-ATTO655_cell_2_MMImages.ome_locs_render_al_linked1sigma_X',\\\n",
    "                   'incell_window'  :[50,60,50,60],\\\n",
    "                   'noise_window'   :[50,100,100,150],\\\n",
    "                   'algo'           :'DbscanLoop',\\\n",
    "                   'analysis_name'  :'dataWindow_1'};"
   ]
  },
  {
   "cell_type": "markdown",
   "metadata": {},
   "source": [
    "# Parameters"
   ]
  },
  {
   "cell_type": "code",
   "execution_count": 5,
   "metadata": {},
   "outputs": [],
   "source": [
    "loadSaveParameters = 'load';"
   ]
  },
  {
   "cell_type": "code",
   "execution_count": 6,
   "metadata": {},
   "outputs": [],
   "source": [
    "if(loadSaveParameters=='load'):\n",
    "    parameterfile = 'ProteinData_ttx_1hr_2/Analysis_dataWindow_3/dataWindow_3_parameters';\n",
    "#    parameterfile = 'MikeData/Analysis_dataWindow_1/dataWindow_1_parameters';    \n",
    "    \n",
    "    \n",
    "    with open(basefolder+parameterfile+'.json') as f:\n",
    "        parameters = json.load(f);\n",
    "        \n",
    "    if(not ('datascale' in parameters.keys())):\n",
    "        parameters['datascale'] = 1;\n",
    "    \n",
    "elif(loadSaveParameters=='save'):\n",
    "    \n",
    "    parameters                   = parameters_TTX;    \n",
    "    parameters['outputfolder']   = parameters['mainfolder'] + 'Analysis_'+parameters['analysis_name']+'/';    \n",
    "    parameters['save_name']      = parameters['outputfolder']+parameters['analysis_name'];\n",
    "    \n",
    "    parameterfile   = basefolder+parameters['save_name']+'_parameters.json';\n",
    "        \n",
    "    if(os.path.isfile(parameterfile)):\n",
    "        \n",
    "        with open(parameterfile) as f:\n",
    "            parameters_read = json.load(f)\n",
    "        \n",
    "        if(parameters_read == parameters):\n",
    "            print('File exists with equal parameters');\n",
    "        else:\n",
    "            print('File exists with different parameters. File not saved.');\n",
    "    else:\n",
    "        \n",
    "        if not os.path.exists((basefolder+parameters['outputfolder'])):\n",
    "            os.makedirs((basefolder+parameters['outputfolder']))\n",
    "                \n",
    "        with open(parameterfile, 'w') as fp:\n",
    "            json.dump(parameters, fp, indent=4);\n",
    "            \n",
    "        print(\"Parameters saved under \"+parameterfile);\n",
    "else:\n",
    "    print(\"ERROR: Choose load or save\");"
   ]
  },
  {
   "cell_type": "code",
   "execution_count": 7,
   "metadata": {},
   "outputs": [],
   "source": [
    "save_name = basefolder + parameters['save_name'];"
   ]
  },
  {
   "cell_type": "markdown",
   "metadata": {},
   "source": [
    "# Load Points"
   ]
  },
  {
   "cell_type": "code",
   "execution_count": 53,
   "metadata": {},
   "outputs": [],
   "source": [
    "XC_incell  = LoadPoints(basefolder+parameters['mainfolder']+parameters['image_filename']+'_incell.txt',datascale=parameters['datascale']);    \n",
    "XC_outcell = LoadPoints(basefolder+parameters['mainfolder']+parameters['image_filename']+'_outcell.txt',datascale=parameters['datascale']);    "
   ]
  },
  {
   "cell_type": "code",
   "execution_count": 54,
   "metadata": {},
   "outputs": [],
   "source": [
    "#XC_incell = LoadPoints(basefolder+parameters['mainfolder']+parameters['image_filename']+'_incell.txt',datascale=158);    \n",
    "#XC_outcell  = LoadPoints(basefolder+parameters['mainfolder']+parameters['image_filename']+'_outcell.txt',datascale=158);    "
   ]
  },
  {
   "cell_type": "code",
   "execution_count": 55,
   "metadata": {
    "scrolled": true
   },
   "outputs": [],
   "source": [
    "#fig,axs = plt.subplots(1,2,figsize=(12,5));\n",
    "#PlotScatter(XC_incell[:,:],ax=axs[0])\n",
    "#PlotScatter(XC_outcell[:,:],ax=axs[1])"
   ]
  },
  {
   "cell_type": "code",
   "execution_count": 56,
   "metadata": {},
   "outputs": [],
   "source": [
    "XC_incell   = FilterPoints(XC_incell,parameters['incell_window']);\n",
    "XC_outcell  = FilterPoints(XC_outcell,parameters['outcell_window']);"
   ]
  },
  {
   "cell_type": "code",
   "execution_count": 40,
   "metadata": {},
   "outputs": [],
   "source": [
    "def GetDensity(XC):\n",
    "    x_minmax = (np.max(XC,axis=0))-np.min(XC,axis=0);\n",
    "    area     = x_minmax[0]*x_minmax[1];\n",
    "    return len(XC)/area; "
   ]
  },
  {
   "cell_type": "code",
   "execution_count": 46,
   "metadata": {},
   "outputs": [
    {
     "name": "stdout",
     "output_type": "stream",
     "text": [
      "Deviding in 4 x 4\n",
      "Ratio of localization densities: 0.9681883891642231\n"
     ]
    }
   ],
   "source": [
    "density_ration_inoutcell = GetDensity(XC_incell)/GetDensity(XC_outcell);\n",
    "\n",
    "n_x = int(np.round(np.sqrt(density_ration_inoutcell)));\n",
    "n_y = int(np.round(density_ration_inoutcell/n_x));\n",
    "print('Deviding in '+str(n_x)+' x '+str(n_y))\n",
    "\n",
    "XC_outcell_overlay = np.zeros([0,2])\n",
    "xis = np.linspace(np.min(XC_outcell[:,0]),np.max(XC_outcell[:,0]),n_x+1);\n",
    "yis = np.linspace(np.min(XC_outcell[:,1]),np.max(XC_outcell[:,1]),n_y+1);\n",
    "for i,xl in enumerate(xis[:-1]):\n",
    "    xr   = xis[i+1];\n",
    "\n",
    "    for i,yl in enumerate(yis[:-1]):        \n",
    "        yr   = yis[i+1];\n",
    "        mark = (XC_outcell[:,0]>=xl)&(XC_outcell[:,0]<=xr);    \n",
    "        mark = mark&(XC_outcell[:,1]>=yl)&(XC_outcell[:,1]<=yr);\n",
    "        XC_paste = XC_outcell[mark,:]-[xl,yl];\n",
    "        if(np.random.rand()>0.5):\n",
    "            XC_paste = XC_paste[:,[1,0]];\n",
    "        XC_outcell_overlay = np.concatenate((XC_outcell_overlay,XC_paste))\n",
    "       # break;\n",
    "#    break;\n",
    "#    for y_i np.linspace(np.min(XC_outcell[:,0]),np.max(XC_outcell[:,0]),5):\n",
    "XC_outcell = XC_outcell_overlay;\n",
    "print('Ratio of localization densities: '+str(GetDensity(XC_incell)/GetDensity(XC_outcell)));"
   ]
  },
  {
   "cell_type": "code",
   "execution_count": 14,
   "metadata": {},
   "outputs": [],
   "source": [
    "np.savetxt(basefolder+parameters['save_name']+\"_filtered_incell.txt\",XC_incell,fmt=\"%f\\t%f\");   \n",
    "np.savetxt(basefolder+parameters['save_name']+\"_filtered_outcell.txt\",XC_outcell,fmt=\"%f\\t%f\");"
   ]
  },
  {
   "cell_type": "markdown",
   "metadata": {},
   "source": [
    "Plot Overview"
   ]
  },
  {
   "cell_type": "code",
   "execution_count": 47,
   "metadata": {
    "scrolled": false
   },
   "outputs": [
    {
     "data": {
      "image/png": "[encoded data removed]",
      "text/plain": [
       "<Figure size 864x360 with 2 Axes>"
      ]
     },
     "metadata": {
      "needs_background": "light"
     },
     "output_type": "display_data"
    }
   ],
   "source": [
    "fig,axs = plt.subplots(1,2,figsize=(12,5));\n",
    "PlotScatter(XC_incell,ax=axs[0])\n",
    "PlotScatter(XC_outcell,ax=axs[1])\n",
    "#np.savetxt(outputfolder_R+analysis_name+\"_filtered_incell.txt\",XC_incell,fmt=\"%f\\t%f\");    \n",
    "axs[0].set_title('in cell,'+str(len(XC_incell))+' points');\n",
    "#axs[0].set_xlim(150,158);\n",
    "#axs[0].set_ylim(140,147);\n",
    "\n",
    "axs[1].set_title('out cell, '+str(len(XC_outcell))+' points');\n",
    "for ax in axs:\n",
    "    ax.set_aspect('equal');\n",
    "\n",
    "if(True): \n",
    "    axs[0].axis('off');\n",
    "    axs[1].axis('off')\n",
    "    \n",
    "    axs[0].set_title('Inside of cell');\n",
    "    axs[1].set_title('Reference -- Outside of cell');\n",
    "#axs[1].set_xlim([50,60]);\n",
    "#axs[1].set_ylim([50,60]);\n",
    "\n",
    "plt.savefig(basefolder+parameters['save_name']+\"_localizations_incell_vs_outcell.pdf\",bbox_inches=\"tight\");\n",
    "plt.savefig(basefolder+parameters['save_name']+\"_localizations_incell_vs_outcell.png\",bbox_inches=\"tight\");"
   ]
  },
  {
   "cell_type": "markdown",
   "metadata": {},
   "source": [
    "# Some image analysis"
   ]
  },
  {
   "cell_type": "code",
   "execution_count": null,
   "metadata": {},
   "outputs": [],
   "source": [
    "hist2dS = np.random.rand(200,200);\n",
    "hist2dS = gaussian_filter(hist2dS, sigma=10);"
   ]
  },
  {
   "cell_type": "code",
   "execution_count": 57,
   "metadata": {},
   "outputs": [],
   "source": [
    "\n",
    "#hist2dS = np.histogram2d(XC_incell[:,0],XC_incell[:,1],bins=200)[0];\n",
    "hist2dS = np.histogram2d(XC_outcell[:,0],XC_outcell[:,1],bins=200)[0];\n",
    "hist2dS[hist2dS>1] = 1;\n",
    "#hist2dS = gaussian_filter(hist2dS, sigma=10)\n",
    "#hist2dS = hist2dS.T;"
   ]
  },
  {
   "cell_type": "code",
   "execution_count": 58,
   "metadata": {},
   "outputs": [
    {
     "data": {
      "image/png": "[encoded data removed]",
      "text/plain": [
       "<Figure size 432x288 with 1 Axes>"
      ]
     },
     "metadata": {
      "needs_background": "light"
     },
     "output_type": "display_data"
    }
   ],
   "source": [
    "plt.imshow(hist2dS);"
   ]
  },
  {
   "cell_type": "code",
   "execution_count": 59,
   "metadata": {},
   "outputs": [],
   "source": [
    "corr = signal.correlate2d(hist2dS, hist2dS,boundary='wrap', mode='full')# boundary='symm'"
   ]
  },
  {
   "cell_type": "code",
   "execution_count": 65,
   "metadata": {},
   "outputs": [
    {
     "data": {
      "image/png": "[encoded data removed]",
      "text/plain": [
       "<Figure size 936x216 with 4 Axes>"
      ]
     },
     "metadata": {
      "needs_background": "light"
     },
     "output_type": "display_data"
    }
   ],
   "source": [
    "fig, (ax1, ax2, ax3) = plt.subplots(figsize=(13, 3), ncols=3)\n",
    "\n",
    "pos = ax1.imshow(corr,vmin=0);\n",
    "fig.colorbar(pos,ax=ax1)\n",
    "\n",
    "ax2.plot(np.sum(corr,axis=0));\n",
    "ax3.plot(np.sum(corr,axis=1));\n",
    "\n",
    "ax2.set_ylim([0,220000]);\n",
    "ax3.set_ylim([0,220000]);"
   ]
  },
  {
   "cell_type": "code",
   "execution_count": 63,
   "metadata": {},
   "outputs": [
    {
     "data": {
      "image/png": "[encoded data removed]",
      "text/plain": [
       "<Figure size 936x216 with 3 Axes>"
      ]
     },
     "metadata": {
      "needs_background": "light"
     },
     "output_type": "display_data"
    }
   ],
   "source": [
    "F = fft2(hist2dS) \n",
    "F = fftshift(F)\n",
    "fft_hust2dS = np.abs(F) \n",
    "\n",
    "fig, (ax1, ax2, ax3) = plt.subplots(figsize=(13, 3), ncols=3)\n",
    "\n",
    "ax1.imshow(fft_hust2dS);\n",
    "#fft_hust2dS = np.abs(np.fft.fft2(hist2dS));\n",
    "#plt.imshow(abs(fft_hust2dS));\n",
    "ax2.plot(np.sum(fft_hust2dS,axis=0))\n",
    "ax3.plot(np.sum(fft_hust2dS,axis=1))\n",
    "\n",
    "ax2.set_ylim([0,15000]);\n",
    "ax3.set_ylim([0,15000]);\n",
    "\n",
    "#hist2dS = np.histogram2d(XC_outcell[:,0],XC_outcell[:,1],bins=100);\n",
    "#plt.imshow(np.imag(np.fft.fft2(hist2dS)))"
   ]
  },
  {
   "cell_type": "code",
   "execution_count": 18,
   "metadata": {},
   "outputs": [
    {
     "data": {
      "image/png": "[encoded data removed]",
      "text/plain": [
       "<Figure size 432x288 with 1 Axes>"
      ]
     },
     "metadata": {
      "needs_background": "light"
     },
     "output_type": "display_data"
    }
   ],
   "source": [
    "hW, hH = 100,50\n",
    "hFreq = 5\n",
    "\n",
    "# Mesh on the square [0,1)x[0,1)\n",
    "x = np.linspace( 0, 2*hW/(2*hW +1), 2*hW+1)     # columns (Width)\n",
    "y = np.linspace( 0, 2*hH/(2*hH +1), 2*hH+1)     # rows (Height)\n",
    "\n",
    "[X,Y] = np.meshgrid(x,y)\n",
    "A = np.sin(hFreq*2*np.pi*X)\n",
    "\n",
    "plt.imshow(A, cmap = 'gray');\n",
    "H,W = np.shape(A)\n",
    "\n",
    "F = fft2(A)/(W*H)                          \n",
    "F = fftshift(F)\n",
    "P = np.abs(F)                            \n",
    "#plt.imshow(P);"
   ]
  },
  {
   "cell_type": "code",
   "execution_count": 21,
   "metadata": {},
   "outputs": [
    {
     "data": {
      "image/png": "[encoded data removed]",
      "text/plain": [
       "<Figure size 936x216 with 4 Axes>"
      ]
     },
     "metadata": {
      "needs_background": "light"
     },
     "output_type": "display_data"
    }
   ],
   "source": [
    "corr = signal.correlate2d(A,A,boundary='wrap', mode='full')# boundary='symm'\n",
    "fig, (ax1, ax2, ax3) = plt.subplots(figsize=(13, 3), ncols=3)\n",
    "\n",
    "pos = ax1.imshow(corr,vmin=0);\n",
    "fig.colorbar(pos,ax=ax1)\n",
    "\n",
    "ax2.plot(np.sum(corr,axis=0));\n",
    "ax3.plot(np.sum(corr,axis=1));\n",
    "\n",
    "#ax2.set_ylim([0,220000]);\n",
    "#ax3.set_ylim([0,220000]);"
   ]
  },
  {
   "cell_type": "markdown",
   "metadata": {},
   "source": [
    "# Load or compute clustering"
   ]
  },
  {
   "cell_type": "code",
   "execution_count": null,
   "metadata": {},
   "outputs": [],
   "source": [
    "#labels_ref  = FD_ref.fit(XC_outcell,XC_incell,skipSimilarityScore=True);"
   ]
  },
  {
   "cell_type": "code",
   "execution_count": null,
   "metadata": {},
   "outputs": [],
   "source": [
    "loadComputeClustering = \"load\";"
   ]
  },
  {
   "cell_type": "code",
   "execution_count": null,
   "metadata": {},
   "outputs": [],
   "source": [
    "filename = basefolder+parameters['outputfolder']+\"results_\"+parameters['analysis_name'];\n",
    "if(loadComputeClustering == \"compute\"):\n",
    "    FD      = Finder_1d(algo=parameters['algo']);\n",
    "    labels  = FD.fit(XC_incell);    \n",
    "    \n",
    "    with open(filename+'_incell.pickle','wb') as handle:\n",
    "        pickle.dump({'FD':FD}, handle,protocol=pickle.HIGHEST_PROTOCOL)   \n",
    "    \n",
    "    FD_ref      = Finder_1d(algo=parameters['algo']);\n",
    "    labels_ref  = FD_ref.fit(XC_outcell,XC_incell);    \n",
    "    \n",
    "    with open(filename+'_outcell.pickle','wb') as handle:\n",
    "        pickle.dump({'FD_ref':FD_ref}, handle,protocol=pickle.HIGHEST_PROTOCOL)   \n",
    "    \n",
    "    if(os.path.exists(filename+'.pickle')):\n",
    "        os.remove(filename+'.pickle');\n",
    "    #with open(filename+'.pickle','wb') as handle:\n",
    "    #    pickle.dump({'FD':FD,'FD_ref':FD_ref}, handle,protocol=pickle.HIGHEST_PROTOCOL)   \n",
    "elif(loadComputeClustering == \"load\"):\n",
    "    \n",
    "    if(os.path.exists(filename+'.pickle')):\n",
    "        with open(filename+'.pickle', 'rb') as fr:\n",
    "            FD_load = pickle.load(fr);\n",
    "\n",
    "        FD     = FD_load['FD'];\n",
    "        FD_ref = FD_load['FD_ref'];\n",
    "    else:\n",
    "        with open(filename+'_incell.pickle', 'rb') as fr:\n",
    "            FD_load = pickle.load(fr);\n",
    "        FD     = FD_load['FD'];        \n",
    "\n",
    "        with open(filename+'_outcell.pickle', 'rb') as fr:\n",
    "            FD_load = pickle.load(fr);        \n",
    "        FD_ref     = FD_load['FD_ref'];\n",
    "    \n",
    "    print(\"Loaded Clustering results from \"+filename+'.pickle');\n",
    "else:\n",
    "    print(\"ERROR\");"
   ]
  },
  {
   "cell_type": "code",
   "execution_count": null,
   "metadata": {},
   "outputs": [],
   "source": [
    "phasespace_all = FD.phasespace;\n",
    "phasespace_all['labels_ref'] = FD_ref.phasespace['labels']\n",
    "phasespace_all['no_clusters_ref'] = FD_ref.phasespace['no_clusters'];\n",
    "phasespace_all['time_ref'] = FD_ref.phasespace['time'];\n",
    "\n",
    "#Define abbreviated phasespace \n",
    "\n",
    "df1     = FD.phasespace[['sigma', 'threshold','similarityScore','no_clusters']];\n",
    "df1_ref = FD_ref.phasespace[['sigma', 'threshold','similarityScore','no_clusters']];\n",
    "\n",
    "df1['similarityScore_ref']       = df1_ref['similarityScore'];\n",
    "df1['similarityScore_ref_ratio'] = (df1_ref['similarityScore'])/(df1['similarityScore']);\n",
    "\n",
    "df1['no_clusters_ref']       = df1_ref['no_clusters'];\n",
    "df1['no_clusters_ref_ratio'] = (df1_ref['no_clusters'])/(df1['no_clusters']);\n",
    "\n",
    "#Assemble all cluster sizes\n",
    "df_clusterSizes     = FD.clusterInfo;#GetClusterSizesAll(FD);\n",
    "df_clusterSizes_ref = FD_ref.clusterInfo;#'GetClusterSizesAll(FD_ref);\n",
    "\n",
    "df_clusterSizes['type'] = 'incell';\n",
    "df_clusterSizes_ref['type'] = 'outcell';\n",
    "df_clusterSizes_all = df_clusterSizes.append(df_clusterSizes_ref, ignore_index=True);\n",
    "\n",
    "#Analyse line of optimal sigmas\n",
    "#df_opt_sim = GetLineOfOptima(df1,'similarityScore_ref','similarityScore',15);\n",
    "#df_opt_cl  = GetLineOfOptima(df1,'no_clusters_ref','no_clusters',15);\n",
    "\n",
    "df_opt_th     = GetLineOfOptima(df1,'threshold','similarityScore')\n",
    "df_opt_th_ncl = GetLineOfOptima(df1,'threshold','no_clusters')\n",
    "\n",
    "df_clusterSizes_opt     = GetClusterSizesAlongOptima(FD,df_opt_th);\n",
    "df_clusterSizes_ref_opt = GetClusterSizesAlongOptima(FD_ref,df_opt_th);\n",
    "\n",
    "df_clusterSizes_opt['type'] = 'incell';\n",
    "df_clusterSizes_ref_opt['type'] = 'outcell';\n",
    "df_clusterSizes_all_opt = df_clusterSizes_opt.append(df_clusterSizes_ref_opt, ignore_index=True);"
   ]
  },
  {
   "cell_type": "markdown",
   "metadata": {},
   "source": [
    "# Analysis\n",
    "## Heatmaps Similiarity Score and Number of Clusters"
   ]
  },
  {
   "cell_type": "code",
   "execution_count": null,
   "metadata": {},
   "outputs": [],
   "source": [
    "fig,axs = plt.subplots(2,2,figsize=(12,13));\n",
    "\n",
    "\n",
    "heatmap1_data = pd.pivot_table(df1, values='similarityScore', \n",
    "                     index=['threshold'], \n",
    "                     columns='sigma')\n",
    "ax = sns.heatmap(heatmap1_data,ax=axs[0,0]);\n",
    "ax.invert_yaxis()\n",
    "ax.set_title('similarityScore');\n",
    "\n",
    "heatmap1_data = pd.pivot_table(df1, values='no_clusters', \n",
    "                     index=['threshold'], \n",
    "                     columns='sigma')\n",
    "ax = sns.heatmap(heatmap1_data,ax=axs[0,1]);\n",
    "ax.invert_yaxis()\n",
    "ax.set_title('no Clusters');\n",
    "\n",
    "if(df1_ref['similarityScore'].isnull().sum() == 0):\n",
    "    heatmap1_data = pd.pivot_table(df1_ref, values='similarityScore', \n",
    "                         index=['threshold'], \n",
    "                         columns='sigma')\n",
    "    ax = sns.heatmap(heatmap1_data,ax=axs[1,0]);\n",
    "    ax.invert_yaxis()\n",
    "    ax.set_title('similarityScore Ref');\n",
    "\n",
    "heatmap1_data = pd.pivot_table(df1_ref, values='no_clusters', \n",
    "                     index=['threshold'], \n",
    "                     columns='sigma')\n",
    "ax = sns.heatmap(heatmap1_data,ax=axs[1,1]);\n",
    "ax.invert_yaxis()\n",
    "ax.set_title('no Clusters Ref');\n",
    "\n",
    "fig.tight_layout();\n",
    "plt.savefig(save_name+\"_PhaseSpaces.pdf\",bbox_inches=\"tight\");"
   ]
  },
  {
   "cell_type": "markdown",
   "metadata": {},
   "source": [
    "## Analyse Line Of Optima of incell signal"
   ]
  },
  {
   "cell_type": "code",
   "execution_count": null,
   "metadata": {
    "scrolled": true
   },
   "outputs": [],
   "source": [
    "fig,axs = plt.subplots(3,3,figsize=(14,14));\n",
    "\n",
    "ax = axs[0,0];\n",
    "ax.plot(df_opt_th['sigma'],df_opt_th['threshold'],label='similarity Score');\n",
    "sns.scatterplot(x=df_opt_th['sigma'],y=df_opt_th['threshold'],hue=df_opt_th['no_clusters_ref_ratio'],s=100,ax=ax);\n",
    "\n",
    "ax.plot(df_opt_th_ncl['sigma'],df_opt_th_ncl['threshold'],'r',label='no Clusters');\n",
    "sns.scatterplot(x=df_opt_th_ncl['sigma'],y=df_opt_th['threshold'],hue=df_opt_th['no_clusters_ref_ratio'],\\\n",
    "                s=100,ax=ax,palette='Reds');\n",
    "\n",
    "ax.set_xlim(np.min(df1['sigma']),np.max(df1['sigma']))\n",
    "ax.set_ylim(np.min(df1['threshold']),np.max(df1['threshold']))\n",
    "\n",
    "ax = axs[0,1];\n",
    "sns.lineplot(data=df_opt_th,x='threshold',y='similarityScore_ref_ratio',ax=ax);\n",
    "sns.lineplot(data=df_opt_th_ncl,x='threshold',y='similarityScore_ref_ratio',ax=ax,color='r');\n",
    "\n",
    "ax = axs[0,2];\n",
    "sns.lineplot(data=df_opt_th,x='threshold',y='no_clusters_ref_ratio',ax=ax);\n",
    "sns.lineplot(data=df_opt_th_ncl,x='threshold',y='no_clusters_ref_ratio',ax=ax,color='r');\n",
    "\n",
    "ax = axs[1,0];\n",
    "sns.lineplot(data=df_opt_th,x='threshold',y='no_clusters',ax=ax);\n",
    "ax.set_ylim(0,1.1*np.max(df_opt_th['no_clusters']));\n",
    "\n",
    "ax = axs[1,1];\n",
    "sns.lineplot(data=df_opt_th,x='threshold',y='no_clusters_ref',ax=ax);\n",
    "ax.set_ylim(0,1.1*np.max(df_opt_th['no_clusters_ref']));\n",
    "\n",
    "ax = axs[1,2];\n",
    "sns.lineplot(data=df_opt_th,x='no_clusters',y='no_clusters_ref',ax=ax);\n",
    "\n",
    "ax = axs[2,0];\n",
    "sns.lineplot(data=df_opt_th,x='threshold',y='similarityScore',ax=ax);\n",
    "ax.set_ylim(0,1.1*np.max(df_opt_th['similarityScore']));\n",
    "\n",
    "if(df_opt_th['similarityScore_ref'].isnull().sum()==0):\n",
    "    ax = axs[2,1];\n",
    "    sns.lineplot(data=df_opt_th,x='threshold',y='similarityScore_ref',ax=ax);\n",
    "    ax.set_ylim(0,1.1*np.max(df_opt_th['similarityScore_ref']));\n",
    "\n",
    "    ax = axs[2,2];\n",
    "    sns.lineplot(data=df_opt_th,x='similarityScore',y='similarityScore_ref',ax=ax);\n",
    "\n",
    "plt.savefig(save_name+\"_Analysis_alongLineOfOptima.pdf\",bbox_inches=\"tight\");"
   ]
  },
  {
   "cell_type": "code",
   "execution_count": null,
   "metadata": {},
   "outputs": [],
   "source": [
    "PlotDistribution(df_clusterSizes,df_clusterSizes_ref,save_name+\"_clusterDistribution_alongLineOfOptima_incell.pdf\");"
   ]
  },
  {
   "cell_type": "code",
   "execution_count": null,
   "metadata": {
    "scrolled": true
   },
   "outputs": [],
   "source": [
    "fig,axs = plt.subplots(1,1,figsize=(15,7));\n",
    "sns.boxplot(data=df_clusterSizes_all,y='clusterSize',x='threshold',hue='type');"
   ]
  },
  {
   "cell_type": "markdown",
   "metadata": {},
   "source": [
    "## Exploration"
   ]
  },
  {
   "cell_type": "code",
   "execution_count": null,
   "metadata": {},
   "outputs": [],
   "source": [
    "def RemoveLabelsSmallerT(labels_input,df,T,criterion):\n",
    "    #labels_incell = FD.phasespace.loc[idx_,'labels'];\n",
    "    labels           = labels_input.copy();\n",
    "    labels_to_remove = df.loc[df[criterion]<T,'labels'];\n",
    "    for l in np.unique(labels_to_remove):\n",
    "        labels[labels == l] = -1;\n",
    "    return labels;\n",
    "\n",
    "def GetOptimalT(df_incell,df_outcell,criterion):\n",
    "\n",
    "    #ts = np.linspace(10,df_incell['clusterSize'].max(),500);\n",
    "    ts = [];\n",
    "    incell_vs_outcell_probability = [];\n",
    "    for t in np.unique(df_incell[criterion]):\n",
    "        no_clusters_over_t_outcell  = np.sum(df_outcell[criterion]>t)/len(df_outcell[criterion]);\n",
    "        no_clusters_over_t_incell = np.sum(df_incell[criterion]>t)/len(df_incell[criterion]);\n",
    "        if(no_clusters_over_t_incell+no_clusters_over_t_outcell > 0):\n",
    "            incell_vs_outcell_probability.append(no_clusters_over_t_incell/(no_clusters_over_t_outcell+no_clusters_over_t_incell));\n",
    "            ts.append(t);\n",
    "\n",
    "    \n",
    "    if(len(incell_vs_outcell_probability)==0):\n",
    "        T = 0;\n",
    "        incell_vs_outcell_probability_max = 0;\n",
    "        no_clusters_incell = 0;\n",
    "        no_clusters_outcell = 0;        \n",
    "    else:    \n",
    "        incell_vs_outcell_probability_max = np.max(incell_vs_outcell_probability);\n",
    "        T = ts[np.argmax(incell_vs_outcell_probability)];\n",
    "        plt.plot(ts,incell_vs_outcell_probability);\n",
    "\n",
    "        no_clusters_incell              = np.sum(df_incell[criterion]>T);\n",
    "        no_clusters_outcell               = np.sum(df_outcell[criterion]>T);    \n",
    "        \n",
    "    return T,incell_vs_outcell_probability_max,no_clusters_incell,no_clusters_outcell;"
   ]
  },
  {
   "cell_type": "code",
   "execution_count": null,
   "metadata": {},
   "outputs": [],
   "source": [
    "df_incell = df_clusterSizes_all[(df_clusterSizes_all['type']=='incell')];\n",
    "df_outcell  = df_clusterSizes_all[(df_clusterSizes_all['type']=='outcell')];\n",
    "plt.subplots()\n",
    "T_,s_vs_n_,nocl_incell_,nocl_outcell_ = GetOptimalT(df_incell,df_outcell,'similarityScore');\n",
    "plt.subplots()\n",
    "T_,s_vs_n_,nocl_incell_,nocl_outcell_ = GetOptimalT(df_incell,df_outcell,'clusterSize');"
   ]
  },
  {
   "cell_type": "code",
   "execution_count": null,
   "metadata": {},
   "outputs": [],
   "source": [
    "def DefineCleanedLabels_GeneralLimit(df_clusterSizes_all,phasespace_all,criterion):\n",
    "    #\n",
    "#    criterion = 'clusterSize';\n",
    "    \n",
    "    labels_incell = [];\n",
    "    no_cl_incell  = [];        \n",
    "    labels_outcell  = [];\n",
    "    no_cl_outcell   = [];\n",
    "    T = [];\n",
    "    s_vs_n = [];\n",
    "    percent_locsIncluded_aboveT     = [];\n",
    "    percent_locsIncluded_aboveT_ref = [];    \n",
    "    \n",
    "    df_incell = df_clusterSizes_all[(df_clusterSizes_all['type']=='incell')];\n",
    "    df_outcell  = df_clusterSizes_all[(df_clusterSizes_all['type']=='outcell')];\n",
    "\n",
    "    T_,s_vs_n_,nocl_incell_,nocl_outcell_ = GetOptimalT(df_incell,df_outcell,criterion);\n",
    "    \n",
    "    \n",
    "    for idx,row in phasespace_all.iterrows():\n",
    "        th,si = row['threshold'],row['sigma'];\n",
    "\n",
    "        df_incell = df_clusterSizes_all[(df_clusterSizes_all['threshold']==th)&\\\n",
    "                        (df_clusterSizes_all['sigma']==si)&\\\n",
    "                        (df_clusterSizes_all['type']=='incell')];\n",
    "        df_outcell  = df_clusterSizes_all[(df_clusterSizes_all['threshold']==th)&\\\n",
    "                        (df_clusterSizes_all['sigma']==si)&\\\n",
    "                        (df_clusterSizes_all['type']=='outcell')];\n",
    "\n",
    "       # T_,s_vs_n_,nocl_incell_,nocl_outcell_ = GetOptimalT(df_incell,df_outcell,criterion);\n",
    "        nocl_incell_   = np.sum(df_incell[criterion]>T_);\n",
    "        no_cl_outcell_ = np.sum(df_outcell[criterion]>T_);        \n",
    "        \n",
    "        no_cl_incell.append(nocl_incell_);\n",
    "        no_cl_outcell.append(nocl_outcell_);        \n",
    "        T.append(T_);\n",
    "        s_vs_n.append(s_vs_n_);\n",
    "        \n",
    "        #*******************************************************\n",
    "        # Get labels of clusters larger than T\n",
    "        l_ = RemoveLabelsSmallerT(row['labels'],df_incell,T_,criterion)\n",
    "        labels_incell.append(l_);\n",
    "        percent_locsIncluded_aboveT.append(np.sum(l_>=0)/len(l_))        \n",
    "        \n",
    "        l_ = RemoveLabelsSmallerT(row['labels_ref'],df_outcell,T_,criterion)\n",
    "        labels_outcell.append(l_);\n",
    "        percent_locsIncluded_aboveT_ref.append(np.sum(l_>=0)/len(l_))                \n",
    "        #*******************************************************\n",
    "        \n",
    "        \n",
    "    phasespace_all['labels_aboveT'] = labels_incell;\n",
    "    phasespace_all['labels_aboveT_ref'] = labels_outcell;    \n",
    "    \n",
    "    phasespace_all['no_clusters_aboveT'] = no_cl_incell;\n",
    "    phasespace_all['no_clusters_aboveT_ref'] = no_cl_outcell;    \n",
    "    \n",
    "    phasespace_all['no_clusters_s_vs_n'] = s_vs_n;\n",
    "    phasespace_all['T'] =     T;\n",
    "    \n",
    "    phasespace_all['percent_locsIncluded_aboveT']     = percent_locsIncluded_aboveT;\n",
    "    phasespace_all['percent_locsIncluded_aboveT_ref'] = percent_locsIncluded_aboveT_ref;    \n",
    "\n",
    "    return phasespace_all;"
   ]
  },
  {
   "cell_type": "code",
   "execution_count": null,
   "metadata": {},
   "outputs": [],
   "source": [
    "def DefineCleanedLabels(df_clusterSizes_all,phasespace_all,criterion):\n",
    "    #\n",
    "#    criterion = 'clusterSize';\n",
    "    \n",
    "    labels_incell = [];\n",
    "    no_cl_incell  = [];        \n",
    "    labels_outcell  = [];\n",
    "    no_cl_outcell   = [];\n",
    "    T = [];\n",
    "    s_vs_n = [];\n",
    "    percent_locsIncluded_aboveT     = [];\n",
    "    percent_locsIncluded_aboveT_ref = [];    \n",
    "    \n",
    "    for idx,row in phasespace_all.iterrows():\n",
    "        th,si = row['threshold'],row['sigma'];\n",
    "\n",
    "        df_incell = df_clusterSizes_all[(df_clusterSizes_all['threshold']==th)&\\\n",
    "                        (df_clusterSizes_all['sigma']==si)&\\\n",
    "                        (df_clusterSizes_all['type']=='incell')];\n",
    "        df_outcell  = df_clusterSizes_all[(df_clusterSizes_all['threshold']==th)&\\\n",
    "                        (df_clusterSizes_all['sigma']==si)&\\\n",
    "                        (df_clusterSizes_all['type']=='outcell')];\n",
    "\n",
    "        T_,s_vs_n_,nocl_incell_,nocl_outcell_ = GetOptimalT(df_incell,df_outcell,criterion);\n",
    "        \n",
    "        no_cl_incell.append(nocl_incell_);\n",
    "        no_cl_outcell.append(nocl_outcell_);        \n",
    "        T.append(T_);\n",
    "        s_vs_n.append(s_vs_n_);\n",
    "        \n",
    "        #*******************************************************\n",
    "        # Get labels of clusters larger than T\n",
    "        l_ = RemoveLabelsSmallerT(row['labels'],df_incell,T_,criterion)\n",
    "        labels_incell.append(l_);\n",
    "        percent_locsIncluded_aboveT.append(np.sum(l_>=0)/len(l_))        \n",
    "        \n",
    "        l_ = RemoveLabelsSmallerT(row['labels_ref'],df_outcell,T_,criterion)\n",
    "        labels_outcell.append(l_);\n",
    "        percent_locsIncluded_aboveT_ref.append(np.sum(l_>=0)/len(l_))                \n",
    "        #*******************************************************\n",
    "        \n",
    "        \n",
    "    phasespace_all['labels_aboveT'] = labels_incell;\n",
    "    phasespace_all['labels_aboveT_ref'] = labels_outcell;    \n",
    "    \n",
    "    phasespace_all['no_clusters_aboveT'] = no_cl_incell;\n",
    "    phasespace_all['no_clusters_aboveT_ref'] = no_cl_outcell;    \n",
    "    \n",
    "    phasespace_all['no_clusters_s_vs_n'] = s_vs_n;\n",
    "    phasespace_all['T'] =     T;\n",
    "    \n",
    "    phasespace_all['percent_locsIncluded_aboveT']     = percent_locsIncluded_aboveT;\n",
    "    phasespace_all['percent_locsIncluded_aboveT_ref'] = percent_locsIncluded_aboveT_ref;    \n",
    "\n",
    "    return phasespace_all;"
   ]
  },
  {
   "cell_type": "code",
   "execution_count": null,
   "metadata": {},
   "outputs": [],
   "source": [
    "phasespace_all = DefineCleanedLabels_GeneralLimit(df_clusterSizes_all,phasespace_all,criterion='clusterSize');\n",
    "#phasespace_all = DefineCleanedLabels(df_clusterSizes_all,phasespace_all,criterion='similarityScore');"
   ]
  },
  {
   "cell_type": "code",
   "execution_count": null,
   "metadata": {},
   "outputs": [],
   "source": [
    "sns.pairplot(data=df_clusterSizes_all,vars=[\"similarityScore\",\"clusterSize\"],hue='type')"
   ]
  },
  {
   "cell_type": "code",
   "execution_count": null,
   "metadata": {},
   "outputs": [],
   "source": [
    "df_clusterSizes_all"
   ]
  },
  {
   "cell_type": "code",
   "execution_count": null,
   "metadata": {},
   "outputs": [],
   "source": [
    "df_clusterSizes_all.to_csv(save_name+'clusterSizes_all.txt',index=False)"
   ]
  },
  {
   "cell_type": "code",
   "execution_count": null,
   "metadata": {},
   "outputs": [],
   "source": [
    "fig,axs = plt.subplots(1,2,figsize=(13,6)); \n",
    "\n",
    "sns.set_theme(style=\"white\");\n",
    "\n",
    "sns.histplot(data=df_clusterSizes_all,x='clusterSize',hue='type',ax=axs[0],element=\"step\", fill=False,kde=True);\n",
    "\n",
    "axs[0].set_xlim(0,700);\n",
    "axs[0].set_ylim(0,300);\n",
    "\n",
    "axs[1].set_ylim(0,600);\n",
    "axs[1].set_xlim(0,200);\n",
    "\n",
    "sns.histplot(data=df_clusterSizes_all,x='similarityScore',hue='type',ax=axs[1],kde=True, element=\"step\", fill=False);\n",
    "#axs[1].set_xlim(0,700);\n",
    "\n",
    "plt.savefig(save_name+\"_SizeAndSimilarity.png\",bbox_inches=\"tight\");"
   ]
  },
  {
   "cell_type": "code",
   "execution_count": null,
   "metadata": {},
   "outputs": [],
   "source": [
    "sns.scatterplot(data=df_clusterSizes_all,x='clusterSize',y='similarityScore',alpha=0.2,hue='type');\n",
    "plt.xlim(0,700);"
   ]
  },
  {
   "cell_type": "code",
   "execution_count": null,
   "metadata": {},
   "outputs": [],
   "source": [
    "df_clusterSizes_all.groupby('type').mean()"
   ]
  },
  {
   "cell_type": "code",
   "execution_count": null,
   "metadata": {
    "scrolled": true
   },
   "outputs": [],
   "source": [
    "idx = 127;\n",
    "row = phasespace_all.loc[idx,:];\n",
    "labels_incell = row['labels_aboveT'];\n",
    "labels_outcell  = row['labels_aboveT_ref'];\n",
    "fig,axs = plt.subplots(1,2,figsize=(13,8)); \n",
    "PlotScatter(XC_incell,labels_incell,ax=axs[0])\n",
    "PlotScatter(XC_outcell,labels_outcell,ax=axs[1])\n",
    "axs[0].set_title('th = '+str(phasespace_all.loc[idx,'threshold'])+' , sig = '+str(phasespace_all.loc[idx,'sigma']));"
   ]
  },
  {
   "cell_type": "code",
   "execution_count": null,
   "metadata": {},
   "outputs": [],
   "source": [
    "fig,axs = plt.subplots(1,2,figsize=(14,6));\n",
    "\n",
    "ax = axs[0];\n",
    "heatmap1_data = pd.pivot_table(phasespace_all, values='percent_locsIncluded_aboveT', \n",
    "                     index=['threshold'], \n",
    "                     columns='sigma')\n",
    "ax = sns.heatmap(heatmap1_data,ax=ax,vmax=1);\n",
    "ax.invert_yaxis()\n",
    "ax.set_title('percent_locsIncluded_aboveT');\n",
    "\n",
    "ax = axs[1];\n",
    "heatmap1_data = pd.pivot_table(phasespace_all, values='percent_locsIncluded_aboveT_ref', \n",
    "                     index=['threshold'], \n",
    "                     columns='sigma')\n",
    "ax = sns.heatmap(heatmap1_data,ax=ax,vmax=1.);\n",
    "ax.invert_yaxis()\n",
    "ax.set_title('percent_locsIncluded_aboveT_ref');"
   ]
  },
  {
   "cell_type": "code",
   "execution_count": null,
   "metadata": {},
   "outputs": [],
   "source": [
    "#Not useful -- wanted to check whether \n",
    "phasespace_all['no_cl_in_vs_out'] = phasespace_all['no_clusters']/phasespace_all['no_clusters_ref'];\n",
    "\n",
    "fig,axs = plt.subplots(1,1,figsize=(6,6));\n",
    "\n",
    "ax = axs;\n",
    "heatmap1_data = pd.pivot_table(phasespace_all, values='no_cl_in_vs_out', \n",
    "                     index=['threshold'], \n",
    "                     columns='sigma')\n",
    "ax = sns.heatmap(heatmap1_data,ax=ax,vmax=3);\n",
    "ax.invert_yaxis()\n",
    "ax.set_title('percent_locsIncluded_aboveT');"
   ]
  },
  {
   "cell_type": "code",
   "execution_count": null,
   "metadata": {},
   "outputs": [],
   "source": [
    "fig,axs = plt.subplots(1,2,figsize=(14,6));\n",
    "\n",
    "ax = axs[0];\n",
    "heatmap1_data = pd.pivot_table(phasespace_all, values='similarityScore', \n",
    "                     index=['threshold'], \n",
    "                     columns='sigma')\n",
    "ax = sns.heatmap(heatmap1_data,ax=ax);\n",
    "ax.invert_yaxis()\n",
    "ax.set_title('similarityScore');\n",
    "\n",
    "ax = axs[1];\n",
    "heatmap1_data = pd.pivot_table(phasespace_all, values='no_clusters_s_vs_n', \n",
    "                     index=['threshold'], \n",
    "                     columns='sigma')\n",
    "ax = sns.heatmap(heatmap1_data,ax=ax);\n",
    "ax.invert_yaxis()\n",
    "ax.set_title('no_clusters_s_vs_n');"
   ]
  },
  {
   "cell_type": "code",
   "execution_count": null,
   "metadata": {},
   "outputs": [],
   "source": [
    "fig,axs = plt.subplots(1,2,figsize=(14,6));\n",
    "\n",
    "ax = axs[0];\n",
    "heatmap1_data = pd.pivot_table(phasespace_all, values='no_clusters_aboveT', \n",
    "                     index=['threshold'], \n",
    "                     columns='sigma')\n",
    "ax = sns.heatmap(heatmap1_data,ax=ax,vmax=50);\n",
    "ax.invert_yaxis()\n",
    "ax.set_title('no Clusters above T');\n",
    "\n",
    "ax = axs[1];\n",
    "heatmap1_data = pd.pivot_table(phasespace_all, values='no_clusters_aboveT_ref', \n",
    "                     index=['threshold'], \n",
    "                     columns='sigma')\n",
    "ax = sns.heatmap(heatmap1_data,ax=ax,vmax=50);\n",
    "ax.invert_yaxis()\n",
    "ax.set_title('no Clusters Ref above T');"
   ]
  },
  {
   "cell_type": "code",
   "execution_count": null,
   "metadata": {},
   "outputs": [],
   "source": [
    "threshold = 13;\n",
    "\n",
    "df_incell = df_clusterSizes_all_opt[(df_clusterSizes_all_opt['threshold']==threshold)*\\\n",
    "                (df_clusterSizes_all_opt['type']=='incell')];\n",
    "df_outcell  = df_clusterSizes_all_opt[(df_clusterSizes_all_opt['threshold']==threshold)*\\\n",
    "                (df_clusterSizes_all_opt['type']=='outcell')];\n",
    "GetOptimalT(df_incell,df_outcell,criterion='similarityScore')"
   ]
  },
  {
   "cell_type": "code",
   "execution_count": null,
   "metadata": {},
   "outputs": [],
   "source": [
    "phasespace_all['T']"
   ]
  },
  {
   "cell_type": "code",
   "execution_count": null,
   "metadata": {},
   "outputs": [],
   "source": [
    "for idx,row in df_opt_th.iterrows():\n",
    "    row_ps = phasespace_all.loc[row['idx'],:];\n",
    "                       \n",
    "    sigma = row['sigma'];\n",
    "    threshold = row['threshold'];\n",
    "    \n",
    "    fig,axs = plt.subplots(1,2,figsize=(13,8)); \n",
    "    PlotScatter(XC_incell,row_ps['labels_aboveT'],ax=axs[0])\n",
    "    PlotScatter(XC_outcell,row_ps['labels_aboveT_ref'],ax=axs[1])\n",
    "    axs[0].set_title('in cell for clusters with size > '+str(row_ps['T']));\n",
    "    axs[1].set_title('out cell for clusters with size > '+str(row_ps['T']));\n",
    "    \n",
    "    #axs[1].set_ylim([57500,62500]);\n",
    "    #axs[1].set_xlim([55000,60000]);\n",
    "    \n",
    "    if(True): \n",
    "        axs[0].axis('off');\n",
    "        axs[1].axis('off')\n",
    "    \n",
    "        axs[0].set_title('Inside of cell');\n",
    "        axs[1].set_title('Reference -- Outside of cell');\n",
    "    \n",
    "    plt.savefig(save_name+\"_OptimalClustering_split_threshold_\"+str(threshold)+\".png\",bbox_inches=\"tight\");"
   ]
  },
  {
   "cell_type": "code",
   "execution_count": null,
   "metadata": {},
   "outputs": [],
   "source": [
    "sns.displot(data=df_clusterSizes_all_opt[df_clusterSizes_all_opt['threshold']==25], x=\"clusterSize\",hue='type')"
   ]
  },
  {
   "cell_type": "code",
   "execution_count": null,
   "metadata": {},
   "outputs": [],
   "source": [
    "from scipy.optimize import curve_fit\n",
    "from scipy.special import factorial\n",
    "from scipy.stats import poisson\n",
    "from scipy.stats import nbinom\n",
    "\n",
    "def fit_function(k, lamb):\n",
    "    '''poisson function, parameter lamb is the fit parameter'''\n",
    "    return poisson.pmf(k, lamb)\n",
    "    \n",
    "def fit_function_nb(k,n,p):\n",
    "    '''poisson function, parameter lamb is the fit parameter'''\n",
    "    return nbinom.pmf(k, n,p)\n",
    "    \n",
    "    \n",
    "def GetPoissonParameters(data):\n",
    "    # the bins should be of integer width, because poisson is an integer distribution\n",
    "    bins = np.round(np.linspace(0,100,20));#np.arange(100) - 0.5\n",
    "    entries, bin_edges, patches = plt.hist(data, bins=bins, density=True, label='Data');\n",
    "\n",
    "    # calculate bin centres\n",
    "    bin_middles = 0.5 * (bin_edges[1:] + bin_edges[:-1])\n",
    "\n",
    "    # fit with curve_fit\n",
    "    parameters, cov_matrix = curve_fit(fit_function_nb, bin_middles, entries)\n",
    "    return parameters;"
   ]
  },
  {
   "cell_type": "code",
   "execution_count": null,
   "metadata": {},
   "outputs": [],
   "source": [
    "\n",
    "\n"
   ]
  },
  {
   "cell_type": "code",
   "execution_count": null,
   "metadata": {},
   "outputs": [],
   "source": [
    "x_plot = np.arange(600)\n",
    "np.sum(x_plot*fit_function_nb(x_plot,r,1-p))\n"
   ]
  },
  {
   "cell_type": "code",
   "execution_count": null,
   "metadata": {},
   "outputs": [],
   "source": []
  },
  {
   "cell_type": "code",
   "execution_count": null,
   "metadata": {},
   "outputs": [],
   "source": [
    "data_max = 200;\n",
    "\n",
    "mark = (df_clusterSizes_all['threshold']==11)*(df_clusterSizes_all['type']=='noise')\n",
    "data = np.array(df_clusterSizes_all.loc[mark,'clusterSize'])\n",
    "\n",
    "data = data[data < data_max]\n",
    "\n",
    "E,V = np.mean(data),np.var(data);\n",
    "r = E**2/(V-E);\n",
    "p = 1-E/V;\n",
    "\n",
    "print('r :',r,' p: ',p);\n",
    "\n",
    "# plot poisson-deviation with fitted parameter\n",
    "bins = np.round(np.linspace(1,data_max,20));#np.arange(100) - 0.5\n",
    "x_plot = np.round(np.linspace(1,data_max,20));#np.arange(100);\n",
    "\n",
    "plt.hist(data, bins=bins, density=True, label='Data');\n",
    "plt.plot(\n",
    "    x_plot,\n",
    "    fit_function_nb(x_plot,r,1-p),\n",
    "    marker='o', linestyle='',\n",
    "    label='Fit result',\n",
    ")\n",
    "plt.legend()\n",
    "plt.show()"
   ]
  },
  {
   "cell_type": "code",
   "execution_count": null,
   "metadata": {},
   "outputs": [],
   "source": [
    "# the bins should be of integer width, because poisson is an integer distribution\n",
    "bins = np.round(np.linspace(1,100,20));#np.arange(100) - 0.5\n",
    "entries, bin_edges, patches = plt.hist(data, bins=bins, density=True, label='Data');\n",
    "\n",
    "# calculate bin centres\n",
    "bin_middles = np.round(0.5 * (bin_edges[1:] + bin_edges[:-1]))\n",
    "\n",
    "# fit with curve_fit\n",
    "parameters, cov_matrix = curve_fit(fit_function_nb, bin_middles, entries)"
   ]
  },
  {
   "cell_type": "code",
   "execution_count": null,
   "metadata": {},
   "outputs": [],
   "source": [
    "cov_matrix"
   ]
  },
  {
   "cell_type": "code",
   "execution_count": null,
   "metadata": {},
   "outputs": [],
   "source": [
    "data\n",
    "\n",
    "bins = np.linspace(0,100,20);\n",
    "entries, bin_edges, patches = plt.hist(data, bins=bins, density=True);\n",
    "\n"
   ]
  },
  {
   "cell_type": "code",
   "execution_count": null,
   "metadata": {},
   "outputs": [],
   "source": [
    "# get poisson deviated random numbers\n",
    "#data = np.random.poisson(2, 1000)\n",
    "mark = (df_clusterSizes_all['threshold']==11)*(df_clusterSizes_all['type']=='incell')\n",
    "data = np.array(df_clusterSizes_all.loc[mark,'clusterSize'])\n",
    "parameters = GetPoissonParameters(data)\n",
    "print(parameters)\n",
    "\n",
    "# plot poisson-deviation with fitted parameter\n",
    "x_plot = np.round(np.linspace(1,100,20));#np.arange(100);\n",
    "\n",
    "plt.plot(\n",
    "    x_plot,\n",
    "    fit_function_nb(x_plot,10,0.3),\n",
    "    marker='o', linestyle='',\n",
    "    label='Fit result',\n",
    ")\n",
    "plt.legend()\n",
    "plt.show()"
   ]
  },
  {
   "cell_type": "code",
   "execution_count": null,
   "metadata": {},
   "outputs": [],
   "source": [
    "df_clusterSizes_all.query('clusterSize < 100')"
   ]
  },
  {
   "cell_type": "code",
   "execution_count": null,
   "metadata": {},
   "outputs": [],
   "source": [
    "df_clusterSizes_all.query('clusterSize < 100').groupby(by=['threshold','type']).agg(['mean','std'])"
   ]
  },
  {
   "cell_type": "code",
   "execution_count": null,
   "metadata": {},
   "outputs": [],
   "source": [
    "df_clusterSizes_all"
   ]
  },
  {
   "cell_type": "code",
   "execution_count": null,
   "metadata": {},
   "outputs": [],
   "source": [
    "(df_clusterSizes['type']).unique()"
   ]
  },
  {
   "cell_type": "code",
   "execution_count": null,
   "metadata": {
    "scrolled": false
   },
   "outputs": [],
   "source": [
    "df_stats_per_th = AnalyseClusterSizes(df_clusterSizes,df_clusterSizes_ref,save_name+\"_phasespace_alongLineOfOptima.pdf\");"
   ]
  },
  {
   "cell_type": "code",
   "execution_count": null,
   "metadata": {},
   "outputs": [],
   "source": [
    "fig,axs = plt.subplots(1,2,figsize=(12,6))\n",
    "sns.lineplot(data=df_stats_per_th,x='threshold',y='quantile_90',hue='type',ax=axs[0]);\n",
    "sns.lineplot(data=df_stats_per_th,x='threshold',y='n',hue='type',ax=axs[1]);"
   ]
  },
  {
   "cell_type": "code",
   "execution_count": null,
   "metadata": {},
   "outputs": [],
   "source": [
    "for th in np.unique(df_opt_th['threshold']):\n",
    "    idx_ = int(df_opt_th.loc[df_opt_th['threshold']==th,'idx'])\n",
    "\n",
    "    fig,axs = plt.subplots(1,2,figsize=(13,8)); \n",
    "    PlotScatter(XC_incell,FD.phasespace.loc[idx_,'labels'],ax=axs[0])\n",
    "    PlotScatter(XC_outcell,FD_ref.phasespace.loc[idx_,'labels'],ax=axs[1])\n",
    "    axs[0].set_title('in cell');\n",
    "    axs[1].set_title('out cell');\n",
    "    \n",
    "    #axs[1].set_ylim([50,70]);\n",
    "    #axs[1].set_xlim([50,70]);\n",
    "    \n",
    "    if(True): \n",
    "        axs[0].axis('off');\n",
    "        axs[1].axis('off')\n",
    "    \n",
    "        axs[0].set_title('Inside of cell');\n",
    "        axs[1].set_title('Reference -- Outside of cell');\n",
    "    \n",
    "    plt.savefig(save_name+\"_OptimalClustering_threshold_\"+str(th)+\".png\",bbox_inches=\"tight\");"
   ]
  },
  {
   "cell_type": "markdown",
   "metadata": {},
   "source": [
    "## Analyse signal vs noise"
   ]
  },
  {
   "cell_type": "code",
   "execution_count": null,
   "metadata": {},
   "outputs": [],
   "source": [
    "fig,axs = plt.subplots(1,2,figsize=(15,7));\n",
    "\n",
    "ax      = axs[0];\n",
    "sns.scatterplot(data=df1,x='similarityScore_ref',y=\"similarityScore\",hue='sigma',size='threshold',ax=ax);\n",
    "#ax.scatter(df1.loc[idx_similarityScore,'similarityScore_ref'],df1.loc[idx_similarityScore,'similarityScore'],c='r',marker='s');\n",
    "#ax.scatter(df1.loc[idx_no_clusters,'similarityScore_ref'],df1.loc[idx_no_clusters,'similarityScore'],c='b',marker='s');\n",
    "sns.lineplot(data=df_opt_sim,x='similarityScore_ref',y=\"similarityScore\",color='r',ax=ax)\n",
    "sns.lineplot(data=df_opt_cl,x='similarityScore_ref',y=\"similarityScore\",color='b',ax=ax)\n",
    "ax.set_title('ordered by similarity score');\n",
    "\n",
    "ax      = axs[1];\n",
    "sns.scatterplot(data=df1,x='no_clusters_ref',y=\"no_clusters\",hue='sigma',size='threshold',ax=ax);\n",
    "#ax.scatter(df1.loc[idx_similarityScore,'no_clusters_ref'],df1.loc[idx_similarityScore,'no_clusters'],c='r',marker='s');\n",
    "#ax.scatter(df1.loc[idx_no_clusters,'no_clusters_ref'],df1.loc[idx_no_clusters,'no_clusters'],c='b',marker='s');\n",
    "sns.lineplot(data=df_opt_sim,x='no_clusters_ref',y=\"no_clusters\",ax=ax,color='r')\n",
    "sns.lineplot(data=df_opt_cl,x='no_clusters_ref',y=\"no_clusters\",ax=ax,color='b')\n",
    "ax.set_title('ordered by no of clusters');\n",
    "\n",
    "plt.savefig(save_name+\"_phasespace_ordered.pdf\",bbox_inches=\"tight\");\n",
    "#ax.set_xlim(-10,2000);\n",
    "#ax.set_xlim(0,30);"
   ]
  },
  {
   "cell_type": "code",
   "execution_count": null,
   "metadata": {},
   "outputs": [],
   "source": [
    "fig,axs = plt.subplots(1,2,figsize=(15,7));\n",
    "\n",
    "ax      = axs[0];\n",
    "sns.scatterplot(data=df1,x='similarityScore_ref_ratio',y=\"similarityScore\",hue='sigma',size='threshold',ax=ax);\n",
    "#ax.scatter(df1.loc[idx_similarityScore,'similarityScore_ref_ratio'],df1.loc[idx_similarityScore,'similarityScore'],c='r',marker='s');\n",
    "#ax.scatter(df1.loc[idx_no_clusters,'similarityScore_ref_ratio'],df1.loc[idx_no_clusters,'similarityScore'],c='b',marker='s');\n",
    "ax.set_xlim(0,1);\n",
    "#ax.set_ylim(-10,4000);\n",
    "\n",
    "ax = axs[1];\n",
    "sns.scatterplot(data=df1,x='no_clusters_ref_ratio',y=\"no_clusters\",hue='sigma',size='threshold',ax=ax);\n",
    "#ax.scatter(df1.loc[idx_similarityScore,'no_clusters_ref_ratio'],df1.loc[idx_similarityScore,'no_clusters'],c='r',marker='s');\n",
    "#ax.scatter(df1.loc[idx_no_clusters,'no_clusters_ref_ratio'],df1.loc[idx_no_clusters,'no_clusters'],c='b',marker='s');\n",
    "ax.set_xlim(0,0.5);"
   ]
  },
  {
   "cell_type": "code",
   "execution_count": null,
   "metadata": {},
   "outputs": [],
   "source": [
    "fig,axs = plt.subplots(1,2,figsize=(15,7));\n",
    "\n",
    "ax      = axs[0];\n",
    "sns.scatterplot(data=df1,x='no_clusters_ref',y=\"similarityScore\",hue='sigma',size='threshold',ax=ax);\n",
    "#ax.scatter(df1.loc[idx_similarityScore,'no_clusters_ref'],df1.loc[idx_similarityScore,'similarityScore'],c='r',marker='s');\n",
    "#ax.scatter(df1.loc[idx_no_clusters,'no_clusters_ref'],df1.loc[idx_no_clusters,'similarityScore'],c='b',marker='s');\n",
    "#ax.set_xlim(-10,2000);\n",
    "#ax.set_ylim(-10,4000);\n",
    "\n",
    "ax = axs[1];\n",
    "sns.scatterplot(data=df1,x='no_clusters_ref',y=\"no_clusters\",hue='sigma',size='threshold',ax=ax);\n",
    "#ax.scatter(df1.loc[idx_similarityScore,'no_clusters_ref'],df1.loc[idx_similarityScore,'no_clusters'],c='r',marker='s');\n",
    "#ax.scatter(df1.loc[idx_no_clusters,'no_clusters_ref'],df1.loc[idx_no_clusters,'no_clusters'],c='b',marker='s');\n",
    "#ax.set_xlim(-1,20);\n",
    "#ax.set_ylim(-1,50);"
   ]
  },
  {
   "cell_type": "markdown",
   "metadata": {},
   "source": [
    "# Save for input in R "
   ]
  },
  {
   "cell_type": "code",
   "execution_count": null,
   "metadata": {},
   "outputs": [],
   "source": [
    "#Save phasespace in csv\n",
    "FD_all1 = (FD.phasespace);\n",
    "FD_all1['type'] = 'incell';\n",
    "\n",
    "FD_all2         = (FD_ref.phasespace);\n",
    "FD_all2['type'] = 'outcell';\n",
    "\n",
    "(FD_all1.append(FD_all2,ignore_index=True)).to_csv(outputfolder_R+'results_'+analysis_name+'.csv');\n",
    "#(FD.phasespace).to_csv(outputfolder+'results_phasespace'+analysis_name+'.csv');"
   ]
  },
  {
   "cell_type": "code",
   "execution_count": null,
   "metadata": {},
   "outputs": [],
   "source": [
    "L = np.zeros((len((FD.phasespace).loc[1,'labels']),len(FD.phasespace)),dtype=np.int32)\n",
    "for i,d in enumerate(FD.phasespace['labels']):\n",
    "    L[:,i] = d;\n",
    "np.savetxt(outputfolder_R+analysis_name+\"_labels_incell.txt\",L,fmt=\"%d\",delimiter='\\t',newline='\\n');    "
   ]
  },
  {
   "cell_type": "code",
   "execution_count": null,
   "metadata": {},
   "outputs": [],
   "source": [
    "L = np.zeros((len((FD_ref.phasespace).loc[1,'labels']),len(FD_ref.phasespace)),dtype=np.int32)\n",
    "for i,d in enumerate(FD_ref.phasespace['labels']):\n",
    "    L[:,i] = d;\n",
    "np.savetxt(outputfolder_R+analysis_name+\"_labels_outcell.txt\",L,fmt=\"%d\",delimiter='\\t',newline='\\n');    "
   ]
  },
  {
   "cell_type": "code",
   "execution_count": null,
   "metadata": {},
   "outputs": [],
   "source": [
    "np.savetxt(outputfolder_R+analysis_name+\"_filtered_outcell.txt\",XC_outcell,fmt=\"%f\\t%f\");\n",
    "np.savetxt(outputfolder_R+analysis_name+\"_filtered_incell.txt\",XC_incell,fmt=\"%f\\t%f\");    "
   ]
  },
  {
   "cell_type": "code",
   "execution_count": null,
   "metadata": {},
   "outputs": [],
   "source": []
  },
  {
   "cell_type": "code",
   "execution_count": null,
   "metadata": {},
   "outputs": [],
   "source": [
    "cls_distribution = [];\n",
    "ind = np.zeros((0,),dtype=int);\n",
    "for i,d in enumerate(FD.phasespace['labels']):\n",
    "    d_ = GetClusterDistribution(d);\n",
    "    cls_distribution += (d_);\n",
    "    ind = np.concatenate((ind,i*np.ones_like(d_,dtype=int)))\n",
    "    \n",
    "cls_d = pd.DataFrame();\n",
    "cls_d['size'] = cls_distribution\n",
    "cls_d['index'] = (ind);\n",
    "cls_d.to_csv(outputfolder_R+analysis_name+\"_clusterSizes.txt\")"
   ]
  },
  {
   "cell_type": "code",
   "execution_count": null,
   "metadata": {},
   "outputs": [],
   "source": [
    "#with open(outputfolder_R+analysis_name+\"_clusterSizes.txt\", \"w\") as txt_file:\n",
    "#    for i,d in enumerate(FD.phasespace['labels']):\n",
    "#        d_ = GetClusterDistribution(d);\n",
    "#        txt_file.write(' '.join(str(x) for x in d_)+'\\n') # works with any number of el"
   ]
  },
  {
   "cell_type": "markdown",
   "metadata": {},
   "source": [
    "# Analysis"
   ]
  },
  {
   "cell_type": "code",
   "execution_count": null,
   "metadata": {},
   "outputs": [],
   "source": [
    "#Select a clustering:\n",
    "if(False):\n",
    "    limit_outcell_to_incell = 0.4;\n",
    "    \n",
    "    # (1) based on number of clusters\n",
    "    mark_ = (df1['similarityScore_ref_ratio'] < limit_outcell_to_incell);\n",
    "    idx_similarityScore  = (df1.loc[mark_,'similarityScore']).idxmax();\n",
    "#    print(df1.loc[idx_similarityScore,:])\n",
    "\n",
    "    # (1) based on number of clusters\n",
    "    mark_ = (df1['no_clusters_ref_ratio'] < limit_outcell_to_incell);\n",
    "    idx_no_clusters  = (df1.loc[mark_,'no_clusters']).idxmax();\n",
    "#    print(df1.loc[idx_no_clusters,:])\n",
    "else:\n",
    "    limit_outcell_no_cluster = 4;    \n",
    "    limit_outcell_similarity = 320;\n",
    "        \n",
    "    # (1) based on number of clusters\n",
    "    mark_ = (df1['similarityScore_ref'] < limit_outcell_similarity);\n",
    "    idx_similarityScore  = (df1.loc[mark_,'similarityScore']).idxmax();\n",
    "#    print(df1.loc[idx_similarityScore,:])\n",
    "\n",
    "    # (1) based on number of clusters\n",
    "    mark_ = (df1['no_clusters_ref'] < limit_outcell_no_cluster);\n",
    "    idx_no_clusters  = (df1.loc[mark_,'no_clusters']).idxmax();\n",
    "#    print(df1.loc[idx_no_clusters,:])"
   ]
  },
  {
   "cell_type": "code",
   "execution_count": null,
   "metadata": {
    "scrolled": true
   },
   "outputs": [],
   "source": [
    "fig,axs = plt.subplots(2,2,figsize=(13,13)); \n",
    "PlotScatter(XC_incell,FD.phasespace.loc[idx_similarityScore,'labels'],ax=axs[0,0])\n",
    "PlotScatter(XC_incell,FD.phasespace.loc[idx_no_clusters,'labels'],ax=axs[0,1])\n",
    "\n",
    "PlotScatter(XC_outcell,FD_ref.phasespace.loc[idx_similarityScore,'labels'],ax=axs[1,0])\n",
    "PlotScatter(XC_outcell,FD_ref.phasespace.loc[idx_no_clusters,'labels'],ax=axs[1,1])"
   ]
  },
  {
   "cell_type": "code",
   "execution_count": null,
   "metadata": {},
   "outputs": [],
   "source": [
    "# Analysis: Did we reach a plateau?\n",
    "def Plateau_analysis(x,y):    \n",
    "    x =np.asarray(x);\n",
    "    y =np.asarray(y);    \n",
    "    \n",
    "    y = 0.5*(y[1:]+y[:-1]);\n",
    "    x = 0.5*(x[1:]+x[:-1]);    \n",
    "    \n",
    "    dydx = (y[1:]-y[:-1])/(x[1:]-x[:-1]);\n",
    "#    print(dydx)\n",
    "#    print(y)\n",
    "    plt.plot(x[1:],dydx/y[0],'r');\n",
    "#    plt.plot(x,y,'b');"
   ]
  },
  {
   "cell_type": "code",
   "execution_count": null,
   "metadata": {},
   "outputs": [],
   "source": [
    "Plateau_analysis(df_stats_per_th['threshold'],df_stats_per_th['firstBin'])\n",
    "plt.xlim(0,20)"
   ]
  },
  {
   "cell_type": "code",
   "execution_count": null,
   "metadata": {},
   "outputs": [],
   "source": [
    "z = df_stats_per_th['kurtosis'];\n",
    "sns.lineplot(df_stats_per_th['threshold'][1:],np.abs(np.asarray(z[1:])-np.asarray(z[:-1])),label='kurtosis');"
   ]
  },
  {
   "cell_type": "code",
   "execution_count": null,
   "metadata": {},
   "outputs": [],
   "source": [
    "np.arange(np.max(df_clusterSizes['threshold']))"
   ]
  },
  {
   "cell_type": "code",
   "execution_count": null,
   "metadata": {},
   "outputs": [],
   "source": []
  },
  {
   "cell_type": "code",
   "execution_count": null,
   "metadata": {},
   "outputs": [],
   "source": [
    "sns.histplot(df_clusterSizes.loc[df_clusterSizes['threshold']==11,'clusterSize'],bins=np.linspace(0,100,101)+0.5)"
   ]
  },
  {
   "cell_type": "code",
   "execution_count": null,
   "metadata": {},
   "outputs": [],
   "source": [
    "plt.plot(df_opt_sim['sigma'],df_opt_sim['threshold']);\n",
    "sns.scatterplot(x=df_opt_sim['sigma'],y=df_opt_sim['threshold'],hue=df_opt_sim['similarityScore'],s=100);\n",
    "plt.xlim(np.min(df1['sigma']),np.max(df1['sigma']))\n",
    "plt.ylim(np.min(df1['threshold']),np.max(df1['threshold']))"
   ]
  },
  {
   "cell_type": "code",
   "execution_count": null,
   "metadata": {},
   "outputs": [],
   "source": [
    "plt.plot(df_opt_cl['sigma'],df_opt_cl['threshold']);\n",
    "sns.scatterplot(x=df_opt_cl['sigma'],y=df_opt_cl['threshold'],hue=df_opt_cl['no_clusters'],s=100);\n",
    "plt.xlim(np.min(df1['sigma']),np.max(df1['sigma']))\n",
    "plt.ylim(np.min(df1['threshold']),np.max(df1['threshold']))"
   ]
  },
  {
   "cell_type": "code",
   "execution_count": null,
   "metadata": {},
   "outputs": [],
   "source": [
    "df1['no_clusters_diff'] = np.asarray(df1.loc[:,'no_clusters'])-np.asarray(df1_ref.loc[:,'no_clusters'])\n",
    "df1 = df1.fillna(0)\n",
    "\n",
    "fig,axs = plt.subplots(1,2,figsize=(12,5));\n",
    "\n",
    "heatmap1_data = pd.pivot_table(df1, values='no_clusters_diff', \n",
    "                     index=['threshold'], \n",
    "                     columns='sigma')\n",
    "ax = sns.heatmap(heatmap1_data,ax=axs[0]);\n",
    "ax.invert_yaxis()\n",
    "\n",
    "heatmap1_data = pd.pivot_table(df1, values='no_clusters', \n",
    "                     index=['threshold'], \n",
    "                     columns='sigma')\n",
    "ax = sns.heatmap(heatmap1_data,ax=axs[1]);\n",
    "ax.invert_yaxis()"
   ]
  },
  {
   "cell_type": "code",
   "execution_count": null,
   "metadata": {},
   "outputs": [],
   "source": [
    "for th in np.unique(FD.phasespace['threshold']):\n",
    "    mark = (FD.phasespace['threshold'] == th);\n",
    "    PS_sel = FD.phasespace.loc[mark,:];\n",
    "    idx_max = PS_sel['similarityScore'].idxmax();\n",
    "    PlotScatter(XC_incell,PS_sel.loc[idx_max,'labels']);#,str(th));"
   ]
  },
  {
   "cell_type": "code",
   "execution_count": null,
   "metadata": {},
   "outputs": [],
   "source": [
    "PS_sel.loc[:,'labels']"
   ]
  },
  {
   "cell_type": "markdown",
   "metadata": {},
   "source": [
    "# Experiment"
   ]
  },
  {
   "cell_type": "code",
   "execution_count": null,
   "metadata": {},
   "outputs": [],
   "source": [
    "# calculate the kl divergence\n",
    "def kl_divergence(p, q):\n",
    "    return sum(p[i] * np.log2(p[i]/q[i]) for i in range(len(p)))"
   ]
  },
  {
   "cell_type": "code",
   "execution_count": null,
   "metadata": {},
   "outputs": [],
   "source": [
    "def GetCLDist(th):\n",
    "    data = df_clusterSizes[df_clusterSizes['threshold']==th].loc[:,'clusterSize'];\n",
    "    bin_no = (np.histogram(data, bins)[0])/np.sum(np.histogram(data, bins)[0]);\n",
    "    return bin_no;"
   ]
  },
  {
   "cell_type": "code",
   "execution_count": null,
   "metadata": {},
   "outputs": [],
   "source": [
    "GetCLDist(3)"
   ]
  },
  {
   "cell_type": "code",
   "execution_count": null,
   "metadata": {},
   "outputs": [],
   "source": [
    "bins = np.linspace(0,50,11)"
   ]
  },
  {
   "cell_type": "code",
   "execution_count": null,
   "metadata": {},
   "outputs": [],
   "source": [
    "bins"
   ]
  },
  {
   "cell_type": "code",
   "execution_count": null,
   "metadata": {},
   "outputs": [],
   "source": []
  },
  {
   "cell_type": "code",
   "execution_count": null,
   "metadata": {},
   "outputs": [],
   "source": [
    "np.histogram(data, bins,weights=data)[0]"
   ]
  },
  {
   "cell_type": "code",
   "execution_count": null,
   "metadata": {},
   "outputs": [],
   "source": [
    "kl_divergence(GetCLDist(3),GetCLDist(9))"
   ]
  },
  {
   "cell_type": "code",
   "execution_count": null,
   "metadata": {},
   "outputs": [],
   "source": [
    "np.log2(2)"
   ]
  },
  {
   "cell_type": "code",
   "execution_count": null,
   "metadata": {},
   "outputs": [],
   "source": [
    "np.sum(mark)"
   ]
  },
  {
   "cell_type": "code",
   "execution_count": null,
   "metadata": {},
   "outputs": [],
   "source": []
  }
 ],
 "metadata": {
  "kernelspec": {
   "display_name": "Python 3",
   "language": "python",
   "name": "python3"
  },
  "language_info": {
   "codemirror_mode": {
    "name": "ipython",
    "version": 3
   },
   "file_extension": ".py",
   "mimetype": "text/x-python",
   "name": "python",
   "nbconvert_exporter": "python",
   "pygments_lexer": "ipython3",
   "version": "3.8.3"
  }
 },
 "nbformat": 4,
 "nbformat_minor": 4
}
